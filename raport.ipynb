{
 "cells": [
  {
   "cell_type": "markdown",
   "metadata": {
    "tags": []
   },
   "source": [
    "# Raport 2"
   ]
  },
  {
   "cell_type": "markdown",
   "metadata": {},
   "source": [
    "**Emil Olzewski, 268789**"
   ]
  },
  {
   "cell_type": "code",
   "execution_count": 1,
   "metadata": {},
   "outputs": [],
   "source": [
    "using Plots\n",
    "using Distributions\n",
    "using Statistics\n",
    "using LaTeXStrings\n",
    "using LinearAlgebra\n",
    "using BenchmarkTools\n",
    "using StatsPlots\n",
    "using StatsBase"
   ]
  },
  {
   "cell_type": "markdown",
   "metadata": {},
   "source": [
    "**Uwagi**:\n",
    "* Ze względu na parametryzację rozkładu wykładniczego w Julii, rozkład $\\text{Exp}(\\lambda)$ uzyskuje się poprzez `Exponential(1/λ)` tak jak przedstawiono w dokumentacji poniżej."
   ]
  },
  {
   "cell_type": "code",
   "execution_count": null,
   "metadata": {},
   "outputs": [],
   "source": [
    "?Exponential"
   ]
  },
  {
   "cell_type": "markdown",
   "metadata": {},
   "source": [
    "## Zadanie 1"
   ]
  },
  {
   "cell_type": "markdown",
   "metadata": {},
   "source": [
    "**Szum telegraficzny**"
   ]
  },
  {
   "cell_type": "code",
   "execution_count": 2,
   "metadata": {},
   "outputs": [
    {
     "data": {
      "text/plain": [
       "poisson_proc (generic function with 1 method)"
      ]
     },
     "execution_count": 2,
     "metadata": {},
     "output_type": "execute_result"
    }
   ],
   "source": [
    "# Funkcja generująca jednorodny proces Poissona\n",
    "function poisson_proc(T::Real, λ::Real)\n",
    "\n",
    "    times = Float64[]\n",
    "    t = 0\n",
    "\n",
    "    while t < T\n",
    "        Δt = rand(Exponential(1/λ))\n",
    "        t += Δt\n",
    "        push!(times, t)\n",
    "    end\n",
    "\n",
    "    return (times, 0:length(times)-1)\n",
    "end"
   ]
  },
  {
   "cell_type": "code",
   "execution_count": null,
   "metadata": {},
   "outputs": [],
   "source": [
    "# Wykres trajektorii procesu Poissona\n",
    "function plot_poisson(traj::Tuple{AbstractVector, AbstractVector}; kwargs...)\n",
    "   plot(traj[1], traj[2], seriestype=:steppre; kwargs...) \n",
    "end"
   ]
  },
  {
   "cell_type": "code",
   "execution_count": null,
   "metadata": {},
   "outputs": [],
   "source": [
    "plot_poisson(poisson_proc(100, 2), title=\"Jednorodny proces Poissona\", label=nothing, xlabel=L\"t\", ylabel=L\"N_t\")"
   ]
  },
  {
   "cell_type": "code",
   "execution_count": 3,
   "metadata": {},
   "outputs": [
    {
     "data": {
      "text/plain": [
       "noise (generic function with 1 method)"
      ]
     },
     "execution_count": 3,
     "metadata": {},
     "output_type": "execute_result"
    }
   ],
   "source": [
    "# Funkcja generująca proces szumu telegraficznego\n",
    "function noise(T::Real, λ::Real)\n",
    "\n",
    "    times, pois = poisson_proc(T, λ)\n",
    "\n",
    "    # D z rozkładu dwupunktowego P(D=1)=P(D=-1)=1/2\n",
    "    D = 2rand(Bernoulli(0.5)) - 1\n",
    "\n",
    "    # Zwraca czasy oczekiwania, wartości procesu i wartość początkową\n",
    "    return (times, D .* (-1) .^ pois, D)\n",
    "\n",
    "end"
   ]
  },
  {
   "cell_type": "code",
   "execution_count": null,
   "metadata": {},
   "outputs": [],
   "source": [
    "# Wykres trajektorii procesu szumu telegraficznego\n",
    "function plot_noise(T::Real, λ::Real)\n",
    "    \n",
    "    times, xs, _ = noise(T, λ)\n",
    "    \n",
    "    plot(\n",
    "        title=\"Szum telegraficzny\",\n",
    "        xlabel=L\"t\",\n",
    "        ylabel=L\"X_t\",\n",
    "        legend=nothing\n",
    "    )\n",
    "\n",
    "    # plotowanie schodków\n",
    "    for i in 1:length(times) - 1\n",
    "        plot!(\n",
    "            times[i:i+1],\n",
    "            [xs[i], xs[i]],\n",
    "            lw=2,\n",
    "            color=:dodgerblue1,\n",
    "            label=nothing\n",
    "        )\n",
    "    end\n",
    "\n",
    "    # przedziały domknięte lewostronnie\n",
    "    scatter!(\n",
    "        times[1:end-1],\n",
    "        xs[1:end-1],\n",
    "        markersize=3,\n",
    "        color=:dodgerblue1,\n",
    "        label=nothing\n",
    "    )\n",
    "\n",
    "    # otwarte prawostronnie\n",
    "    scatter!(\n",
    "        times[2:end],\n",
    "        xs[1:end-1],\n",
    "        markersize=3,\n",
    "        markercolor=:white,\n",
    "        label=nothing\n",
    "    )\n",
    "end"
   ]
  },
  {
   "cell_type": "code",
   "execution_count": null,
   "metadata": {},
   "outputs": [],
   "source": [
    "plot_noise(10, 1)"
   ]
  },
  {
   "cell_type": "code",
   "execution_count": null,
   "metadata": {},
   "outputs": [],
   "source": [
    "# Średnia wartość szumu w czasie t\n",
    "function noise_expected_value(T::Real, λ::Real, t::Real; num_of_runs::Integer=100)\n",
    "\n",
    "    accum = 0\n",
    "    \n",
    "    for _ in 1:num_of_runs\n",
    "        \n",
    "        ts, xs, D = noise(T, λ)\n",
    "        idx = findfirst(x -> t < x, ts) - 1\n",
    "        \n",
    "        accum += idx == 0 ? D : xs[idx] \n",
    "    \n",
    "    end\n",
    "\n",
    "    return accum/num_of_runs\n",
    "\n",
    "end"
   ]
  },
  {
   "cell_type": "code",
   "execution_count": null,
   "metadata": {},
   "outputs": [],
   "source": [
    "# Wykres funkcji średniej szumu telegraficznego\n",
    "function plot_expected_value(T::Real, λ::Real; num_of_runs::Integer=1000, time_step::Real=0.1)\n",
    "    \n",
    "    ts = 0:time_step:T\n",
    "    mt = noise_expected_value.(T, λ, ts; num_of_runs)\n",
    "    scatter(ts, mt, label=\"Średnia wartość szumu w czasie t\", xlabel=\"t\", ylims=(-0.5,0.5))\n",
    "\n",
    "end"
   ]
  },
  {
   "cell_type": "code",
   "execution_count": null,
   "metadata": {},
   "outputs": [],
   "source": [
    "plot_expected_value(40, 2)"
   ]
  },
  {
   "cell_type": "markdown",
   "metadata": {},
   "source": [
    "Kowariancję będziemy estymować ze wzoru\n",
    "$$\\hat{\\text{cov}}(X, Y) = \\frac{1}{n-1}\\,\\sum_{i=1}^n \\left(X_i - \\overline{X}\\right)\\,\\left(Y_i - \\overline{Y}\\right)$$"
   ]
  },
  {
   "cell_type": "code",
   "execution_count": 4,
   "metadata": {},
   "outputs": [
    {
     "data": {
      "text/plain": [
       "covariance (generic function with 1 method)"
      ]
     },
     "execution_count": 4,
     "metadata": {},
     "output_type": "execute_result"
    }
   ],
   "source": [
    "# Skorzystamy z faktu, że N(0) = 0, więc X(0) = D\n",
    "function covariance(T::Real, λ::Real, t::Real; num_of_runs::Integer=100)\n",
    "\n",
    "    ds = zeros(num_of_runs)\n",
    "    xts = zeros(num_of_runs)\n",
    "\n",
    "\n",
    "    for i in 1:num_of_runs\n",
    "        ts, xs, D = noise(T, λ)\n",
    "        idx = findfirst(x -> t < x, ts)\n",
    "        xt = xs[idx]\n",
    "        ds[i] =  D\n",
    "        xts[i] = xt\n",
    "    end\n",
    "\n",
    "\n",
    "    return sum((ds .- mean(ds)) .* (xts .- mean(xts))) / (num_of_runs - 1)\n",
    "        \n",
    "\n",
    "end"
   ]
  },
  {
   "cell_type": "markdown",
   "metadata": {},
   "source": [
    "Użyty estymator kowariancji jest estymatorem nieobciążonym, więc jego wartość srednia zbiega do rzeczywistej wartości kowariancji."
   ]
  },
  {
   "cell_type": "code",
   "execution_count": 5,
   "metadata": {},
   "outputs": [
    {
     "data": {
      "text/plain": [
       "plot_covariance (generic function with 1 method)"
      ]
     },
     "execution_count": 5,
     "metadata": {},
     "output_type": "execute_result"
    }
   ],
   "source": [
    "function plot_covariance(T::Real, λ::Real; num_of_runs::Integer=100, time_step::Real=0.1, n::Integer=200)\n",
    "    \n",
    "    ts = 0:time_step:T\n",
    "    covs = zeros(length(ts))\n",
    "\n",
    "    for _ in 1:n\n",
    "        covs += covariance.(T, λ, ts; num_of_runs)\n",
    "    end\n",
    "    \n",
    "    scatter(ts, covs./n, label=\"Kowariancja pomiędzy X(0) i X(t)\", xlabel=\"t\")\n",
    "    plot!(ts, exp.(-2λ .* ts), label=\"exp(-2λt)\") # Współczynniki funkcji wykładniczej zostały dobrane empirycznie.\n",
    "\n",
    "end"
   ]
  },
  {
   "cell_type": "code",
   "execution_count": 6,
   "metadata": {},
   "outputs": [
    {
     "data": {
      "image/png": "[encoded data removed]",
      "image/svg+xml": [
       "<?xml version=\"1.0\" encoding=\"utf-8\"?>\n",
       "<svg xmlns=\"http://www.w3.org/2000/svg\" xmlns:xlink=\"http://www.w3.org/1999/xlink\" width=\"600\" height=\"400\" viewBox=\"0 0 2400 1600\">\n",
       "<defs>\n",
       "  <clipPath id=\"clip690\">\n",
       "    <rect x=\"0\" y=\"0\" width=\"2400\" height=\"1600\"/>\n",
       "  </clipPath>\n",
       "</defs>\n",
       "<path clip-path=\"url(#clip690)\" d=\"M0 1600 L2400 1600 L2400 0 L0 0  Z\" fill=\"#ffffff\" fill-rule=\"evenodd\" fill-opacity=\"1\"/>\n",
       "<defs>\n",
       "  <clipPath id=\"clip691\">\n",
       "    <rect x=\"480\" y=\"0\" width=\"1681\" height=\"1600\"/>\n",
       "  </clipPath>\n",
       "</defs>\n",
       "<path clip-path=\"url(#clip690)\" d=\"M186.274 1423.18 L2352.76 1423.18 L2352.76 47.2441 L186.274 47.2441  Z\" fill=\"#ffffff\" fill-rule=\"evenodd\" fill-opacity=\"1\"/>\n",
       "<defs>\n",
       "  <clipPath id=\"clip692\">\n",
       "    <rect x=\"186\" y=\"47\" width=\"2167\" height=\"1377\"/>\n",
       "  </clipPath>\n",
       "</defs>\n",
       "<polyline clip-path=\"url(#clip692)\" style=\"stroke:#000000; stroke-linecap:round; stroke-linejoin:round; stroke-width:2; stroke-opacity:0.1; fill:none\" points=\"247.59,1423.18 247.59,47.2441 \"/>\n",
       "<polyline clip-path=\"url(#clip692)\" style=\"stroke:#000000; stroke-linecap:round; stroke-linejoin:round; stroke-width:2; stroke-opacity:0.1; fill:none\" points=\"758.552,1423.18 758.552,47.2441 \"/>\n",
       "<polyline clip-path=\"url(#clip692)\" style=\"stroke:#000000; stroke-linecap:round; stroke-linejoin:round; stroke-width:2; stroke-opacity:0.1; fill:none\" points=\"1269.51,1423.18 1269.51,47.2441 \"/>\n",
       "<polyline clip-path=\"url(#clip692)\" style=\"stroke:#000000; stroke-linecap:round; stroke-linejoin:round; stroke-width:2; stroke-opacity:0.1; fill:none\" points=\"1780.48,1423.18 1780.48,47.2441 \"/>\n",
       "<polyline clip-path=\"url(#clip692)\" style=\"stroke:#000000; stroke-linecap:round; stroke-linejoin:round; stroke-width:2; stroke-opacity:0.1; fill:none\" points=\"2291.44,1423.18 2291.44,47.2441 \"/>\n",
       "<polyline clip-path=\"url(#clip690)\" style=\"stroke:#000000; stroke-linecap:round; stroke-linejoin:round; stroke-width:4; stroke-opacity:1; fill:none\" points=\"186.274,1423.18 2352.76,1423.18 \"/>\n",
       "<polyline clip-path=\"url(#clip690)\" style=\"stroke:#000000; stroke-linecap:round; stroke-linejoin:round; stroke-width:4; stroke-opacity:1; fill:none\" points=\"247.59,1423.18 247.59,1404.28 \"/>\n",
       "<polyline clip-path=\"url(#clip690)\" style=\"stroke:#000000; stroke-linecap:round; stroke-linejoin:round; stroke-width:4; stroke-opacity:1; fill:none\" points=\"758.552,1423.18 758.552,1404.28 \"/>\n",
       "<polyline clip-path=\"url(#clip690)\" style=\"stroke:#000000; stroke-linecap:round; stroke-linejoin:round; stroke-width:4; stroke-opacity:1; fill:none\" points=\"1269.51,1423.18 1269.51,1404.28 \"/>\n",
       "<polyline clip-path=\"url(#clip690)\" style=\"stroke:#000000; stroke-linecap:round; stroke-linejoin:round; stroke-width:4; stroke-opacity:1; fill:none\" points=\"1780.48,1423.18 1780.48,1404.28 \"/>\n",
       "<polyline clip-path=\"url(#clip690)\" style=\"stroke:#000000; stroke-linecap:round; stroke-linejoin:round; stroke-width:4; stroke-opacity:1; fill:none\" points=\"2291.44,1423.18 2291.44,1404.28 \"/>\n",
       "<path clip-path=\"url(#clip690)\" d=\"M224.974 1454.1 Q221.363 1454.1 219.534 1457.66 Q217.729 1461.2 217.729 1468.33 Q217.729 1475.44 219.534 1479.01 Q221.363 1482.55 224.974 1482.55 Q228.608 1482.55 230.414 1479.01 Q232.242 1475.44 232.242 1468.33 Q232.242 1461.2 230.414 1457.66 Q228.608 1454.1 224.974 1454.1 M224.974 1450.39 Q230.784 1450.39 233.84 1455 Q236.918 1459.58 236.918 1468.33 Q236.918 1477.06 233.84 1481.67 Q230.784 1486.25 224.974 1486.25 Q219.164 1486.25 216.085 1481.67 Q213.03 1477.06 213.03 1468.33 Q213.03 1459.58 216.085 1455 Q219.164 1450.39 224.974 1450.39 Z\" fill=\"#000000\" fill-rule=\"nonzero\" fill-opacity=\"1\" /><path clip-path=\"url(#clip690)\" d=\"M245.136 1479.7 L250.02 1479.7 L250.02 1485.58 L245.136 1485.58 L245.136 1479.7 Z\" fill=\"#000000\" fill-rule=\"nonzero\" fill-opacity=\"1\" /><path clip-path=\"url(#clip690)\" d=\"M270.205 1454.1 Q266.594 1454.1 264.765 1457.66 Q262.96 1461.2 262.96 1468.33 Q262.96 1475.44 264.765 1479.01 Q266.594 1482.55 270.205 1482.55 Q273.839 1482.55 275.645 1479.01 Q277.474 1475.44 277.474 1468.33 Q277.474 1461.2 275.645 1457.66 Q273.839 1454.1 270.205 1454.1 M270.205 1450.39 Q276.015 1450.39 279.071 1455 Q282.15 1459.58 282.15 1468.33 Q282.15 1477.06 279.071 1481.67 Q276.015 1486.25 270.205 1486.25 Q264.395 1486.25 261.316 1481.67 Q258.261 1477.06 258.261 1468.33 Q258.261 1459.58 261.316 1455 Q264.395 1450.39 270.205 1450.39 Z\" fill=\"#000000\" fill-rule=\"nonzero\" fill-opacity=\"1\" /><path clip-path=\"url(#clip690)\" d=\"M730.289 1481.64 L746.608 1481.64 L746.608 1485.58 L724.664 1485.58 L724.664 1481.64 Q727.326 1478.89 731.909 1474.26 Q736.515 1469.61 737.696 1468.27 Q739.941 1465.74 740.821 1464.01 Q741.724 1462.25 741.724 1460.56 Q741.724 1457.8 739.779 1456.07 Q737.858 1454.33 734.756 1454.33 Q732.557 1454.33 730.103 1455.09 Q727.673 1455.86 724.895 1457.41 L724.895 1452.69 Q727.719 1451.55 730.173 1450.97 Q732.626 1450.39 734.663 1450.39 Q740.034 1450.39 743.228 1453.08 Q746.423 1455.77 746.423 1460.26 Q746.423 1462.39 745.612 1464.31 Q744.825 1466.2 742.719 1468.8 Q742.14 1469.47 739.038 1472.69 Q735.937 1475.88 730.289 1481.64 Z\" fill=\"#000000\" fill-rule=\"nonzero\" fill-opacity=\"1\" /><path clip-path=\"url(#clip690)\" d=\"M756.423 1479.7 L761.307 1479.7 L761.307 1485.58 L756.423 1485.58 L756.423 1479.7 Z\" fill=\"#000000\" fill-rule=\"nonzero\" fill-opacity=\"1\" /><path clip-path=\"url(#clip690)\" d=\"M771.538 1451.02 L789.895 1451.02 L789.895 1454.96 L775.821 1454.96 L775.821 1463.43 Q776.839 1463.08 777.858 1462.92 Q778.876 1462.73 779.895 1462.73 Q785.682 1462.73 789.061 1465.9 Q792.441 1469.08 792.441 1474.49 Q792.441 1480.07 788.969 1483.17 Q785.497 1486.25 779.177 1486.25 Q777.001 1486.25 774.733 1485.88 Q772.487 1485.51 770.08 1484.77 L770.08 1480.07 Q772.163 1481.2 774.385 1481.76 Q776.608 1482.32 779.085 1482.32 Q783.089 1482.32 785.427 1480.21 Q787.765 1478.1 787.765 1474.49 Q787.765 1470.88 785.427 1468.77 Q783.089 1466.67 779.085 1466.67 Q777.21 1466.67 775.335 1467.08 Q773.483 1467.5 771.538 1468.38 L771.538 1451.02 Z\" fill=\"#000000\" fill-rule=\"nonzero\" fill-opacity=\"1\" /><path clip-path=\"url(#clip690)\" d=\"M1236.68 1451.02 L1255.04 1451.02 L1255.04 1454.96 L1240.96 1454.96 L1240.96 1463.43 Q1241.98 1463.08 1243 1462.92 Q1244.02 1462.73 1245.04 1462.73 Q1250.82 1462.73 1254.2 1465.9 Q1257.58 1469.08 1257.58 1474.49 Q1257.58 1480.07 1254.11 1483.17 Q1250.64 1486.25 1244.32 1486.25 Q1242.14 1486.25 1239.87 1485.88 Q1237.63 1485.51 1235.22 1484.77 L1235.22 1480.07 Q1237.3 1481.2 1239.53 1481.76 Q1241.75 1482.32 1244.23 1482.32 Q1248.23 1482.32 1250.57 1480.21 Q1252.91 1478.1 1252.91 1474.49 Q1252.91 1470.88 1250.57 1468.77 Q1248.23 1466.67 1244.23 1466.67 Q1242.35 1466.67 1240.48 1467.08 Q1238.62 1467.5 1236.68 1468.38 L1236.68 1451.02 Z\" fill=\"#000000\" fill-rule=\"nonzero\" fill-opacity=\"1\" /><path clip-path=\"url(#clip690)\" d=\"M1266.8 1479.7 L1271.68 1479.7 L1271.68 1485.58 L1266.8 1485.58 L1266.8 1479.7 Z\" fill=\"#000000\" fill-rule=\"nonzero\" fill-opacity=\"1\" /><path clip-path=\"url(#clip690)\" d=\"M1291.86 1454.1 Q1288.25 1454.1 1286.42 1457.66 Q1284.62 1461.2 1284.62 1468.33 Q1284.62 1475.44 1286.42 1479.01 Q1288.25 1482.55 1291.86 1482.55 Q1295.5 1482.55 1297.3 1479.01 Q1299.13 1475.44 1299.13 1468.33 Q1299.13 1461.2 1297.3 1457.66 Q1295.5 1454.1 1291.86 1454.1 M1291.86 1450.39 Q1297.67 1450.39 1300.73 1455 Q1303.81 1459.58 1303.81 1468.33 Q1303.81 1477.06 1300.73 1481.67 Q1297.67 1486.25 1291.86 1486.25 Q1286.05 1486.25 1282.98 1481.67 Q1279.92 1477.06 1279.92 1468.33 Q1279.92 1459.58 1282.98 1455 Q1286.05 1450.39 1291.86 1450.39 Z\" fill=\"#000000\" fill-rule=\"nonzero\" fill-opacity=\"1\" /><path clip-path=\"url(#clip690)\" d=\"M1746.8 1451.02 L1769.02 1451.02 L1769.02 1453.01 L1756.47 1485.58 L1751.59 1485.58 L1763.39 1454.96 L1746.8 1454.96 L1746.8 1451.02 Z\" fill=\"#000000\" fill-rule=\"nonzero\" fill-opacity=\"1\" /><path clip-path=\"url(#clip690)\" d=\"M1778.14 1479.7 L1783.02 1479.7 L1783.02 1485.58 L1778.14 1485.58 L1778.14 1479.7 Z\" fill=\"#000000\" fill-rule=\"nonzero\" fill-opacity=\"1\" /><path clip-path=\"url(#clip690)\" d=\"M1793.26 1451.02 L1811.61 1451.02 L1811.61 1454.96 L1797.54 1454.96 L1797.54 1463.43 Q1798.56 1463.08 1799.57 1462.92 Q1800.59 1462.73 1801.61 1462.73 Q1807.4 1462.73 1810.78 1465.9 Q1814.16 1469.08 1814.16 1474.49 Q1814.16 1480.07 1810.69 1483.17 Q1807.21 1486.25 1800.89 1486.25 Q1798.72 1486.25 1796.45 1485.88 Q1794.2 1485.51 1791.8 1484.77 L1791.8 1480.07 Q1793.88 1481.2 1796.1 1481.76 Q1798.32 1482.32 1800.8 1482.32 Q1804.81 1482.32 1807.14 1480.21 Q1809.48 1478.1 1809.48 1474.49 Q1809.48 1470.88 1807.14 1468.77 Q1804.81 1466.67 1800.8 1466.67 Q1798.93 1466.67 1797.05 1467.08 Q1795.2 1467.5 1793.26 1468.38 L1793.26 1451.02 Z\" fill=\"#000000\" fill-rule=\"nonzero\" fill-opacity=\"1\" /><path clip-path=\"url(#clip690)\" d=\"M2243.51 1481.64 L2251.15 1481.64 L2251.15 1455.28 L2242.84 1456.95 L2242.84 1452.69 L2251.1 1451.02 L2255.78 1451.02 L2255.78 1481.64 L2263.42 1481.64 L2263.42 1485.58 L2243.51 1485.58 L2243.51 1481.64 Z\" fill=\"#000000\" fill-rule=\"nonzero\" fill-opacity=\"1\" /><path clip-path=\"url(#clip690)\" d=\"M2282.86 1454.1 Q2279.25 1454.1 2277.42 1457.66 Q2275.62 1461.2 2275.62 1468.33 Q2275.62 1475.44 2277.42 1479.01 Q2279.25 1482.55 2282.86 1482.55 Q2286.5 1482.55 2288.3 1479.01 Q2290.13 1475.44 2290.13 1468.33 Q2290.13 1461.2 2288.3 1457.66 Q2286.5 1454.1 2282.86 1454.1 M2282.86 1450.39 Q2288.67 1450.39 2291.73 1455 Q2294.81 1459.58 2294.81 1468.33 Q2294.81 1477.06 2291.73 1481.67 Q2288.67 1486.25 2282.86 1486.25 Q2277.05 1486.25 2273.98 1481.67 Q2270.92 1477.06 2270.92 1468.33 Q2270.92 1459.58 2273.98 1455 Q2277.05 1450.39 2282.86 1450.39 Z\" fill=\"#000000\" fill-rule=\"nonzero\" fill-opacity=\"1\" /><path clip-path=\"url(#clip690)\" d=\"M2303.03 1479.7 L2307.91 1479.7 L2307.91 1485.58 L2303.03 1485.58 L2303.03 1479.7 Z\" fill=\"#000000\" fill-rule=\"nonzero\" fill-opacity=\"1\" /><path clip-path=\"url(#clip690)\" d=\"M2328.1 1454.1 Q2324.48 1454.1 2322.66 1457.66 Q2320.85 1461.2 2320.85 1468.33 Q2320.85 1475.44 2322.66 1479.01 Q2324.48 1482.55 2328.1 1482.55 Q2331.73 1482.55 2333.54 1479.01 Q2335.36 1475.44 2335.36 1468.33 Q2335.36 1461.2 2333.54 1457.66 Q2331.73 1454.1 2328.1 1454.1 M2328.1 1450.39 Q2333.91 1450.39 2336.96 1455 Q2340.04 1459.58 2340.04 1468.33 Q2340.04 1477.06 2336.96 1481.67 Q2333.91 1486.25 2328.1 1486.25 Q2322.29 1486.25 2319.21 1481.67 Q2316.15 1477.06 2316.15 1468.33 Q2316.15 1459.58 2319.21 1455 Q2322.29 1450.39 2328.1 1450.39 Z\" fill=\"#000000\" fill-rule=\"nonzero\" fill-opacity=\"1\" /><path clip-path=\"url(#clip690)\" d=\"M1268.58 1522.27 L1268.58 1532.4 L1280.64 1532.4 L1280.64 1536.95 L1268.58 1536.95 L1268.58 1556.3 Q1268.58 1560.66 1269.75 1561.9 Q1270.96 1563.14 1274.62 1563.14 L1280.64 1563.14 L1280.64 1568.04 L1274.62 1568.04 Q1267.84 1568.04 1265.27 1565.53 Q1262.69 1562.98 1262.69 1556.3 L1262.69 1536.95 L1258.39 1536.95 L1258.39 1532.4 L1262.69 1532.4 L1262.69 1522.27 L1268.58 1522.27 Z\" fill=\"#000000\" fill-rule=\"nonzero\" fill-opacity=\"1\" /><polyline clip-path=\"url(#clip692)\" style=\"stroke:#000000; stroke-linecap:round; stroke-linejoin:round; stroke-width:2; stroke-opacity:0.1; fill:none\" points=\"186.274,1362.89 2352.76,1362.89 \"/>\n",
       "<polyline clip-path=\"url(#clip692)\" style=\"stroke:#000000; stroke-linecap:round; stroke-linejoin:round; stroke-width:2; stroke-opacity:0.1; fill:none\" points=\"186.274,1043.8 2352.76,1043.8 \"/>\n",
       "<polyline clip-path=\"url(#clip692)\" style=\"stroke:#000000; stroke-linecap:round; stroke-linejoin:round; stroke-width:2; stroke-opacity:0.1; fill:none\" points=\"186.274,724.72 2352.76,724.72 \"/>\n",
       "<polyline clip-path=\"url(#clip692)\" style=\"stroke:#000000; stroke-linecap:round; stroke-linejoin:round; stroke-width:2; stroke-opacity:0.1; fill:none\" points=\"186.274,405.637 2352.76,405.637 \"/>\n",
       "<polyline clip-path=\"url(#clip692)\" style=\"stroke:#000000; stroke-linecap:round; stroke-linejoin:round; stroke-width:2; stroke-opacity:0.1; fill:none\" points=\"186.274,86.5544 2352.76,86.5544 \"/>\n",
       "<polyline clip-path=\"url(#clip690)\" style=\"stroke:#000000; stroke-linecap:round; stroke-linejoin:round; stroke-width:4; stroke-opacity:1; fill:none\" points=\"186.274,1423.18 186.274,47.2441 \"/>\n",
       "<polyline clip-path=\"url(#clip690)\" style=\"stroke:#000000; stroke-linecap:round; stroke-linejoin:round; stroke-width:4; stroke-opacity:1; fill:none\" points=\"186.274,1362.89 205.172,1362.89 \"/>\n",
       "<polyline clip-path=\"url(#clip690)\" style=\"stroke:#000000; stroke-linecap:round; stroke-linejoin:round; stroke-width:4; stroke-opacity:1; fill:none\" points=\"186.274,1043.8 205.172,1043.8 \"/>\n",
       "<polyline clip-path=\"url(#clip690)\" style=\"stroke:#000000; stroke-linecap:round; stroke-linejoin:round; stroke-width:4; stroke-opacity:1; fill:none\" points=\"186.274,724.72 205.172,724.72 \"/>\n",
       "<polyline clip-path=\"url(#clip690)\" style=\"stroke:#000000; stroke-linecap:round; stroke-linejoin:round; stroke-width:4; stroke-opacity:1; fill:none\" points=\"186.274,405.637 205.172,405.637 \"/>\n",
       "<polyline clip-path=\"url(#clip690)\" style=\"stroke:#000000; stroke-linecap:round; stroke-linejoin:round; stroke-width:4; stroke-opacity:1; fill:none\" points=\"186.274,86.5544 205.172,86.5544 \"/>\n",
       "<path clip-path=\"url(#clip690)\" d=\"M62.9365 1348.68 Q59.3254 1348.68 57.4967 1352.25 Q55.6912 1355.79 55.6912 1362.92 Q55.6912 1370.03 57.4967 1373.59 Q59.3254 1377.13 62.9365 1377.13 Q66.5707 1377.13 68.3763 1373.59 Q70.205 1370.03 70.205 1362.92 Q70.205 1355.79 68.3763 1352.25 Q66.5707 1348.68 62.9365 1348.68 M62.9365 1344.98 Q68.7467 1344.98 71.8022 1349.59 Q74.8809 1354.17 74.8809 1362.92 Q74.8809 1371.65 71.8022 1376.25 Q68.7467 1380.84 62.9365 1380.84 Q57.1264 1380.84 54.0477 1376.25 Q50.9921 1371.65 50.9921 1362.92 Q50.9921 1354.17 54.0477 1349.59 Q57.1264 1344.98 62.9365 1344.98 Z\" fill=\"#000000\" fill-rule=\"nonzero\" fill-opacity=\"1\" /><path clip-path=\"url(#clip690)\" d=\"M83.0984 1374.29 L87.9827 1374.29 L87.9827 1380.17 L83.0984 1380.17 L83.0984 1374.29 Z\" fill=\"#000000\" fill-rule=\"nonzero\" fill-opacity=\"1\" /><path clip-path=\"url(#clip690)\" d=\"M108.168 1348.68 Q104.557 1348.68 102.728 1352.25 Q100.922 1355.79 100.922 1362.92 Q100.922 1370.03 102.728 1373.59 Q104.557 1377.13 108.168 1377.13 Q111.802 1377.13 113.608 1373.59 Q115.436 1370.03 115.436 1362.92 Q115.436 1355.79 113.608 1352.25 Q111.802 1348.68 108.168 1348.68 M108.168 1344.98 Q113.978 1344.98 117.033 1349.59 Q120.112 1354.17 120.112 1362.92 Q120.112 1371.65 117.033 1376.25 Q113.978 1380.84 108.168 1380.84 Q102.358 1380.84 99.2789 1376.25 Q96.2234 1371.65 96.2234 1362.92 Q96.2234 1354.17 99.2789 1349.59 Q102.358 1344.98 108.168 1344.98 Z\" fill=\"#000000\" fill-rule=\"nonzero\" fill-opacity=\"1\" /><path clip-path=\"url(#clip690)\" d=\"M138.33 1348.68 Q134.719 1348.68 132.89 1352.25 Q131.084 1355.79 131.084 1362.92 Q131.084 1370.03 132.89 1373.59 Q134.719 1377.13 138.33 1377.13 Q141.964 1377.13 143.769 1373.59 Q145.598 1370.03 145.598 1362.92 Q145.598 1355.79 143.769 1352.25 Q141.964 1348.68 138.33 1348.68 M138.33 1344.98 Q144.14 1344.98 147.195 1349.59 Q150.274 1354.17 150.274 1362.92 Q150.274 1371.65 147.195 1376.25 Q144.14 1380.84 138.33 1380.84 Q132.519 1380.84 129.441 1376.25 Q126.385 1371.65 126.385 1362.92 Q126.385 1354.17 129.441 1349.59 Q132.519 1344.98 138.33 1344.98 Z\" fill=\"#000000\" fill-rule=\"nonzero\" fill-opacity=\"1\" /><path clip-path=\"url(#clip690)\" d=\"M63.9319 1029.6 Q60.3208 1029.6 58.4921 1033.17 Q56.6865 1036.71 56.6865 1043.84 Q56.6865 1050.94 58.4921 1054.51 Q60.3208 1058.05 63.9319 1058.05 Q67.5661 1058.05 69.3717 1054.51 Q71.2004 1050.94 71.2004 1043.84 Q71.2004 1036.71 69.3717 1033.17 Q67.5661 1029.6 63.9319 1029.6 M63.9319 1025.9 Q69.742 1025.9 72.7976 1030.5 Q75.8763 1035.09 75.8763 1043.84 Q75.8763 1052.56 72.7976 1057.17 Q69.742 1061.75 63.9319 1061.75 Q58.1217 1061.75 55.043 1057.17 Q51.9875 1052.56 51.9875 1043.84 Q51.9875 1035.09 55.043 1030.5 Q58.1217 1025.9 63.9319 1025.9 Z\" fill=\"#000000\" fill-rule=\"nonzero\" fill-opacity=\"1\" /><path clip-path=\"url(#clip690)\" d=\"M84.0938 1055.2 L88.978 1055.2 L88.978 1061.08 L84.0938 1061.08 L84.0938 1055.2 Z\" fill=\"#000000\" fill-rule=\"nonzero\" fill-opacity=\"1\" /><path clip-path=\"url(#clip690)\" d=\"M103.191 1057.15 L119.51 1057.15 L119.51 1061.08 L97.566 1061.08 L97.566 1057.15 Q100.228 1054.39 104.811 1049.76 Q109.418 1045.11 110.598 1043.77 Q112.844 1041.25 113.723 1039.51 Q114.626 1037.75 114.626 1036.06 Q114.626 1033.31 112.682 1031.57 Q110.76 1029.83 107.658 1029.83 Q105.459 1029.83 103.006 1030.6 Q100.575 1031.36 97.7974 1032.91 L97.7974 1028.19 Q100.621 1027.06 103.075 1026.48 Q105.529 1025.9 107.566 1025.9 Q112.936 1025.9 116.131 1028.58 Q119.325 1031.27 119.325 1035.76 Q119.325 1037.89 118.515 1039.81 Q117.728 1041.71 115.621 1044.3 Q115.043 1044.97 111.941 1048.19 Q108.839 1051.38 103.191 1057.15 Z\" fill=\"#000000\" fill-rule=\"nonzero\" fill-opacity=\"1\" /><path clip-path=\"url(#clip690)\" d=\"M129.371 1026.52 L147.728 1026.52 L147.728 1030.46 L133.654 1030.46 L133.654 1038.93 Q134.672 1038.58 135.691 1038.42 Q136.709 1038.24 137.728 1038.24 Q143.515 1038.24 146.894 1041.41 Q150.274 1044.58 150.274 1050 Q150.274 1055.57 146.802 1058.68 Q143.33 1061.75 137.01 1061.75 Q134.834 1061.75 132.566 1061.38 Q130.32 1061.01 127.913 1060.27 L127.913 1055.57 Q129.996 1056.71 132.219 1057.26 Q134.441 1057.82 136.918 1057.82 Q140.922 1057.82 143.26 1055.71 Q145.598 1053.61 145.598 1050 Q145.598 1046.38 143.26 1044.28 Q140.922 1042.17 136.918 1042.17 Q135.043 1042.17 133.168 1042.59 Q131.316 1043 129.371 1043.88 L129.371 1026.52 Z\" fill=\"#000000\" fill-rule=\"nonzero\" fill-opacity=\"1\" /><path clip-path=\"url(#clip690)\" d=\"M62.9365 710.519 Q59.3254 710.519 57.4967 714.084 Q55.6912 717.625 55.6912 724.755 Q55.6912 731.861 57.4967 735.426 Q59.3254 738.968 62.9365 738.968 Q66.5707 738.968 68.3763 735.426 Q70.205 731.861 70.205 724.755 Q70.205 717.625 68.3763 714.084 Q66.5707 710.519 62.9365 710.519 M62.9365 706.815 Q68.7467 706.815 71.8022 711.422 Q74.8809 716.005 74.8809 724.755 Q74.8809 733.482 71.8022 738.088 Q68.7467 742.672 62.9365 742.672 Q57.1264 742.672 54.0477 738.088 Q50.9921 733.482 50.9921 724.755 Q50.9921 716.005 54.0477 711.422 Q57.1264 706.815 62.9365 706.815 Z\" fill=\"#000000\" fill-rule=\"nonzero\" fill-opacity=\"1\" /><path clip-path=\"url(#clip690)\" d=\"M83.0984 736.121 L87.9827 736.121 L87.9827 742 L83.0984 742 L83.0984 736.121 Z\" fill=\"#000000\" fill-rule=\"nonzero\" fill-opacity=\"1\" /><path clip-path=\"url(#clip690)\" d=\"M98.2141 707.44 L116.57 707.44 L116.57 711.375 L102.496 711.375 L102.496 719.848 Q103.515 719.5 104.534 719.338 Q105.552 719.153 106.571 719.153 Q112.358 719.153 115.737 722.324 Q119.117 725.496 119.117 730.912 Q119.117 736.491 115.645 739.593 Q112.172 742.672 105.853 742.672 Q103.677 742.672 101.409 742.301 Q99.1632 741.931 96.7558 741.19 L96.7558 736.491 Q98.8391 737.625 101.061 738.181 Q103.284 738.736 105.76 738.736 Q109.765 738.736 112.103 736.63 Q114.441 734.523 114.441 730.912 Q114.441 727.301 112.103 725.195 Q109.765 723.088 105.76 723.088 Q103.885 723.088 102.01 723.505 Q100.159 723.922 98.2141 724.801 L98.2141 707.44 Z\" fill=\"#000000\" fill-rule=\"nonzero\" fill-opacity=\"1\" /><path clip-path=\"url(#clip690)\" d=\"M138.33 710.519 Q134.719 710.519 132.89 714.084 Q131.084 717.625 131.084 724.755 Q131.084 731.861 132.89 735.426 Q134.719 738.968 138.33 738.968 Q141.964 738.968 143.769 735.426 Q145.598 731.861 145.598 724.755 Q145.598 717.625 143.769 714.084 Q141.964 710.519 138.33 710.519 M138.33 706.815 Q144.14 706.815 147.195 711.422 Q150.274 716.005 150.274 724.755 Q150.274 733.482 147.195 738.088 Q144.14 742.672 138.33 742.672 Q132.519 742.672 129.441 738.088 Q126.385 733.482 126.385 724.755 Q126.385 716.005 129.441 711.422 Q132.519 706.815 138.33 706.815 Z\" fill=\"#000000\" fill-rule=\"nonzero\" fill-opacity=\"1\" /><path clip-path=\"url(#clip690)\" d=\"M63.9319 391.436 Q60.3208 391.436 58.4921 395.001 Q56.6865 398.542 56.6865 405.672 Q56.6865 412.778 58.4921 416.343 Q60.3208 419.885 63.9319 419.885 Q67.5661 419.885 69.3717 416.343 Q71.2004 412.778 71.2004 405.672 Q71.2004 398.542 69.3717 395.001 Q67.5661 391.436 63.9319 391.436 M63.9319 387.732 Q69.742 387.732 72.7976 392.339 Q75.8763 396.922 75.8763 405.672 Q75.8763 414.399 72.7976 419.005 Q69.742 423.589 63.9319 423.589 Q58.1217 423.589 55.043 419.005 Q51.9875 414.399 51.9875 405.672 Q51.9875 396.922 55.043 392.339 Q58.1217 387.732 63.9319 387.732 Z\" fill=\"#000000\" fill-rule=\"nonzero\" fill-opacity=\"1\" /><path clip-path=\"url(#clip690)\" d=\"M84.0938 417.038 L88.978 417.038 L88.978 422.917 L84.0938 422.917 L84.0938 417.038 Z\" fill=\"#000000\" fill-rule=\"nonzero\" fill-opacity=\"1\" /><path clip-path=\"url(#clip690)\" d=\"M97.9826 388.357 L120.205 388.357 L120.205 390.348 L107.658 422.917 L102.774 422.917 L114.58 392.292 L97.9826 392.292 L97.9826 388.357 Z\" fill=\"#000000\" fill-rule=\"nonzero\" fill-opacity=\"1\" /><path clip-path=\"url(#clip690)\" d=\"M129.371 388.357 L147.728 388.357 L147.728 392.292 L133.654 392.292 L133.654 400.765 Q134.672 400.417 135.691 400.255 Q136.709 400.07 137.728 400.07 Q143.515 400.07 146.894 403.242 Q150.274 406.413 150.274 411.829 Q150.274 417.408 146.802 420.51 Q143.33 423.589 137.01 423.589 Q134.834 423.589 132.566 423.218 Q130.32 422.848 127.913 422.107 L127.913 417.408 Q129.996 418.542 132.219 419.098 Q134.441 419.653 136.918 419.653 Q140.922 419.653 143.26 417.547 Q145.598 415.441 145.598 411.829 Q145.598 408.218 143.26 406.112 Q140.922 404.005 136.918 404.005 Q135.043 404.005 133.168 404.422 Q131.316 404.839 129.371 405.718 L129.371 388.357 Z\" fill=\"#000000\" fill-rule=\"nonzero\" fill-opacity=\"1\" /><path clip-path=\"url(#clip690)\" d=\"M53.7467 99.8992 L61.3856 99.8992 L61.3856 73.5336 L53.0754 75.2003 L53.0754 70.941 L61.3393 69.2744 L66.0152 69.2744 L66.0152 99.8992 L73.654 99.8992 L73.654 103.834 L53.7467 103.834 L53.7467 99.8992 Z\" fill=\"#000000\" fill-rule=\"nonzero\" fill-opacity=\"1\" /><path clip-path=\"url(#clip690)\" d=\"M83.0984 97.9548 L87.9827 97.9548 L87.9827 103.834 L83.0984 103.834 L83.0984 97.9548 Z\" fill=\"#000000\" fill-rule=\"nonzero\" fill-opacity=\"1\" /><path clip-path=\"url(#clip690)\" d=\"M108.168 72.3531 Q104.557 72.3531 102.728 75.9179 Q100.922 79.4595 100.922 86.5891 Q100.922 93.6956 102.728 97.2604 Q104.557 100.802 108.168 100.802 Q111.802 100.802 113.608 97.2604 Q115.436 93.6956 115.436 86.5891 Q115.436 79.4595 113.608 75.9179 Q111.802 72.3531 108.168 72.3531 M108.168 68.6494 Q113.978 68.6494 117.033 73.2559 Q120.112 77.8392 120.112 86.5891 Q120.112 95.3159 117.033 99.9224 Q113.978 104.506 108.168 104.506 Q102.358 104.506 99.2789 99.9224 Q96.2234 95.3159 96.2234 86.5891 Q96.2234 77.8392 99.2789 73.2559 Q102.358 68.6494 108.168 68.6494 Z\" fill=\"#000000\" fill-rule=\"nonzero\" fill-opacity=\"1\" /><path clip-path=\"url(#clip690)\" d=\"M138.33 72.3531 Q134.719 72.3531 132.89 75.9179 Q131.084 79.4595 131.084 86.5891 Q131.084 93.6956 132.89 97.2604 Q134.719 100.802 138.33 100.802 Q141.964 100.802 143.769 97.2604 Q145.598 93.6956 145.598 86.5891 Q145.598 79.4595 143.769 75.9179 Q141.964 72.3531 138.33 72.3531 M138.33 68.6494 Q144.14 68.6494 147.195 73.2559 Q150.274 77.8392 150.274 86.5891 Q150.274 95.3159 147.195 99.9224 Q144.14 104.506 138.33 104.506 Q132.519 104.506 129.441 99.9224 Q126.385 95.3159 126.385 86.5891 Q126.385 77.8392 129.441 73.2559 Q132.519 68.6494 138.33 68.6494 Z\" fill=\"#000000\" fill-rule=\"nonzero\" fill-opacity=\"1\" /><circle clip-path=\"url(#clip692)\" cx=\"247.59\" cy=\"86.1857\" r=\"14.4\" fill=\"#009af9\" fill-rule=\"evenodd\" fill-opacity=\"1\" stroke=\"#000000\" stroke-opacity=\"1\" stroke-width=\"3.2\"/>\n",
       "<circle clip-path=\"url(#clip692)\" cx=\"268.028\" cy=\"318.452\" r=\"14.4\" fill=\"#009af9\" fill-rule=\"evenodd\" fill-opacity=\"1\" stroke=\"#000000\" stroke-opacity=\"1\" stroke-width=\"3.2\"/>\n",
       "<circle clip-path=\"url(#clip692)\" cx=\"288.467\" cy=\"517.217\" r=\"14.4\" fill=\"#009af9\" fill-rule=\"evenodd\" fill-opacity=\"1\" stroke=\"#000000\" stroke-opacity=\"1\" stroke-width=\"3.2\"/>\n",
       "<circle clip-path=\"url(#clip692)\" cx=\"308.905\" cy=\"660.336\" r=\"14.4\" fill=\"#009af9\" fill-rule=\"evenodd\" fill-opacity=\"1\" stroke=\"#000000\" stroke-opacity=\"1\" stroke-width=\"3.2\"/>\n",
       "<circle clip-path=\"url(#clip692)\" cx=\"329.344\" cy=\"789.648\" r=\"14.4\" fill=\"#009af9\" fill-rule=\"evenodd\" fill-opacity=\"1\" stroke=\"#000000\" stroke-opacity=\"1\" stroke-width=\"3.2\"/>\n",
       "<circle clip-path=\"url(#clip692)\" cx=\"349.782\" cy=\"906.524\" r=\"14.4\" fill=\"#009af9\" fill-rule=\"evenodd\" fill-opacity=\"1\" stroke=\"#000000\" stroke-opacity=\"1\" stroke-width=\"3.2\"/>\n",
       "<circle clip-path=\"url(#clip692)\" cx=\"370.221\" cy=\"986.644\" r=\"14.4\" fill=\"#009af9\" fill-rule=\"evenodd\" fill-opacity=\"1\" stroke=\"#000000\" stroke-opacity=\"1\" stroke-width=\"3.2\"/>\n",
       "<circle clip-path=\"url(#clip692)\" cx=\"390.659\" cy=\"1060.61\" r=\"14.4\" fill=\"#009af9\" fill-rule=\"evenodd\" fill-opacity=\"1\" stroke=\"#000000\" stroke-opacity=\"1\" stroke-width=\"3.2\"/>\n",
       "<circle clip-path=\"url(#clip692)\" cx=\"411.098\" cy=\"1101.85\" r=\"14.4\" fill=\"#009af9\" fill-rule=\"evenodd\" fill-opacity=\"1\" stroke=\"#000000\" stroke-opacity=\"1\" stroke-width=\"3.2\"/>\n",
       "<circle clip-path=\"url(#clip692)\" cx=\"431.536\" cy=\"1132.64\" r=\"14.4\" fill=\"#009af9\" fill-rule=\"evenodd\" fill-opacity=\"1\" stroke=\"#000000\" stroke-opacity=\"1\" stroke-width=\"3.2\"/>\n",
       "<circle clip-path=\"url(#clip692)\" cx=\"451.975\" cy=\"1183.09\" r=\"14.4\" fill=\"#009af9\" fill-rule=\"evenodd\" fill-opacity=\"1\" stroke=\"#000000\" stroke-opacity=\"1\" stroke-width=\"3.2\"/>\n",
       "<circle clip-path=\"url(#clip692)\" cx=\"472.413\" cy=\"1230.59\" r=\"14.4\" fill=\"#009af9\" fill-rule=\"evenodd\" fill-opacity=\"1\" stroke=\"#000000\" stroke-opacity=\"1\" stroke-width=\"3.2\"/>\n",
       "<circle clip-path=\"url(#clip692)\" cx=\"492.852\" cy=\"1256.18\" r=\"14.4\" fill=\"#009af9\" fill-rule=\"evenodd\" fill-opacity=\"1\" stroke=\"#000000\" stroke-opacity=\"1\" stroke-width=\"3.2\"/>\n",
       "<circle clip-path=\"url(#clip692)\" cx=\"513.29\" cy=\"1264.59\" r=\"14.4\" fill=\"#009af9\" fill-rule=\"evenodd\" fill-opacity=\"1\" stroke=\"#000000\" stroke-opacity=\"1\" stroke-width=\"3.2\"/>\n",
       "<circle clip-path=\"url(#clip692)\" cx=\"533.729\" cy=\"1300.67\" r=\"14.4\" fill=\"#009af9\" fill-rule=\"evenodd\" fill-opacity=\"1\" stroke=\"#000000\" stroke-opacity=\"1\" stroke-width=\"3.2\"/>\n",
       "<circle clip-path=\"url(#clip692)\" cx=\"554.167\" cy=\"1302.41\" r=\"14.4\" fill=\"#009af9\" fill-rule=\"evenodd\" fill-opacity=\"1\" stroke=\"#000000\" stroke-opacity=\"1\" stroke-width=\"3.2\"/>\n",
       "<circle clip-path=\"url(#clip692)\" cx=\"574.606\" cy=\"1305.37\" r=\"14.4\" fill=\"#009af9\" fill-rule=\"evenodd\" fill-opacity=\"1\" stroke=\"#000000\" stroke-opacity=\"1\" stroke-width=\"3.2\"/>\n",
       "<circle clip-path=\"url(#clip692)\" cx=\"595.044\" cy=\"1325.78\" r=\"14.4\" fill=\"#009af9\" fill-rule=\"evenodd\" fill-opacity=\"1\" stroke=\"#000000\" stroke-opacity=\"1\" stroke-width=\"3.2\"/>\n",
       "<circle clip-path=\"url(#clip692)\" cx=\"615.483\" cy=\"1327.75\" r=\"14.4\" fill=\"#009af9\" fill-rule=\"evenodd\" fill-opacity=\"1\" stroke=\"#000000\" stroke-opacity=\"1\" stroke-width=\"3.2\"/>\n",
       "<circle clip-path=\"url(#clip692)\" cx=\"635.921\" cy=\"1341.22\" r=\"14.4\" fill=\"#009af9\" fill-rule=\"evenodd\" fill-opacity=\"1\" stroke=\"#000000\" stroke-opacity=\"1\" stroke-width=\"3.2\"/>\n",
       "<circle clip-path=\"url(#clip692)\" cx=\"656.36\" cy=\"1332.11\" r=\"14.4\" fill=\"#009af9\" fill-rule=\"evenodd\" fill-opacity=\"1\" stroke=\"#000000\" stroke-opacity=\"1\" stroke-width=\"3.2\"/>\n",
       "<circle clip-path=\"url(#clip692)\" cx=\"676.798\" cy=\"1347.37\" r=\"14.4\" fill=\"#009af9\" fill-rule=\"evenodd\" fill-opacity=\"1\" stroke=\"#000000\" stroke-opacity=\"1\" stroke-width=\"3.2\"/>\n",
       "<circle clip-path=\"url(#clip692)\" cx=\"697.237\" cy=\"1363.69\" r=\"14.4\" fill=\"#009af9\" fill-rule=\"evenodd\" fill-opacity=\"1\" stroke=\"#000000\" stroke-opacity=\"1\" stroke-width=\"3.2\"/>\n",
       "<circle clip-path=\"url(#clip692)\" cx=\"717.675\" cy=\"1339.27\" r=\"14.4\" fill=\"#009af9\" fill-rule=\"evenodd\" fill-opacity=\"1\" stroke=\"#000000\" stroke-opacity=\"1\" stroke-width=\"3.2\"/>\n",
       "<circle clip-path=\"url(#clip692)\" cx=\"738.114\" cy=\"1353.21\" r=\"14.4\" fill=\"#009af9\" fill-rule=\"evenodd\" fill-opacity=\"1\" stroke=\"#000000\" stroke-opacity=\"1\" stroke-width=\"3.2\"/>\n",
       "<circle clip-path=\"url(#clip692)\" cx=\"758.552\" cy=\"1358.7\" r=\"14.4\" fill=\"#009af9\" fill-rule=\"evenodd\" fill-opacity=\"1\" stroke=\"#000000\" stroke-opacity=\"1\" stroke-width=\"3.2\"/>\n",
       "<circle clip-path=\"url(#clip692)\" cx=\"778.991\" cy=\"1345.42\" r=\"14.4\" fill=\"#009af9\" fill-rule=\"evenodd\" fill-opacity=\"1\" stroke=\"#000000\" stroke-opacity=\"1\" stroke-width=\"3.2\"/>\n",
       "<circle clip-path=\"url(#clip692)\" cx=\"799.429\" cy=\"1359.93\" r=\"14.4\" fill=\"#009af9\" fill-rule=\"evenodd\" fill-opacity=\"1\" stroke=\"#000000\" stroke-opacity=\"1\" stroke-width=\"3.2\"/>\n",
       "<circle clip-path=\"url(#clip692)\" cx=\"819.868\" cy=\"1351.44\" r=\"14.4\" fill=\"#009af9\" fill-rule=\"evenodd\" fill-opacity=\"1\" stroke=\"#000000\" stroke-opacity=\"1\" stroke-width=\"3.2\"/>\n",
       "<circle clip-path=\"url(#clip692)\" cx=\"840.306\" cy=\"1369.67\" r=\"14.4\" fill=\"#009af9\" fill-rule=\"evenodd\" fill-opacity=\"1\" stroke=\"#000000\" stroke-opacity=\"1\" stroke-width=\"3.2\"/>\n",
       "<circle clip-path=\"url(#clip692)\" cx=\"860.745\" cy=\"1362.73\" r=\"14.4\" fill=\"#009af9\" fill-rule=\"evenodd\" fill-opacity=\"1\" stroke=\"#000000\" stroke-opacity=\"1\" stroke-width=\"3.2\"/>\n",
       "<circle clip-path=\"url(#clip692)\" cx=\"881.183\" cy=\"1384.24\" r=\"14.4\" fill=\"#009af9\" fill-rule=\"evenodd\" fill-opacity=\"1\" stroke=\"#000000\" stroke-opacity=\"1\" stroke-width=\"3.2\"/>\n",
       "<circle clip-path=\"url(#clip692)\" cx=\"901.622\" cy=\"1372.36\" r=\"14.4\" fill=\"#009af9\" fill-rule=\"evenodd\" fill-opacity=\"1\" stroke=\"#000000\" stroke-opacity=\"1\" stroke-width=\"3.2\"/>\n",
       "<circle clip-path=\"url(#clip692)\" cx=\"922.06\" cy=\"1367.7\" r=\"14.4\" fill=\"#009af9\" fill-rule=\"evenodd\" fill-opacity=\"1\" stroke=\"#000000\" stroke-opacity=\"1\" stroke-width=\"3.2\"/>\n",
       "<circle clip-path=\"url(#clip692)\" cx=\"942.499\" cy=\"1356.9\" r=\"14.4\" fill=\"#009af9\" fill-rule=\"evenodd\" fill-opacity=\"1\" stroke=\"#000000\" stroke-opacity=\"1\" stroke-width=\"3.2\"/>\n",
       "<circle clip-path=\"url(#clip692)\" cx=\"962.937\" cy=\"1361.05\" r=\"14.4\" fill=\"#009af9\" fill-rule=\"evenodd\" fill-opacity=\"1\" stroke=\"#000000\" stroke-opacity=\"1\" stroke-width=\"3.2\"/>\n",
       "<circle clip-path=\"url(#clip692)\" cx=\"983.376\" cy=\"1375.53\" r=\"14.4\" fill=\"#009af9\" fill-rule=\"evenodd\" fill-opacity=\"1\" stroke=\"#000000\" stroke-opacity=\"1\" stroke-width=\"3.2\"/>\n",
       "<circle clip-path=\"url(#clip692)\" cx=\"1003.81\" cy=\"1365.2\" r=\"14.4\" fill=\"#009af9\" fill-rule=\"evenodd\" fill-opacity=\"1\" stroke=\"#000000\" stroke-opacity=\"1\" stroke-width=\"3.2\"/>\n",
       "<circle clip-path=\"url(#clip692)\" cx=\"1024.25\" cy=\"1353.96\" r=\"14.4\" fill=\"#009af9\" fill-rule=\"evenodd\" fill-opacity=\"1\" stroke=\"#000000\" stroke-opacity=\"1\" stroke-width=\"3.2\"/>\n",
       "<circle clip-path=\"url(#clip692)\" cx=\"1044.69\" cy=\"1367.74\" r=\"14.4\" fill=\"#009af9\" fill-rule=\"evenodd\" fill-opacity=\"1\" stroke=\"#000000\" stroke-opacity=\"1\" stroke-width=\"3.2\"/>\n",
       "<circle clip-path=\"url(#clip692)\" cx=\"1065.13\" cy=\"1365.03\" r=\"14.4\" fill=\"#009af9\" fill-rule=\"evenodd\" fill-opacity=\"1\" stroke=\"#000000\" stroke-opacity=\"1\" stroke-width=\"3.2\"/>\n",
       "<circle clip-path=\"url(#clip692)\" cx=\"1085.57\" cy=\"1359.44\" r=\"14.4\" fill=\"#009af9\" fill-rule=\"evenodd\" fill-opacity=\"1\" stroke=\"#000000\" stroke-opacity=\"1\" stroke-width=\"3.2\"/>\n",
       "<circle clip-path=\"url(#clip692)\" cx=\"1106.01\" cy=\"1373.22\" r=\"14.4\" fill=\"#009af9\" fill-rule=\"evenodd\" fill-opacity=\"1\" stroke=\"#000000\" stroke-opacity=\"1\" stroke-width=\"3.2\"/>\n",
       "<circle clip-path=\"url(#clip692)\" cx=\"1126.45\" cy=\"1351.31\" r=\"14.4\" fill=\"#009af9\" fill-rule=\"evenodd\" fill-opacity=\"1\" stroke=\"#000000\" stroke-opacity=\"1\" stroke-width=\"3.2\"/>\n",
       "<circle clip-path=\"url(#clip692)\" cx=\"1146.88\" cy=\"1358.66\" r=\"14.4\" fill=\"#009af9\" fill-rule=\"evenodd\" fill-opacity=\"1\" stroke=\"#000000\" stroke-opacity=\"1\" stroke-width=\"3.2\"/>\n",
       "<circle clip-path=\"url(#clip692)\" cx=\"1167.32\" cy=\"1377.68\" r=\"14.4\" fill=\"#009af9\" fill-rule=\"evenodd\" fill-opacity=\"1\" stroke=\"#000000\" stroke-opacity=\"1\" stroke-width=\"3.2\"/>\n",
       "<circle clip-path=\"url(#clip692)\" cx=\"1187.76\" cy=\"1370.9\" r=\"14.4\" fill=\"#009af9\" fill-rule=\"evenodd\" fill-opacity=\"1\" stroke=\"#000000\" stroke-opacity=\"1\" stroke-width=\"3.2\"/>\n",
       "<circle clip-path=\"url(#clip692)\" cx=\"1208.2\" cy=\"1352.72\" r=\"14.4\" fill=\"#009af9\" fill-rule=\"evenodd\" fill-opacity=\"1\" stroke=\"#000000\" stroke-opacity=\"1\" stroke-width=\"3.2\"/>\n",
       "<circle clip-path=\"url(#clip692)\" cx=\"1228.64\" cy=\"1362.22\" r=\"14.4\" fill=\"#009af9\" fill-rule=\"evenodd\" fill-opacity=\"1\" stroke=\"#000000\" stroke-opacity=\"1\" stroke-width=\"3.2\"/>\n",
       "<circle clip-path=\"url(#clip692)\" cx=\"1249.08\" cy=\"1353.62\" r=\"14.4\" fill=\"#009af9\" fill-rule=\"evenodd\" fill-opacity=\"1\" stroke=\"#000000\" stroke-opacity=\"1\" stroke-width=\"3.2\"/>\n",
       "<circle clip-path=\"url(#clip692)\" cx=\"1269.51\" cy=\"1355.78\" r=\"14.4\" fill=\"#009af9\" fill-rule=\"evenodd\" fill-opacity=\"1\" stroke=\"#000000\" stroke-opacity=\"1\" stroke-width=\"3.2\"/>\n",
       "<circle clip-path=\"url(#clip692)\" cx=\"1289.95\" cy=\"1372.05\" r=\"14.4\" fill=\"#009af9\" fill-rule=\"evenodd\" fill-opacity=\"1\" stroke=\"#000000\" stroke-opacity=\"1\" stroke-width=\"3.2\"/>\n",
       "<circle clip-path=\"url(#clip692)\" cx=\"1310.39\" cy=\"1383.39\" r=\"14.4\" fill=\"#009af9\" fill-rule=\"evenodd\" fill-opacity=\"1\" stroke=\"#000000\" stroke-opacity=\"1\" stroke-width=\"3.2\"/>\n",
       "<circle clip-path=\"url(#clip692)\" cx=\"1330.83\" cy=\"1356.78\" r=\"14.4\" fill=\"#009af9\" fill-rule=\"evenodd\" fill-opacity=\"1\" stroke=\"#000000\" stroke-opacity=\"1\" stroke-width=\"3.2\"/>\n",
       "<circle clip-path=\"url(#clip692)\" cx=\"1351.27\" cy=\"1347.7\" r=\"14.4\" fill=\"#009af9\" fill-rule=\"evenodd\" fill-opacity=\"1\" stroke=\"#000000\" stroke-opacity=\"1\" stroke-width=\"3.2\"/>\n",
       "<circle clip-path=\"url(#clip692)\" cx=\"1371.71\" cy=\"1354.23\" r=\"14.4\" fill=\"#009af9\" fill-rule=\"evenodd\" fill-opacity=\"1\" stroke=\"#000000\" stroke-opacity=\"1\" stroke-width=\"3.2\"/>\n",
       "<circle clip-path=\"url(#clip692)\" cx=\"1392.15\" cy=\"1376.78\" r=\"14.4\" fill=\"#009af9\" fill-rule=\"evenodd\" fill-opacity=\"1\" stroke=\"#000000\" stroke-opacity=\"1\" stroke-width=\"3.2\"/>\n",
       "<circle clip-path=\"url(#clip692)\" cx=\"1412.58\" cy=\"1366.4\" r=\"14.4\" fill=\"#009af9\" fill-rule=\"evenodd\" fill-opacity=\"1\" stroke=\"#000000\" stroke-opacity=\"1\" stroke-width=\"3.2\"/>\n",
       "<circle clip-path=\"url(#clip692)\" cx=\"1433.02\" cy=\"1361.05\" r=\"14.4\" fill=\"#009af9\" fill-rule=\"evenodd\" fill-opacity=\"1\" stroke=\"#000000\" stroke-opacity=\"1\" stroke-width=\"3.2\"/>\n",
       "<circle clip-path=\"url(#clip692)\" cx=\"1453.46\" cy=\"1360.57\" r=\"14.4\" fill=\"#009af9\" fill-rule=\"evenodd\" fill-opacity=\"1\" stroke=\"#000000\" stroke-opacity=\"1\" stroke-width=\"3.2\"/>\n",
       "<circle clip-path=\"url(#clip692)\" cx=\"1473.9\" cy=\"1354.23\" r=\"14.4\" fill=\"#009af9\" fill-rule=\"evenodd\" fill-opacity=\"1\" stroke=\"#000000\" stroke-opacity=\"1\" stroke-width=\"3.2\"/>\n",
       "<circle clip-path=\"url(#clip692)\" cx=\"1494.34\" cy=\"1370.07\" r=\"14.4\" fill=\"#009af9\" fill-rule=\"evenodd\" fill-opacity=\"1\" stroke=\"#000000\" stroke-opacity=\"1\" stroke-width=\"3.2\"/>\n",
       "<circle clip-path=\"url(#clip692)\" cx=\"1514.78\" cy=\"1380.61\" r=\"14.4\" fill=\"#009af9\" fill-rule=\"evenodd\" fill-opacity=\"1\" stroke=\"#000000\" stroke-opacity=\"1\" stroke-width=\"3.2\"/>\n",
       "<circle clip-path=\"url(#clip692)\" cx=\"1535.22\" cy=\"1365.34\" r=\"14.4\" fill=\"#009af9\" fill-rule=\"evenodd\" fill-opacity=\"1\" stroke=\"#000000\" stroke-opacity=\"1\" stroke-width=\"3.2\"/>\n",
       "<circle clip-path=\"url(#clip692)\" cx=\"1555.65\" cy=\"1365.95\" r=\"14.4\" fill=\"#009af9\" fill-rule=\"evenodd\" fill-opacity=\"1\" stroke=\"#000000\" stroke-opacity=\"1\" stroke-width=\"3.2\"/>\n",
       "<circle clip-path=\"url(#clip692)\" cx=\"1576.09\" cy=\"1363.11\" r=\"14.4\" fill=\"#009af9\" fill-rule=\"evenodd\" fill-opacity=\"1\" stroke=\"#000000\" stroke-opacity=\"1\" stroke-width=\"3.2\"/>\n",
       "<circle clip-path=\"url(#clip692)\" cx=\"1596.53\" cy=\"1365.9\" r=\"14.4\" fill=\"#009af9\" fill-rule=\"evenodd\" fill-opacity=\"1\" stroke=\"#000000\" stroke-opacity=\"1\" stroke-width=\"3.2\"/>\n",
       "<circle clip-path=\"url(#clip692)\" cx=\"1616.97\" cy=\"1347.77\" r=\"14.4\" fill=\"#009af9\" fill-rule=\"evenodd\" fill-opacity=\"1\" stroke=\"#000000\" stroke-opacity=\"1\" stroke-width=\"3.2\"/>\n",
       "<circle clip-path=\"url(#clip692)\" cx=\"1637.41\" cy=\"1370.54\" r=\"14.4\" fill=\"#009af9\" fill-rule=\"evenodd\" fill-opacity=\"1\" stroke=\"#000000\" stroke-opacity=\"1\" stroke-width=\"3.2\"/>\n",
       "<circle clip-path=\"url(#clip692)\" cx=\"1657.85\" cy=\"1364.03\" r=\"14.4\" fill=\"#009af9\" fill-rule=\"evenodd\" fill-opacity=\"1\" stroke=\"#000000\" stroke-opacity=\"1\" stroke-width=\"3.2\"/>\n",
       "<circle clip-path=\"url(#clip692)\" cx=\"1678.29\" cy=\"1355\" r=\"14.4\" fill=\"#009af9\" fill-rule=\"evenodd\" fill-opacity=\"1\" stroke=\"#000000\" stroke-opacity=\"1\" stroke-width=\"3.2\"/>\n",
       "<circle clip-path=\"url(#clip692)\" cx=\"1698.72\" cy=\"1357.15\" r=\"14.4\" fill=\"#009af9\" fill-rule=\"evenodd\" fill-opacity=\"1\" stroke=\"#000000\" stroke-opacity=\"1\" stroke-width=\"3.2\"/>\n",
       "<circle clip-path=\"url(#clip692)\" cx=\"1719.16\" cy=\"1349.35\" r=\"14.4\" fill=\"#009af9\" fill-rule=\"evenodd\" fill-opacity=\"1\" stroke=\"#000000\" stroke-opacity=\"1\" stroke-width=\"3.2\"/>\n",
       "<circle clip-path=\"url(#clip692)\" cx=\"1739.6\" cy=\"1378.78\" r=\"14.4\" fill=\"#009af9\" fill-rule=\"evenodd\" fill-opacity=\"1\" stroke=\"#000000\" stroke-opacity=\"1\" stroke-width=\"3.2\"/>\n",
       "<circle clip-path=\"url(#clip692)\" cx=\"1760.04\" cy=\"1366\" r=\"14.4\" fill=\"#009af9\" fill-rule=\"evenodd\" fill-opacity=\"1\" stroke=\"#000000\" stroke-opacity=\"1\" stroke-width=\"3.2\"/>\n",
       "<circle clip-path=\"url(#clip692)\" cx=\"1780.48\" cy=\"1346.18\" r=\"14.4\" fill=\"#009af9\" fill-rule=\"evenodd\" fill-opacity=\"1\" stroke=\"#000000\" stroke-opacity=\"1\" stroke-width=\"3.2\"/>\n",
       "<circle clip-path=\"url(#clip692)\" cx=\"1800.92\" cy=\"1355.55\" r=\"14.4\" fill=\"#009af9\" fill-rule=\"evenodd\" fill-opacity=\"1\" stroke=\"#000000\" stroke-opacity=\"1\" stroke-width=\"3.2\"/>\n",
       "<circle clip-path=\"url(#clip692)\" cx=\"1821.35\" cy=\"1354.97\" r=\"14.4\" fill=\"#009af9\" fill-rule=\"evenodd\" fill-opacity=\"1\" stroke=\"#000000\" stroke-opacity=\"1\" stroke-width=\"3.2\"/>\n",
       "<circle clip-path=\"url(#clip692)\" cx=\"1841.79\" cy=\"1351.19\" r=\"14.4\" fill=\"#009af9\" fill-rule=\"evenodd\" fill-opacity=\"1\" stroke=\"#000000\" stroke-opacity=\"1\" stroke-width=\"3.2\"/>\n",
       "<circle clip-path=\"url(#clip692)\" cx=\"1862.23\" cy=\"1360.19\" r=\"14.4\" fill=\"#009af9\" fill-rule=\"evenodd\" fill-opacity=\"1\" stroke=\"#000000\" stroke-opacity=\"1\" stroke-width=\"3.2\"/>\n",
       "<circle clip-path=\"url(#clip692)\" cx=\"1882.67\" cy=\"1370.26\" r=\"14.4\" fill=\"#009af9\" fill-rule=\"evenodd\" fill-opacity=\"1\" stroke=\"#000000\" stroke-opacity=\"1\" stroke-width=\"3.2\"/>\n",
       "<circle clip-path=\"url(#clip692)\" cx=\"1903.11\" cy=\"1359.46\" r=\"14.4\" fill=\"#009af9\" fill-rule=\"evenodd\" fill-opacity=\"1\" stroke=\"#000000\" stroke-opacity=\"1\" stroke-width=\"3.2\"/>\n",
       "<circle clip-path=\"url(#clip692)\" cx=\"1923.55\" cy=\"1368.46\" r=\"14.4\" fill=\"#009af9\" fill-rule=\"evenodd\" fill-opacity=\"1\" stroke=\"#000000\" stroke-opacity=\"1\" stroke-width=\"3.2\"/>\n",
       "<circle clip-path=\"url(#clip692)\" cx=\"1943.99\" cy=\"1367.64\" r=\"14.4\" fill=\"#009af9\" fill-rule=\"evenodd\" fill-opacity=\"1\" stroke=\"#000000\" stroke-opacity=\"1\" stroke-width=\"3.2\"/>\n",
       "<circle clip-path=\"url(#clip692)\" cx=\"1964.42\" cy=\"1363.86\" r=\"14.4\" fill=\"#009af9\" fill-rule=\"evenodd\" fill-opacity=\"1\" stroke=\"#000000\" stroke-opacity=\"1\" stroke-width=\"3.2\"/>\n",
       "<circle clip-path=\"url(#clip692)\" cx=\"1984.86\" cy=\"1374.17\" r=\"14.4\" fill=\"#009af9\" fill-rule=\"evenodd\" fill-opacity=\"1\" stroke=\"#000000\" stroke-opacity=\"1\" stroke-width=\"3.2\"/>\n",
       "<circle clip-path=\"url(#clip692)\" cx=\"2005.3\" cy=\"1382.01\" r=\"14.4\" fill=\"#009af9\" fill-rule=\"evenodd\" fill-opacity=\"1\" stroke=\"#000000\" stroke-opacity=\"1\" stroke-width=\"3.2\"/>\n",
       "<circle clip-path=\"url(#clip692)\" cx=\"2025.74\" cy=\"1372.28\" r=\"14.4\" fill=\"#009af9\" fill-rule=\"evenodd\" fill-opacity=\"1\" stroke=\"#000000\" stroke-opacity=\"1\" stroke-width=\"3.2\"/>\n",
       "<circle clip-path=\"url(#clip692)\" cx=\"2046.18\" cy=\"1354.72\" r=\"14.4\" fill=\"#009af9\" fill-rule=\"evenodd\" fill-opacity=\"1\" stroke=\"#000000\" stroke-opacity=\"1\" stroke-width=\"3.2\"/>\n",
       "<circle clip-path=\"url(#clip692)\" cx=\"2066.62\" cy=\"1347.49\" r=\"14.4\" fill=\"#009af9\" fill-rule=\"evenodd\" fill-opacity=\"1\" stroke=\"#000000\" stroke-opacity=\"1\" stroke-width=\"3.2\"/>\n",
       "<circle clip-path=\"url(#clip692)\" cx=\"2087.06\" cy=\"1370.03\" r=\"14.4\" fill=\"#009af9\" fill-rule=\"evenodd\" fill-opacity=\"1\" stroke=\"#000000\" stroke-opacity=\"1\" stroke-width=\"3.2\"/>\n",
       "<circle clip-path=\"url(#clip692)\" cx=\"2107.49\" cy=\"1360.17\" r=\"14.4\" fill=\"#009af9\" fill-rule=\"evenodd\" fill-opacity=\"1\" stroke=\"#000000\" stroke-opacity=\"1\" stroke-width=\"3.2\"/>\n",
       "<circle clip-path=\"url(#clip692)\" cx=\"2127.93\" cy=\"1366.11\" r=\"14.4\" fill=\"#009af9\" fill-rule=\"evenodd\" fill-opacity=\"1\" stroke=\"#000000\" stroke-opacity=\"1\" stroke-width=\"3.2\"/>\n",
       "<circle clip-path=\"url(#clip692)\" cx=\"2148.37\" cy=\"1370.97\" r=\"14.4\" fill=\"#009af9\" fill-rule=\"evenodd\" fill-opacity=\"1\" stroke=\"#000000\" stroke-opacity=\"1\" stroke-width=\"3.2\"/>\n",
       "<circle clip-path=\"url(#clip692)\" cx=\"2168.81\" cy=\"1350.91\" r=\"14.4\" fill=\"#009af9\" fill-rule=\"evenodd\" fill-opacity=\"1\" stroke=\"#000000\" stroke-opacity=\"1\" stroke-width=\"3.2\"/>\n",
       "<circle clip-path=\"url(#clip692)\" cx=\"2189.25\" cy=\"1363.48\" r=\"14.4\" fill=\"#009af9\" fill-rule=\"evenodd\" fill-opacity=\"1\" stroke=\"#000000\" stroke-opacity=\"1\" stroke-width=\"3.2\"/>\n",
       "<circle clip-path=\"url(#clip692)\" cx=\"2209.69\" cy=\"1351.42\" r=\"14.4\" fill=\"#009af9\" fill-rule=\"evenodd\" fill-opacity=\"1\" stroke=\"#000000\" stroke-opacity=\"1\" stroke-width=\"3.2\"/>\n",
       "<circle clip-path=\"url(#clip692)\" cx=\"2230.12\" cy=\"1335.74\" r=\"14.4\" fill=\"#009af9\" fill-rule=\"evenodd\" fill-opacity=\"1\" stroke=\"#000000\" stroke-opacity=\"1\" stroke-width=\"3.2\"/>\n",
       "<circle clip-path=\"url(#clip692)\" cx=\"2250.56\" cy=\"1358.08\" r=\"14.4\" fill=\"#009af9\" fill-rule=\"evenodd\" fill-opacity=\"1\" stroke=\"#000000\" stroke-opacity=\"1\" stroke-width=\"3.2\"/>\n",
       "<circle clip-path=\"url(#clip692)\" cx=\"2271\" cy=\"1377.77\" r=\"14.4\" fill=\"#009af9\" fill-rule=\"evenodd\" fill-opacity=\"1\" stroke=\"#000000\" stroke-opacity=\"1\" stroke-width=\"3.2\"/>\n",
       "<circle clip-path=\"url(#clip692)\" cx=\"2291.44\" cy=\"1377.01\" r=\"14.4\" fill=\"#009af9\" fill-rule=\"evenodd\" fill-opacity=\"1\" stroke=\"#000000\" stroke-opacity=\"1\" stroke-width=\"3.2\"/>\n",
       "<polyline clip-path=\"url(#clip692)\" style=\"stroke:#e26f46; stroke-linecap:round; stroke-linejoin:round; stroke-width:4; stroke-opacity:1; fill:none\" points=\"247.59,86.5544 268.028,317.914 288.467,507.335 308.905,662.42 329.344,789.393 349.782,893.35 370.221,978.462 390.659,1048.15 411.098,1105.2 431.536,1151.91 451.975,1190.15 472.413,1221.46 492.852,1247.1 513.29,1268.09 533.729,1285.27 554.167,1299.34 574.606,1310.86 595.044,1320.29 615.483,1328.01 635.921,1334.33 656.36,1339.51 676.798,1343.75 697.237,1347.22 717.675,1350.06 738.114,1352.38 758.552,1354.29 778.991,1355.85 799.429,1357.12 819.868,1358.17 840.306,1359.02 860.745,1359.72 881.183,1360.3 901.622,1360.77 922.06,1361.15 942.499,1361.46 962.937,1361.72 983.376,1361.93 1003.81,1362.11 1024.25,1362.25 1044.69,1362.36 1065.13,1362.46 1085.57,1362.54 1106.01,1362.6 1126.45,1362.65 1146.88,1362.69 1167.32,1362.73 1187.76,1362.76 1208.2,1362.78 1228.64,1362.8 1249.08,1362.82 1269.51,1362.83 1289.95,1362.84 1310.39,1362.85 1330.83,1362.85 1351.27,1362.86 1371.71,1362.86 1392.15,1362.87 1412.58,1362.87 1433.02,1362.87 1453.46,1362.88 1473.9,1362.88 1494.34,1362.88 1514.78,1362.88 1535.22,1362.88 1555.65,1362.88 1576.09,1362.88 1596.53,1362.88 1616.97,1362.88 1637.41,1362.88 1657.85,1362.88 1678.29,1362.89 1698.72,1362.89 1719.16,1362.89 1739.6,1362.89 1760.04,1362.89 1780.48,1362.89 1800.92,1362.89 1821.35,1362.89 1841.79,1362.89 1862.23,1362.89 1882.67,1362.89 1903.11,1362.89 1923.55,1362.89 1943.99,1362.89 1964.42,1362.89 1984.86,1362.89 2005.3,1362.89 2025.74,1362.89 2046.18,1362.89 2066.62,1362.89 2087.06,1362.89 2107.49,1362.89 2127.93,1362.89 2148.37,1362.89 2168.81,1362.89 2189.25,1362.89 2209.69,1362.89 2230.12,1362.89 2250.56,1362.89 2271,1362.89 2291.44,1362.89 \"/>\n",
       "<path clip-path=\"url(#clip690)\" d=\"M1295.24 248.629 L2280.54 248.629 L2280.54 93.1086 L1295.24 93.1086  Z\" fill=\"#ffffff\" fill-rule=\"evenodd\" fill-opacity=\"1\"/>\n",
       "<polyline clip-path=\"url(#clip690)\" style=\"stroke:#000000; stroke-linecap:round; stroke-linejoin:round; stroke-width:4; stroke-opacity:1; fill:none\" points=\"1295.24,248.629 2280.54,248.629 2280.54,93.1086 1295.24,93.1086 1295.24,248.629 \"/>\n",
       "<circle clip-path=\"url(#clip690)\" cx=\"1391.53\" cy=\"144.949\" r=\"20.48\" fill=\"#009af9\" fill-rule=\"evenodd\" fill-opacity=\"1\" stroke=\"#000000\" stroke-opacity=\"1\" stroke-width=\"4.55111\"/>\n",
       "<path clip-path=\"url(#clip690)\" d=\"M1487.81 127.669 L1492.49 127.669 L1492.49 142.275 L1508 127.669 L1514.02 127.669 L1496.87 143.78 L1515.24 162.229 L1509.09 162.229 L1492.49 145.585 L1492.49 162.229 L1487.81 162.229 L1487.81 127.669 Z\" fill=\"#000000\" fill-rule=\"nonzero\" fill-opacity=\"1\" /><path clip-path=\"url(#clip690)\" d=\"M1526.4 139.289 Q1522.98 139.289 1520.99 141.974 Q1518.99 144.636 1518.99 149.289 Q1518.99 153.942 1520.96 156.627 Q1522.95 159.289 1526.4 159.289 Q1529.81 159.289 1531.8 156.604 Q1533.79 153.918 1533.79 149.289 Q1533.79 144.682 1531.8 141.997 Q1529.81 139.289 1526.4 139.289 M1526.4 135.678 Q1531.96 135.678 1535.13 139.289 Q1538.3 142.9 1538.3 149.289 Q1538.3 155.655 1535.13 159.289 Q1531.96 162.9 1526.4 162.9 Q1520.82 162.9 1517.65 159.289 Q1514.5 155.655 1514.5 149.289 Q1514.5 142.9 1517.65 139.289 Q1520.82 135.678 1526.4 135.678 Z\" fill=\"#000000\" fill-rule=\"nonzero\" fill-opacity=\"1\" /><path clip-path=\"url(#clip690)\" d=\"M1542.88 136.303 L1547.14 136.303 L1552.47 156.534 L1557.77 136.303 L1562.79 136.303 L1568.12 156.534 L1573.42 136.303 L1577.68 136.303 L1570.89 162.229 L1565.87 162.229 L1560.29 140.979 L1554.69 162.229 L1549.67 162.229 L1542.88 136.303 Z\" fill=\"#000000\" fill-rule=\"nonzero\" fill-opacity=\"1\" /><path clip-path=\"url(#clip690)\" d=\"M1595.92 149.196 Q1590.75 149.196 1588.76 150.377 Q1586.77 151.557 1586.77 154.405 Q1586.77 156.673 1588.25 158.016 Q1589.76 159.335 1592.33 159.335 Q1595.87 159.335 1598 156.835 Q1600.15 154.312 1600.15 150.145 L1600.15 149.196 L1595.92 149.196 M1604.41 147.437 L1604.41 162.229 L1600.15 162.229 L1600.15 158.293 Q1598.69 160.655 1596.52 161.789 Q1594.34 162.9 1591.19 162.9 Q1587.21 162.9 1584.85 160.678 Q1582.51 158.432 1582.51 154.682 Q1582.51 150.307 1585.43 148.085 Q1588.37 145.863 1594.18 145.863 L1600.15 145.863 L1600.15 145.446 Q1600.15 142.507 1598.21 140.909 Q1596.29 139.289 1592.79 139.289 Q1590.57 139.289 1588.46 139.821 Q1586.36 140.354 1584.41 141.419 L1584.41 137.483 Q1586.75 136.581 1588.95 136.141 Q1591.15 135.678 1593.23 135.678 Q1598.86 135.678 1601.63 138.594 Q1604.41 141.511 1604.41 147.437 Z\" fill=\"#000000\" fill-rule=\"nonzero\" fill-opacity=\"1\" /><path clip-path=\"url(#clip690)\" d=\"M1628.21 140.284 Q1627.49 139.868 1626.63 139.682 Q1625.8 139.474 1624.78 139.474 Q1621.17 139.474 1619.23 141.835 Q1617.3 144.173 1617.3 148.571 L1617.3 162.229 L1613.02 162.229 L1613.02 136.303 L1617.3 136.303 L1617.3 140.331 Q1618.65 137.969 1620.8 136.835 Q1622.95 135.678 1626.03 135.678 Q1626.47 135.678 1627 135.747 Q1627.54 135.794 1628.18 135.909 L1628.21 140.284 Z\" fill=\"#000000\" fill-rule=\"nonzero\" fill-opacity=\"1\" /><path clip-path=\"url(#clip690)\" d=\"M1632.67 136.303 L1636.93 136.303 L1636.93 162.229 L1632.67 162.229 L1632.67 136.303 M1632.67 126.21 L1636.93 126.21 L1636.93 131.604 L1632.67 131.604 L1632.67 126.21 Z\" fill=\"#000000\" fill-rule=\"nonzero\" fill-opacity=\"1\" /><path clip-path=\"url(#clip690)\" d=\"M1657.63 149.196 Q1652.47 149.196 1650.48 150.377 Q1648.48 151.557 1648.48 154.405 Q1648.48 156.673 1649.97 158.016 Q1651.47 159.335 1654.04 159.335 Q1657.58 159.335 1659.71 156.835 Q1661.86 154.312 1661.86 150.145 L1661.86 149.196 L1657.63 149.196 M1666.12 147.437 L1666.12 162.229 L1661.86 162.229 L1661.86 158.293 Q1660.41 160.655 1658.23 161.789 Q1656.05 162.9 1652.91 162.9 Q1648.92 162.9 1646.56 160.678 Q1644.23 158.432 1644.23 154.682 Q1644.23 150.307 1647.14 148.085 Q1650.08 145.863 1655.89 145.863 L1661.86 145.863 L1661.86 145.446 Q1661.86 142.507 1659.92 140.909 Q1658 139.289 1654.5 139.289 Q1652.28 139.289 1650.17 139.821 Q1648.07 140.354 1646.12 141.419 L1646.12 137.483 Q1648.46 136.581 1650.66 136.141 Q1652.86 135.678 1654.94 135.678 Q1660.57 135.678 1663.35 138.594 Q1666.12 141.511 1666.12 147.437 Z\" fill=\"#000000\" fill-rule=\"nonzero\" fill-opacity=\"1\" /><path clip-path=\"url(#clip690)\" d=\"M1696.45 146.581 L1696.45 162.229 L1692.19 162.229 L1692.19 146.719 Q1692.19 143.039 1690.75 141.21 Q1689.32 139.382 1686.45 139.382 Q1683 139.382 1681.01 141.581 Q1679.02 143.78 1679.02 147.576 L1679.02 162.229 L1674.73 162.229 L1674.73 136.303 L1679.02 136.303 L1679.02 140.331 Q1680.54 137.993 1682.61 136.835 Q1684.69 135.678 1687.4 135.678 Q1691.86 135.678 1694.16 138.456 Q1696.45 141.21 1696.45 146.581 Z\" fill=\"#000000\" fill-rule=\"nonzero\" fill-opacity=\"1\" /><path clip-path=\"url(#clip690)\" d=\"M1723.6 137.298 L1723.6 141.28 Q1721.79 140.284 1719.97 139.798 Q1718.16 139.289 1716.31 139.289 Q1712.17 139.289 1709.87 141.928 Q1707.58 144.544 1707.58 149.289 Q1707.58 154.034 1709.87 156.673 Q1712.17 159.289 1716.31 159.289 Q1718.16 159.289 1719.97 158.803 Q1721.79 158.293 1723.6 157.298 L1723.6 161.233 Q1721.82 162.067 1719.9 162.483 Q1718 162.9 1715.85 162.9 Q1709.99 162.9 1706.54 159.219 Q1703.09 155.539 1703.09 149.289 Q1703.09 142.946 1706.56 139.312 Q1710.06 135.678 1716.12 135.678 Q1718.09 135.678 1719.97 136.095 Q1721.84 136.488 1723.6 137.298 Z\" fill=\"#000000\" fill-rule=\"nonzero\" fill-opacity=\"1\" /><path clip-path=\"url(#clip690)\" d=\"M1731.01 136.303 L1735.27 136.303 L1735.27 162.692 Q1735.27 167.645 1733.37 169.867 Q1731.49 172.09 1727.3 172.09 L1725.68 172.09 L1725.68 168.479 L1726.82 168.479 Q1729.25 168.479 1730.13 167.344 Q1731.01 166.233 1731.01 162.692 L1731.01 136.303 M1731.01 126.21 L1735.27 126.21 L1735.27 131.604 L1731.01 131.604 L1731.01 126.21 Z\" fill=\"#000000\" fill-rule=\"nonzero\" fill-opacity=\"1\" /><path clip-path=\"url(#clip690)\" d=\"M1755.96 149.196 Q1750.8 149.196 1748.81 150.377 Q1746.82 151.557 1746.82 154.405 Q1746.82 156.673 1748.3 158.016 Q1749.8 159.335 1752.37 159.335 Q1755.91 159.335 1758.04 156.835 Q1760.2 154.312 1760.2 150.145 L1760.2 149.196 L1755.96 149.196 M1764.46 147.437 L1764.46 162.229 L1760.2 162.229 L1760.2 158.293 Q1758.74 160.655 1756.56 161.789 Q1754.39 162.9 1751.24 162.9 Q1747.26 162.9 1744.9 160.678 Q1742.56 158.432 1742.56 154.682 Q1742.56 150.307 1745.48 148.085 Q1748.41 145.863 1754.23 145.863 L1760.2 145.863 L1760.2 145.446 Q1760.2 142.507 1758.25 140.909 Q1756.33 139.289 1752.84 139.289 Q1750.61 139.289 1748.51 139.821 Q1746.4 140.354 1744.46 141.419 L1744.46 137.483 Q1746.79 136.581 1748.99 136.141 Q1751.19 135.678 1753.28 135.678 Q1758.9 135.678 1761.68 138.594 Q1764.46 141.511 1764.46 147.437 Z\" fill=\"#000000\" fill-rule=\"nonzero\" fill-opacity=\"1\" /><path clip-path=\"url(#clip690)\" d=\"M1792.42 158.34 L1792.42 172.09 L1788.14 172.09 L1788.14 136.303 L1792.42 136.303 L1792.42 140.238 Q1793.76 137.923 1795.8 136.812 Q1797.86 135.678 1800.71 135.678 Q1805.43 135.678 1808.37 139.428 Q1811.33 143.178 1811.33 149.289 Q1811.33 155.4 1808.37 159.15 Q1805.43 162.9 1800.71 162.9 Q1797.86 162.9 1795.8 161.789 Q1793.76 160.655 1792.42 158.34 M1806.91 149.289 Q1806.91 144.59 1804.97 141.928 Q1803.04 139.243 1799.66 139.243 Q1796.29 139.243 1794.34 141.928 Q1792.42 144.59 1792.42 149.289 Q1792.42 153.988 1794.34 156.673 Q1796.29 159.335 1799.66 159.335 Q1803.04 159.335 1804.97 156.673 Q1806.91 153.988 1806.91 149.289 Z\" fill=\"#000000\" fill-rule=\"nonzero\" fill-opacity=\"1\" /><path clip-path=\"url(#clip690)\" d=\"M1828.44 139.289 Q1825.01 139.289 1823.02 141.974 Q1821.03 144.636 1821.03 149.289 Q1821.03 153.942 1823 156.627 Q1824.99 159.289 1828.44 159.289 Q1831.84 159.289 1833.83 156.604 Q1835.82 153.918 1835.82 149.289 Q1835.82 144.682 1833.83 141.997 Q1831.84 139.289 1828.44 139.289 M1828.44 135.678 Q1833.99 135.678 1837.16 139.289 Q1840.34 142.9 1840.34 149.289 Q1840.34 155.655 1837.16 159.289 Q1833.99 162.9 1828.44 162.9 Q1822.86 162.9 1819.69 159.289 Q1816.54 155.655 1816.54 149.289 Q1816.54 142.9 1819.69 139.289 Q1822.86 135.678 1828.44 135.678 Z\" fill=\"#000000\" fill-rule=\"nonzero\" fill-opacity=\"1\" /><path clip-path=\"url(#clip690)\" d=\"M1867.58 141.28 Q1869.18 138.409 1871.4 137.044 Q1873.62 135.678 1876.63 135.678 Q1880.68 135.678 1882.88 138.525 Q1885.08 141.349 1885.08 146.581 L1885.08 162.229 L1880.8 162.229 L1880.8 146.719 Q1880.8 142.993 1879.48 141.187 Q1878.16 139.382 1875.45 139.382 Q1872.14 139.382 1870.22 141.581 Q1868.3 143.78 1868.3 147.576 L1868.3 162.229 L1864.02 162.229 L1864.02 146.719 Q1864.02 142.969 1862.7 141.187 Q1861.38 139.382 1858.62 139.382 Q1855.36 139.382 1853.44 141.604 Q1851.52 143.803 1851.52 147.576 L1851.52 162.229 L1847.23 162.229 L1847.23 136.303 L1851.52 136.303 L1851.52 140.331 Q1852.97 137.946 1855.01 136.812 Q1857.05 135.678 1859.85 135.678 Q1862.67 135.678 1864.64 137.113 Q1866.63 138.548 1867.58 141.28 Z\" fill=\"#000000\" fill-rule=\"nonzero\" fill-opacity=\"1\" /><path clip-path=\"url(#clip690)\" d=\"M1893.58 136.303 L1897.84 136.303 L1897.84 162.229 L1893.58 162.229 L1893.58 136.303 M1893.58 126.21 L1897.84 126.21 L1897.84 131.604 L1893.58 131.604 L1893.58 126.21 Z\" fill=\"#000000\" fill-rule=\"nonzero\" fill-opacity=\"1\" /><path clip-path=\"url(#clip690)\" d=\"M1928.92 148.201 L1928.92 150.284 L1909.34 150.284 Q1909.62 154.682 1911.98 156.997 Q1914.36 159.289 1918.6 159.289 Q1921.05 159.289 1923.34 158.687 Q1925.66 158.085 1927.93 156.881 L1927.93 160.909 Q1925.64 161.881 1923.23 162.391 Q1920.82 162.9 1918.34 162.9 Q1912.14 162.9 1908.51 159.289 Q1904.9 155.678 1904.9 149.52 Q1904.9 143.155 1908.32 139.428 Q1911.77 135.678 1917.6 135.678 Q1922.84 135.678 1925.87 139.057 Q1928.92 142.414 1928.92 148.201 M1924.66 146.951 Q1924.62 143.456 1922.7 141.372 Q1920.8 139.289 1917.65 139.289 Q1914.09 139.289 1911.93 141.303 Q1909.8 143.317 1909.48 146.974 L1924.66 146.951 M1921.17 162.229 L1923.92 162.229 Q1922.88 163.641 1922.37 164.659 Q1921.89 165.678 1921.89 166.395 Q1921.89 167.46 1922.51 167.992 Q1923.16 168.525 1924.41 168.525 Q1925.15 168.525 1925.87 168.34 Q1926.59 168.178 1927.3 167.83 L1927.3 170.909 Q1926.42 171.141 1925.64 171.256 Q1924.85 171.372 1924.15 171.372 Q1921.33 171.372 1919.99 170.354 Q1918.67 169.358 1918.67 167.205 Q1918.67 166.094 1919.27 164.867 Q1919.9 163.664 1921.17 162.229 Z\" fill=\"#000000\" fill-rule=\"nonzero\" fill-opacity=\"1\" /><path clip-path=\"url(#clip690)\" d=\"M1952.97 140.238 L1952.97 126.21 L1957.23 126.21 L1957.23 162.229 L1952.97 162.229 L1952.97 158.34 Q1951.63 160.655 1949.57 161.789 Q1947.53 162.9 1944.66 162.9 Q1939.96 162.9 1937 159.15 Q1934.06 155.4 1934.06 149.289 Q1934.06 143.178 1937 139.428 Q1939.96 135.678 1944.66 135.678 Q1947.53 135.678 1949.57 136.812 Q1951.63 137.923 1952.97 140.238 M1938.46 149.289 Q1938.46 153.988 1940.38 156.673 Q1942.33 159.335 1945.71 159.335 Q1949.09 159.335 1951.03 156.673 Q1952.97 153.988 1952.97 149.289 Q1952.97 144.59 1951.03 141.928 Q1949.09 139.243 1945.71 139.243 Q1942.33 139.243 1940.38 141.928 Q1938.46 144.59 1938.46 149.289 Z\" fill=\"#000000\" fill-rule=\"nonzero\" fill-opacity=\"1\" /><path clip-path=\"url(#clip690)\" d=\"M1964.15 136.303 L1984.39 136.303 L1984.39 140.192 L1968.37 158.826 L1984.39 158.826 L1984.39 162.229 L1963.58 162.229 L1963.58 158.34 L1979.59 139.706 L1964.15 139.706 L1964.15 136.303 Z\" fill=\"#000000\" fill-rule=\"nonzero\" fill-opacity=\"1\" /><path clip-path=\"url(#clip690)\" d=\"M2001.68 164.636 Q1999.87 169.266 1998.16 170.678 Q1996.45 172.09 1993.58 172.09 L1990.17 172.09 L1990.17 168.525 L1992.67 168.525 Q1994.43 168.525 1995.4 167.692 Q1996.38 166.858 1997.56 163.756 L1998.32 161.812 L1987.84 136.303 L1992.35 136.303 L2000.45 156.581 L2008.55 136.303 L2013.07 136.303 L2001.68 164.636 Z\" fill=\"#000000\" fill-rule=\"nonzero\" fill-opacity=\"1\" /><path clip-path=\"url(#clip690)\" d=\"M2032.53 127.669 L2037.56 127.669 L2046.14 140.516 L2054.78 127.669 L2059.8 127.669 L2048.69 144.266 L2060.54 162.229 L2055.52 162.229 L2045.8 147.53 L2036.01 162.229 L2030.96 162.229 L2043.3 143.78 L2032.53 127.669 Z\" fill=\"#000000\" fill-rule=\"nonzero\" fill-opacity=\"1\" /><path clip-path=\"url(#clip690)\" d=\"M2076.72 126.257 Q2073.62 131.581 2072.12 136.789 Q2070.61 141.997 2070.61 147.344 Q2070.61 152.692 2072.12 157.946 Q2073.64 163.178 2076.72 168.479 L2073.02 168.479 Q2069.55 163.039 2067.81 157.784 Q2066.1 152.53 2066.1 147.344 Q2066.1 142.182 2067.81 136.951 Q2069.52 131.72 2073.02 126.257 L2076.72 126.257 Z\" fill=\"#000000\" fill-rule=\"nonzero\" fill-opacity=\"1\" /><path clip-path=\"url(#clip690)\" d=\"M2095.59 130.747 Q2091.98 130.747 2090.15 134.312 Q2088.34 137.854 2088.34 144.983 Q2088.34 152.09 2090.15 155.655 Q2091.98 159.196 2095.59 159.196 Q2099.22 159.196 2101.03 155.655 Q2102.86 152.09 2102.86 144.983 Q2102.86 137.854 2101.03 134.312 Q2099.22 130.747 2095.59 130.747 M2095.59 127.044 Q2101.4 127.044 2104.45 131.65 Q2107.53 136.233 2107.53 144.983 Q2107.53 153.71 2104.45 158.317 Q2101.4 162.9 2095.59 162.9 Q2089.78 162.9 2086.7 158.317 Q2083.64 153.71 2083.64 144.983 Q2083.64 136.233 2086.7 131.65 Q2089.78 127.044 2095.59 127.044 Z\" fill=\"#000000\" fill-rule=\"nonzero\" fill-opacity=\"1\" /><path clip-path=\"url(#clip690)\" d=\"M2114.48 126.257 L2118.18 126.257 Q2121.65 131.72 2123.37 136.951 Q2125.1 142.182 2125.1 147.344 Q2125.1 152.53 2123.37 157.784 Q2121.65 163.039 2118.18 168.479 L2114.48 168.479 Q2117.56 163.178 2119.06 157.946 Q2120.59 152.692 2120.59 147.344 Q2120.59 141.997 2119.06 136.789 Q2117.56 131.581 2114.48 126.257 Z\" fill=\"#000000\" fill-rule=\"nonzero\" fill-opacity=\"1\" /><path clip-path=\"url(#clip690)\" d=\"M2148.71 136.303 L2152.97 136.303 L2152.97 162.229 L2148.71 162.229 L2148.71 136.303 M2148.71 126.21 L2152.97 126.21 L2152.97 131.604 L2148.71 131.604 L2148.71 126.21 Z\" fill=\"#000000\" fill-rule=\"nonzero\" fill-opacity=\"1\" /><path clip-path=\"url(#clip690)\" d=\"M2175.47 127.669 L2180.5 127.669 L2189.08 140.516 L2197.72 127.669 L2202.74 127.669 L2191.63 144.266 L2203.48 162.229 L2198.46 162.229 L2188.74 147.53 L2178.95 162.229 L2173.9 162.229 L2186.24 143.78 L2175.47 127.669 Z\" fill=\"#000000\" fill-rule=\"nonzero\" fill-opacity=\"1\" /><path clip-path=\"url(#clip690)\" d=\"M2219.66 126.257 Q2216.56 131.581 2215.06 136.789 Q2213.55 141.997 2213.55 147.344 Q2213.55 152.692 2215.06 157.946 Q2216.58 163.178 2219.66 168.479 L2215.96 168.479 Q2212.49 163.039 2210.75 157.784 Q2209.04 152.53 2209.04 147.344 Q2209.04 142.182 2210.75 136.951 Q2212.46 131.72 2215.96 126.257 L2219.66 126.257 Z\" fill=\"#000000\" fill-rule=\"nonzero\" fill-opacity=\"1\" /><path clip-path=\"url(#clip690)\" d=\"M2232.14 128.942 L2232.14 136.303 L2240.91 136.303 L2240.91 139.613 L2232.14 139.613 L2232.14 153.687 Q2232.14 156.858 2233 157.761 Q2233.88 158.664 2236.54 158.664 L2240.91 158.664 L2240.91 162.229 L2236.54 162.229 Q2231.61 162.229 2229.73 160.4 Q2227.86 158.548 2227.86 153.687 L2227.86 139.613 L2224.73 139.613 L2224.73 136.303 L2227.86 136.303 L2227.86 128.942 L2232.14 128.942 Z\" fill=\"#000000\" fill-rule=\"nonzero\" fill-opacity=\"1\" /><path clip-path=\"url(#clip690)\" d=\"M2245.84 126.257 L2249.55 126.257 Q2253.02 131.72 2254.73 136.951 Q2256.47 142.182 2256.47 147.344 Q2256.47 152.53 2254.73 157.784 Q2253.02 163.039 2249.55 168.479 L2245.84 168.479 Q2248.92 163.178 2250.43 157.946 Q2251.95 152.692 2251.95 147.344 Q2251.95 141.997 2250.43 136.789 Q2248.92 131.581 2245.84 126.257 Z\" fill=\"#000000\" fill-rule=\"nonzero\" fill-opacity=\"1\" /><polyline clip-path=\"url(#clip690)\" style=\"stroke:#e26f46; stroke-linecap:round; stroke-linejoin:round; stroke-width:4; stroke-opacity:1; fill:none\" points=\"1319.31,196.789 1463.74,196.789 \"/>\n",
       "<path clip-path=\"url(#clip690)\" d=\"M1511.84 200.041 L1511.84 202.124 L1492.26 202.124 Q1492.54 206.522 1494.9 208.837 Q1497.28 211.129 1501.52 211.129 Q1503.97 211.129 1506.26 210.527 Q1508.58 209.925 1510.85 208.721 L1510.85 212.749 Q1508.56 213.721 1506.15 214.231 Q1503.74 214.74 1501.26 214.74 Q1495.06 214.74 1491.43 211.129 Q1487.81 207.518 1487.81 201.36 Q1487.81 194.995 1491.24 191.268 Q1494.69 187.518 1500.52 187.518 Q1505.75 187.518 1508.79 190.897 Q1511.84 194.254 1511.84 200.041 M1507.58 198.791 Q1507.54 195.296 1505.62 193.212 Q1503.72 191.129 1500.57 191.129 Q1497 191.129 1494.85 193.143 Q1492.72 195.157 1492.4 198.814 L1507.58 198.791 Z\" fill=\"#000000\" fill-rule=\"nonzero\" fill-opacity=\"1\" /><path clip-path=\"url(#clip690)\" d=\"M1539.55 188.143 L1530.18 200.759 L1540.04 214.069 L1535.01 214.069 L1527.47 203.883 L1519.92 214.069 L1514.9 214.069 L1524.97 200.504 L1515.75 188.143 L1520.78 188.143 L1527.65 197.379 L1534.53 188.143 L1539.55 188.143 Z\" fill=\"#000000\" fill-rule=\"nonzero\" fill-opacity=\"1\" /><path clip-path=\"url(#clip690)\" d=\"M1550.18 210.18 L1550.18 223.93 L1545.89 223.93 L1545.89 188.143 L1550.18 188.143 L1550.18 192.078 Q1551.52 189.763 1553.55 188.652 Q1555.62 187.518 1558.46 187.518 Q1563.18 187.518 1566.12 191.268 Q1569.09 195.018 1569.09 201.129 Q1569.09 207.24 1566.12 210.99 Q1563.18 214.74 1558.46 214.74 Q1555.62 214.74 1553.55 213.629 Q1551.52 212.495 1550.18 210.18 M1564.67 201.129 Q1564.67 196.43 1562.72 193.768 Q1560.8 191.083 1557.42 191.083 Q1554.04 191.083 1552.1 193.768 Q1550.18 196.43 1550.18 201.129 Q1550.18 205.828 1552.1 208.513 Q1554.04 211.175 1557.42 211.175 Q1560.8 211.175 1562.72 208.513 Q1564.67 205.828 1564.67 201.129 Z\" fill=\"#000000\" fill-rule=\"nonzero\" fill-opacity=\"1\" /><path clip-path=\"url(#clip690)\" d=\"M1586.38 178.097 Q1583.28 183.421 1581.77 188.629 Q1580.27 193.837 1580.27 199.184 Q1580.27 204.532 1581.77 209.786 Q1583.3 215.018 1586.38 220.319 L1582.68 220.319 Q1579.2 214.879 1577.47 209.624 Q1575.75 204.37 1575.75 199.184 Q1575.75 194.022 1577.47 188.791 Q1579.18 183.56 1582.68 178.097 L1586.38 178.097 Z\" fill=\"#000000\" fill-rule=\"nonzero\" fill-opacity=\"1\" /><path clip-path=\"url(#clip690)\" d=\"M1592.49 199.184 L1604.97 199.184 L1604.97 202.981 L1592.49 202.981 L1592.49 199.184 Z\" fill=\"#000000\" fill-rule=\"nonzero\" fill-opacity=\"1\" /><path clip-path=\"url(#clip690)\" d=\"M1616.38 210.133 L1632.7 210.133 L1632.7 214.069 L1610.75 214.069 L1610.75 210.133 Q1613.42 207.379 1618 202.749 Q1622.61 198.096 1623.79 196.754 Q1626.03 194.231 1626.91 192.495 Q1627.81 190.735 1627.81 189.046 Q1627.81 186.291 1625.87 184.555 Q1623.95 182.819 1620.85 182.819 Q1618.65 182.819 1616.19 183.583 Q1613.76 184.347 1610.99 185.897 L1610.99 181.175 Q1613.81 180.041 1616.26 179.462 Q1618.72 178.884 1620.75 178.884 Q1626.12 178.884 1629.32 181.569 Q1632.51 184.254 1632.51 188.745 Q1632.51 190.874 1631.7 192.796 Q1630.92 194.694 1628.81 197.286 Q1628.23 197.958 1625.13 201.175 Q1622.03 204.37 1616.38 210.133 Z\" fill=\"#000000\" fill-rule=\"nonzero\" fill-opacity=\"1\" /><path clip-path=\"url(#clip690)\" d=\"M1652.12 182.101 L1664.09 214.069 L1659.57 214.069 L1652.3 194.902 L1643.37 214.069 L1638.86 214.069 L1650.22 189.208 L1648.51 184.624 Q1647.42 181.708 1644.94 181.708 L1642.72 181.708 L1642.72 178.05 L1645.43 178.097 Q1650.66 178.166 1652.12 182.101 Z\" fill=\"#000000\" fill-rule=\"nonzero\" fill-opacity=\"1\" /><path clip-path=\"url(#clip690)\" d=\"M1674.18 180.782 L1674.18 188.143 L1682.95 188.143 L1682.95 191.453 L1674.18 191.453 L1674.18 205.527 Q1674.18 208.698 1675.04 209.601 Q1675.92 210.504 1678.58 210.504 L1682.95 210.504 L1682.95 214.069 L1678.58 214.069 Q1673.65 214.069 1671.77 212.24 Q1669.9 210.388 1669.9 205.527 L1669.9 191.453 L1666.77 191.453 L1666.77 188.143 L1669.9 188.143 L1669.9 180.782 L1674.18 180.782 Z\" fill=\"#000000\" fill-rule=\"nonzero\" fill-opacity=\"1\" /><path clip-path=\"url(#clip690)\" d=\"M1687.88 178.097 L1691.59 178.097 Q1695.06 183.56 1696.77 188.791 Q1698.51 194.022 1698.51 199.184 Q1698.51 204.37 1696.77 209.624 Q1695.06 214.879 1691.59 220.319 L1687.88 220.319 Q1690.96 215.018 1692.47 209.786 Q1693.99 204.532 1693.99 199.184 Q1693.99 193.837 1692.47 188.629 Q1690.96 183.421 1687.88 178.097 Z\" fill=\"#000000\" fill-rule=\"nonzero\" fill-opacity=\"1\" /></svg>\n"
      ],
      "text/html": [
       "<?xml version=\"1.0\" encoding=\"utf-8\"?>\n",
       "<svg xmlns=\"http://www.w3.org/2000/svg\" xmlns:xlink=\"http://www.w3.org/1999/xlink\" width=\"600\" height=\"400\" viewBox=\"0 0 2400 1600\">\n",
       "<defs>\n",
       "  <clipPath id=\"clip740\">\n",
       "    <rect x=\"0\" y=\"0\" width=\"2400\" height=\"1600\"/>\n",
       "  </clipPath>\n",
       "</defs>\n",
       "<path clip-path=\"url(#clip740)\" d=\"M0 1600 L2400 1600 L2400 0 L0 0  Z\" fill=\"#ffffff\" fill-rule=\"evenodd\" fill-opacity=\"1\"/>\n",
       "<defs>\n",
       "  <clipPath id=\"clip741\">\n",
       "    <rect x=\"480\" y=\"0\" width=\"1681\" height=\"1600\"/>\n",
       "  </clipPath>\n",
       "</defs>\n",
       "<path clip-path=\"url(#clip740)\" d=\"M186.274 1423.18 L2352.76 1423.18 L2352.76 47.2441 L186.274 47.2441  Z\" fill=\"#ffffff\" fill-rule=\"evenodd\" fill-opacity=\"1\"/>\n",
       "<defs>\n",
       "  <clipPath id=\"clip742\">\n",
       "    <rect x=\"186\" y=\"47\" width=\"2167\" height=\"1377\"/>\n",
       "  </clipPath>\n",
       "</defs>\n",
       "<polyline clip-path=\"url(#clip742)\" style=\"stroke:#000000; stroke-linecap:round; stroke-linejoin:round; stroke-width:2; stroke-opacity:0.1; fill:none\" points=\"247.59,1423.18 247.59,47.2441 \"/>\n",
       "<polyline clip-path=\"url(#clip742)\" style=\"stroke:#000000; stroke-linecap:round; stroke-linejoin:round; stroke-width:2; stroke-opacity:0.1; fill:none\" points=\"758.552,1423.18 758.552,47.2441 \"/>\n",
       "<polyline clip-path=\"url(#clip742)\" style=\"stroke:#000000; stroke-linecap:round; stroke-linejoin:round; stroke-width:2; stroke-opacity:0.1; fill:none\" points=\"1269.51,1423.18 1269.51,47.2441 \"/>\n",
       "<polyline clip-path=\"url(#clip742)\" style=\"stroke:#000000; stroke-linecap:round; stroke-linejoin:round; stroke-width:2; stroke-opacity:0.1; fill:none\" points=\"1780.48,1423.18 1780.48,47.2441 \"/>\n",
       "<polyline clip-path=\"url(#clip742)\" style=\"stroke:#000000; stroke-linecap:round; stroke-linejoin:round; stroke-width:2; stroke-opacity:0.1; fill:none\" points=\"2291.44,1423.18 2291.44,47.2441 \"/>\n",
       "<polyline clip-path=\"url(#clip740)\" style=\"stroke:#000000; stroke-linecap:round; stroke-linejoin:round; stroke-width:4; stroke-opacity:1; fill:none\" points=\"186.274,1423.18 2352.76,1423.18 \"/>\n",
       "<polyline clip-path=\"url(#clip740)\" style=\"stroke:#000000; stroke-linecap:round; stroke-linejoin:round; stroke-width:4; stroke-opacity:1; fill:none\" points=\"247.59,1423.18 247.59,1404.28 \"/>\n",
       "<polyline clip-path=\"url(#clip740)\" style=\"stroke:#000000; stroke-linecap:round; stroke-linejoin:round; stroke-width:4; stroke-opacity:1; fill:none\" points=\"758.552,1423.18 758.552,1404.28 \"/>\n",
       "<polyline clip-path=\"url(#clip740)\" style=\"stroke:#000000; stroke-linecap:round; stroke-linejoin:round; stroke-width:4; stroke-opacity:1; fill:none\" points=\"1269.51,1423.18 1269.51,1404.28 \"/>\n",
       "<polyline clip-path=\"url(#clip740)\" style=\"stroke:#000000; stroke-linecap:round; stroke-linejoin:round; stroke-width:4; stroke-opacity:1; fill:none\" points=\"1780.48,1423.18 1780.48,1404.28 \"/>\n",
       "<polyline clip-path=\"url(#clip740)\" style=\"stroke:#000000; stroke-linecap:round; stroke-linejoin:round; stroke-width:4; stroke-opacity:1; fill:none\" points=\"2291.44,1423.18 2291.44,1404.28 \"/>\n",
       "<path clip-path=\"url(#clip740)\" d=\"M224.974 1454.1 Q221.363 1454.1 219.534 1457.66 Q217.729 1461.2 217.729 1468.33 Q217.729 1475.44 219.534 1479.01 Q221.363 1482.55 224.974 1482.55 Q228.608 1482.55 230.414 1479.01 Q232.242 1475.44 232.242 1468.33 Q232.242 1461.2 230.414 1457.66 Q228.608 1454.1 224.974 1454.1 M224.974 1450.39 Q230.784 1450.39 233.84 1455 Q236.918 1459.58 236.918 1468.33 Q236.918 1477.06 233.84 1481.67 Q230.784 1486.25 224.974 1486.25 Q219.164 1486.25 216.085 1481.67 Q213.03 1477.06 213.03 1468.33 Q213.03 1459.58 216.085 1455 Q219.164 1450.39 224.974 1450.39 Z\" fill=\"#000000\" fill-rule=\"nonzero\" fill-opacity=\"1\" /><path clip-path=\"url(#clip740)\" d=\"M245.136 1479.7 L250.02 1479.7 L250.02 1485.58 L245.136 1485.58 L245.136 1479.7 Z\" fill=\"#000000\" fill-rule=\"nonzero\" fill-opacity=\"1\" /><path clip-path=\"url(#clip740)\" d=\"M270.205 1454.1 Q266.594 1454.1 264.765 1457.66 Q262.96 1461.2 262.96 1468.33 Q262.96 1475.44 264.765 1479.01 Q266.594 1482.55 270.205 1482.55 Q273.839 1482.55 275.645 1479.01 Q277.474 1475.44 277.474 1468.33 Q277.474 1461.2 275.645 1457.66 Q273.839 1454.1 270.205 1454.1 M270.205 1450.39 Q276.015 1450.39 279.071 1455 Q282.15 1459.58 282.15 1468.33 Q282.15 1477.06 279.071 1481.67 Q276.015 1486.25 270.205 1486.25 Q264.395 1486.25 261.316 1481.67 Q258.261 1477.06 258.261 1468.33 Q258.261 1459.58 261.316 1455 Q264.395 1450.39 270.205 1450.39 Z\" fill=\"#000000\" fill-rule=\"nonzero\" fill-opacity=\"1\" /><path clip-path=\"url(#clip740)\" d=\"M730.289 1481.64 L746.608 1481.64 L746.608 1485.58 L724.664 1485.58 L724.664 1481.64 Q727.326 1478.89 731.909 1474.26 Q736.515 1469.61 737.696 1468.27 Q739.941 1465.74 740.821 1464.01 Q741.724 1462.25 741.724 1460.56 Q741.724 1457.8 739.779 1456.07 Q737.858 1454.33 734.756 1454.33 Q732.557 1454.33 730.103 1455.09 Q727.673 1455.86 724.895 1457.41 L724.895 1452.69 Q727.719 1451.55 730.173 1450.97 Q732.626 1450.39 734.663 1450.39 Q740.034 1450.39 743.228 1453.08 Q746.423 1455.77 746.423 1460.26 Q746.423 1462.39 745.612 1464.31 Q744.825 1466.2 742.719 1468.8 Q742.14 1469.47 739.038 1472.69 Q735.937 1475.88 730.289 1481.64 Z\" fill=\"#000000\" fill-rule=\"nonzero\" fill-opacity=\"1\" /><path clip-path=\"url(#clip740)\" d=\"M756.423 1479.7 L761.307 1479.7 L761.307 1485.58 L756.423 1485.58 L756.423 1479.7 Z\" fill=\"#000000\" fill-rule=\"nonzero\" fill-opacity=\"1\" /><path clip-path=\"url(#clip740)\" d=\"M771.538 1451.02 L789.895 1451.02 L789.895 1454.96 L775.821 1454.96 L775.821 1463.43 Q776.839 1463.08 777.858 1462.92 Q778.876 1462.73 779.895 1462.73 Q785.682 1462.73 789.061 1465.9 Q792.441 1469.08 792.441 1474.49 Q792.441 1480.07 788.969 1483.17 Q785.497 1486.25 779.177 1486.25 Q777.001 1486.25 774.733 1485.88 Q772.487 1485.51 770.08 1484.77 L770.08 1480.07 Q772.163 1481.2 774.385 1481.76 Q776.608 1482.32 779.085 1482.32 Q783.089 1482.32 785.427 1480.21 Q787.765 1478.1 787.765 1474.49 Q787.765 1470.88 785.427 1468.77 Q783.089 1466.67 779.085 1466.67 Q777.21 1466.67 775.335 1467.08 Q773.483 1467.5 771.538 1468.38 L771.538 1451.02 Z\" fill=\"#000000\" fill-rule=\"nonzero\" fill-opacity=\"1\" /><path clip-path=\"url(#clip740)\" d=\"M1236.68 1451.02 L1255.04 1451.02 L1255.04 1454.96 L1240.96 1454.96 L1240.96 1463.43 Q1241.98 1463.08 1243 1462.92 Q1244.02 1462.73 1245.04 1462.73 Q1250.82 1462.73 1254.2 1465.9 Q1257.58 1469.08 1257.58 1474.49 Q1257.58 1480.07 1254.11 1483.17 Q1250.64 1486.25 1244.32 1486.25 Q1242.14 1486.25 1239.87 1485.88 Q1237.63 1485.51 1235.22 1484.77 L1235.22 1480.07 Q1237.3 1481.2 1239.53 1481.76 Q1241.75 1482.32 1244.23 1482.32 Q1248.23 1482.32 1250.57 1480.21 Q1252.91 1478.1 1252.91 1474.49 Q1252.91 1470.88 1250.57 1468.77 Q1248.23 1466.67 1244.23 1466.67 Q1242.35 1466.67 1240.48 1467.08 Q1238.62 1467.5 1236.68 1468.38 L1236.68 1451.02 Z\" fill=\"#000000\" fill-rule=\"nonzero\" fill-opacity=\"1\" /><path clip-path=\"url(#clip740)\" d=\"M1266.8 1479.7 L1271.68 1479.7 L1271.68 1485.58 L1266.8 1485.58 L1266.8 1479.7 Z\" fill=\"#000000\" fill-rule=\"nonzero\" fill-opacity=\"1\" /><path clip-path=\"url(#clip740)\" d=\"M1291.86 1454.1 Q1288.25 1454.1 1286.42 1457.66 Q1284.62 1461.2 1284.62 1468.33 Q1284.62 1475.44 1286.42 1479.01 Q1288.25 1482.55 1291.86 1482.55 Q1295.5 1482.55 1297.3 1479.01 Q1299.13 1475.44 1299.13 1468.33 Q1299.13 1461.2 1297.3 1457.66 Q1295.5 1454.1 1291.86 1454.1 M1291.86 1450.39 Q1297.67 1450.39 1300.73 1455 Q1303.81 1459.58 1303.81 1468.33 Q1303.81 1477.06 1300.73 1481.67 Q1297.67 1486.25 1291.86 1486.25 Q1286.05 1486.25 1282.98 1481.67 Q1279.92 1477.06 1279.92 1468.33 Q1279.92 1459.58 1282.98 1455 Q1286.05 1450.39 1291.86 1450.39 Z\" fill=\"#000000\" fill-rule=\"nonzero\" fill-opacity=\"1\" /><path clip-path=\"url(#clip740)\" d=\"M1746.8 1451.02 L1769.02 1451.02 L1769.02 1453.01 L1756.47 1485.58 L1751.59 1485.58 L1763.39 1454.96 L1746.8 1454.96 L1746.8 1451.02 Z\" fill=\"#000000\" fill-rule=\"nonzero\" fill-opacity=\"1\" /><path clip-path=\"url(#clip740)\" d=\"M1778.14 1479.7 L1783.02 1479.7 L1783.02 1485.58 L1778.14 1485.58 L1778.14 1479.7 Z\" fill=\"#000000\" fill-rule=\"nonzero\" fill-opacity=\"1\" /><path clip-path=\"url(#clip740)\" d=\"M1793.26 1451.02 L1811.61 1451.02 L1811.61 1454.96 L1797.54 1454.96 L1797.54 1463.43 Q1798.56 1463.08 1799.57 1462.92 Q1800.59 1462.73 1801.61 1462.73 Q1807.4 1462.73 1810.78 1465.9 Q1814.16 1469.08 1814.16 1474.49 Q1814.16 1480.07 1810.69 1483.17 Q1807.21 1486.25 1800.89 1486.25 Q1798.72 1486.25 1796.45 1485.88 Q1794.2 1485.51 1791.8 1484.77 L1791.8 1480.07 Q1793.88 1481.2 1796.1 1481.76 Q1798.32 1482.32 1800.8 1482.32 Q1804.81 1482.32 1807.14 1480.21 Q1809.48 1478.1 1809.48 1474.49 Q1809.48 1470.88 1807.14 1468.77 Q1804.81 1466.67 1800.8 1466.67 Q1798.93 1466.67 1797.05 1467.08 Q1795.2 1467.5 1793.26 1468.38 L1793.26 1451.02 Z\" fill=\"#000000\" fill-rule=\"nonzero\" fill-opacity=\"1\" /><path clip-path=\"url(#clip740)\" d=\"M2243.51 1481.64 L2251.15 1481.64 L2251.15 1455.28 L2242.84 1456.95 L2242.84 1452.69 L2251.1 1451.02 L2255.78 1451.02 L2255.78 1481.64 L2263.42 1481.64 L2263.42 1485.58 L2243.51 1485.58 L2243.51 1481.64 Z\" fill=\"#000000\" fill-rule=\"nonzero\" fill-opacity=\"1\" /><path clip-path=\"url(#clip740)\" d=\"M2282.86 1454.1 Q2279.25 1454.1 2277.42 1457.66 Q2275.62 1461.2 2275.62 1468.33 Q2275.62 1475.44 2277.42 1479.01 Q2279.25 1482.55 2282.86 1482.55 Q2286.5 1482.55 2288.3 1479.01 Q2290.13 1475.44 2290.13 1468.33 Q2290.13 1461.2 2288.3 1457.66 Q2286.5 1454.1 2282.86 1454.1 M2282.86 1450.39 Q2288.67 1450.39 2291.73 1455 Q2294.81 1459.58 2294.81 1468.33 Q2294.81 1477.06 2291.73 1481.67 Q2288.67 1486.25 2282.86 1486.25 Q2277.05 1486.25 2273.98 1481.67 Q2270.92 1477.06 2270.92 1468.33 Q2270.92 1459.58 2273.98 1455 Q2277.05 1450.39 2282.86 1450.39 Z\" fill=\"#000000\" fill-rule=\"nonzero\" fill-opacity=\"1\" /><path clip-path=\"url(#clip740)\" d=\"M2303.03 1479.7 L2307.91 1479.7 L2307.91 1485.58 L2303.03 1485.58 L2303.03 1479.7 Z\" fill=\"#000000\" fill-rule=\"nonzero\" fill-opacity=\"1\" /><path clip-path=\"url(#clip740)\" d=\"M2328.1 1454.1 Q2324.48 1454.1 2322.66 1457.66 Q2320.85 1461.2 2320.85 1468.33 Q2320.85 1475.44 2322.66 1479.01 Q2324.48 1482.55 2328.1 1482.55 Q2331.73 1482.55 2333.54 1479.01 Q2335.36 1475.44 2335.36 1468.33 Q2335.36 1461.2 2333.54 1457.66 Q2331.73 1454.1 2328.1 1454.1 M2328.1 1450.39 Q2333.91 1450.39 2336.96 1455 Q2340.04 1459.58 2340.04 1468.33 Q2340.04 1477.06 2336.96 1481.67 Q2333.91 1486.25 2328.1 1486.25 Q2322.29 1486.25 2319.21 1481.67 Q2316.15 1477.06 2316.15 1468.33 Q2316.15 1459.58 2319.21 1455 Q2322.29 1450.39 2328.1 1450.39 Z\" fill=\"#000000\" fill-rule=\"nonzero\" fill-opacity=\"1\" /><path clip-path=\"url(#clip740)\" d=\"M1268.58 1522.27 L1268.58 1532.4 L1280.64 1532.4 L1280.64 1536.95 L1268.58 1536.95 L1268.58 1556.3 Q1268.58 1560.66 1269.75 1561.9 Q1270.96 1563.14 1274.62 1563.14 L1280.64 1563.14 L1280.64 1568.04 L1274.62 1568.04 Q1267.84 1568.04 1265.27 1565.53 Q1262.69 1562.98 1262.69 1556.3 L1262.69 1536.95 L1258.39 1536.95 L1258.39 1532.4 L1262.69 1532.4 L1262.69 1522.27 L1268.58 1522.27 Z\" fill=\"#000000\" fill-rule=\"nonzero\" fill-opacity=\"1\" /><polyline clip-path=\"url(#clip742)\" style=\"stroke:#000000; stroke-linecap:round; stroke-linejoin:round; stroke-width:2; stroke-opacity:0.1; fill:none\" points=\"186.274,1362.89 2352.76,1362.89 \"/>\n",
       "<polyline clip-path=\"url(#clip742)\" style=\"stroke:#000000; stroke-linecap:round; stroke-linejoin:round; stroke-width:2; stroke-opacity:0.1; fill:none\" points=\"186.274,1043.8 2352.76,1043.8 \"/>\n",
       "<polyline clip-path=\"url(#clip742)\" style=\"stroke:#000000; stroke-linecap:round; stroke-linejoin:round; stroke-width:2; stroke-opacity:0.1; fill:none\" points=\"186.274,724.72 2352.76,724.72 \"/>\n",
       "<polyline clip-path=\"url(#clip742)\" style=\"stroke:#000000; stroke-linecap:round; stroke-linejoin:round; stroke-width:2; stroke-opacity:0.1; fill:none\" points=\"186.274,405.637 2352.76,405.637 \"/>\n",
       "<polyline clip-path=\"url(#clip742)\" style=\"stroke:#000000; stroke-linecap:round; stroke-linejoin:round; stroke-width:2; stroke-opacity:0.1; fill:none\" points=\"186.274,86.5544 2352.76,86.5544 \"/>\n",
       "<polyline clip-path=\"url(#clip740)\" style=\"stroke:#000000; stroke-linecap:round; stroke-linejoin:round; stroke-width:4; stroke-opacity:1; fill:none\" points=\"186.274,1423.18 186.274,47.2441 \"/>\n",
       "<polyline clip-path=\"url(#clip740)\" style=\"stroke:#000000; stroke-linecap:round; stroke-linejoin:round; stroke-width:4; stroke-opacity:1; fill:none\" points=\"186.274,1362.89 205.172,1362.89 \"/>\n",
       "<polyline clip-path=\"url(#clip740)\" style=\"stroke:#000000; stroke-linecap:round; stroke-linejoin:round; stroke-width:4; stroke-opacity:1; fill:none\" points=\"186.274,1043.8 205.172,1043.8 \"/>\n",
       "<polyline clip-path=\"url(#clip740)\" style=\"stroke:#000000; stroke-linecap:round; stroke-linejoin:round; stroke-width:4; stroke-opacity:1; fill:none\" points=\"186.274,724.72 205.172,724.72 \"/>\n",
       "<polyline clip-path=\"url(#clip740)\" style=\"stroke:#000000; stroke-linecap:round; stroke-linejoin:round; stroke-width:4; stroke-opacity:1; fill:none\" points=\"186.274,405.637 205.172,405.637 \"/>\n",
       "<polyline clip-path=\"url(#clip740)\" style=\"stroke:#000000; stroke-linecap:round; stroke-linejoin:round; stroke-width:4; stroke-opacity:1; fill:none\" points=\"186.274,86.5544 205.172,86.5544 \"/>\n",
       "<path clip-path=\"url(#clip740)\" d=\"M62.9365 1348.68 Q59.3254 1348.68 57.4967 1352.25 Q55.6912 1355.79 55.6912 1362.92 Q55.6912 1370.03 57.4967 1373.59 Q59.3254 1377.13 62.9365 1377.13 Q66.5707 1377.13 68.3763 1373.59 Q70.205 1370.03 70.205 1362.92 Q70.205 1355.79 68.3763 1352.25 Q66.5707 1348.68 62.9365 1348.68 M62.9365 1344.98 Q68.7467 1344.98 71.8022 1349.59 Q74.8809 1354.17 74.8809 1362.92 Q74.8809 1371.65 71.8022 1376.25 Q68.7467 1380.84 62.9365 1380.84 Q57.1264 1380.84 54.0477 1376.25 Q50.9921 1371.65 50.9921 1362.92 Q50.9921 1354.17 54.0477 1349.59 Q57.1264 1344.98 62.9365 1344.98 Z\" fill=\"#000000\" fill-rule=\"nonzero\" fill-opacity=\"1\" /><path clip-path=\"url(#clip740)\" d=\"M83.0984 1374.29 L87.9827 1374.29 L87.9827 1380.17 L83.0984 1380.17 L83.0984 1374.29 Z\" fill=\"#000000\" fill-rule=\"nonzero\" fill-opacity=\"1\" /><path clip-path=\"url(#clip740)\" d=\"M108.168 1348.68 Q104.557 1348.68 102.728 1352.25 Q100.922 1355.79 100.922 1362.92 Q100.922 1370.03 102.728 1373.59 Q104.557 1377.13 108.168 1377.13 Q111.802 1377.13 113.608 1373.59 Q115.436 1370.03 115.436 1362.92 Q115.436 1355.79 113.608 1352.25 Q111.802 1348.68 108.168 1348.68 M108.168 1344.98 Q113.978 1344.98 117.033 1349.59 Q120.112 1354.17 120.112 1362.92 Q120.112 1371.65 117.033 1376.25 Q113.978 1380.84 108.168 1380.84 Q102.358 1380.84 99.2789 1376.25 Q96.2234 1371.65 96.2234 1362.92 Q96.2234 1354.17 99.2789 1349.59 Q102.358 1344.98 108.168 1344.98 Z\" fill=\"#000000\" fill-rule=\"nonzero\" fill-opacity=\"1\" /><path clip-path=\"url(#clip740)\" d=\"M138.33 1348.68 Q134.719 1348.68 132.89 1352.25 Q131.084 1355.79 131.084 1362.92 Q131.084 1370.03 132.89 1373.59 Q134.719 1377.13 138.33 1377.13 Q141.964 1377.13 143.769 1373.59 Q145.598 1370.03 145.598 1362.92 Q145.598 1355.79 143.769 1352.25 Q141.964 1348.68 138.33 1348.68 M138.33 1344.98 Q144.14 1344.98 147.195 1349.59 Q150.274 1354.17 150.274 1362.92 Q150.274 1371.65 147.195 1376.25 Q144.14 1380.84 138.33 1380.84 Q132.519 1380.84 129.441 1376.25 Q126.385 1371.65 126.385 1362.92 Q126.385 1354.17 129.441 1349.59 Q132.519 1344.98 138.33 1344.98 Z\" fill=\"#000000\" fill-rule=\"nonzero\" fill-opacity=\"1\" /><path clip-path=\"url(#clip740)\" d=\"M63.9319 1029.6 Q60.3208 1029.6 58.4921 1033.17 Q56.6865 1036.71 56.6865 1043.84 Q56.6865 1050.94 58.4921 1054.51 Q60.3208 1058.05 63.9319 1058.05 Q67.5661 1058.05 69.3717 1054.51 Q71.2004 1050.94 71.2004 1043.84 Q71.2004 1036.71 69.3717 1033.17 Q67.5661 1029.6 63.9319 1029.6 M63.9319 1025.9 Q69.742 1025.9 72.7976 1030.5 Q75.8763 1035.09 75.8763 1043.84 Q75.8763 1052.56 72.7976 1057.17 Q69.742 1061.75 63.9319 1061.75 Q58.1217 1061.75 55.043 1057.17 Q51.9875 1052.56 51.9875 1043.84 Q51.9875 1035.09 55.043 1030.5 Q58.1217 1025.9 63.9319 1025.9 Z\" fill=\"#000000\" fill-rule=\"nonzero\" fill-opacity=\"1\" /><path clip-path=\"url(#clip740)\" d=\"M84.0938 1055.2 L88.978 1055.2 L88.978 1061.08 L84.0938 1061.08 L84.0938 1055.2 Z\" fill=\"#000000\" fill-rule=\"nonzero\" fill-opacity=\"1\" /><path clip-path=\"url(#clip740)\" d=\"M103.191 1057.15 L119.51 1057.15 L119.51 1061.08 L97.566 1061.08 L97.566 1057.15 Q100.228 1054.39 104.811 1049.76 Q109.418 1045.11 110.598 1043.77 Q112.844 1041.25 113.723 1039.51 Q114.626 1037.75 114.626 1036.06 Q114.626 1033.31 112.682 1031.57 Q110.76 1029.83 107.658 1029.83 Q105.459 1029.83 103.006 1030.6 Q100.575 1031.36 97.7974 1032.91 L97.7974 1028.19 Q100.621 1027.06 103.075 1026.48 Q105.529 1025.9 107.566 1025.9 Q112.936 1025.9 116.131 1028.58 Q119.325 1031.27 119.325 1035.76 Q119.325 1037.89 118.515 1039.81 Q117.728 1041.71 115.621 1044.3 Q115.043 1044.97 111.941 1048.19 Q108.839 1051.38 103.191 1057.15 Z\" fill=\"#000000\" fill-rule=\"nonzero\" fill-opacity=\"1\" /><path clip-path=\"url(#clip740)\" d=\"M129.371 1026.52 L147.728 1026.52 L147.728 1030.46 L133.654 1030.46 L133.654 1038.93 Q134.672 1038.58 135.691 1038.42 Q136.709 1038.24 137.728 1038.24 Q143.515 1038.24 146.894 1041.41 Q150.274 1044.58 150.274 1050 Q150.274 1055.57 146.802 1058.68 Q143.33 1061.75 137.01 1061.75 Q134.834 1061.75 132.566 1061.38 Q130.32 1061.01 127.913 1060.27 L127.913 1055.57 Q129.996 1056.71 132.219 1057.26 Q134.441 1057.82 136.918 1057.82 Q140.922 1057.82 143.26 1055.71 Q145.598 1053.61 145.598 1050 Q145.598 1046.38 143.26 1044.28 Q140.922 1042.17 136.918 1042.17 Q135.043 1042.17 133.168 1042.59 Q131.316 1043 129.371 1043.88 L129.371 1026.52 Z\" fill=\"#000000\" fill-rule=\"nonzero\" fill-opacity=\"1\" /><path clip-path=\"url(#clip740)\" d=\"M62.9365 710.519 Q59.3254 710.519 57.4967 714.084 Q55.6912 717.625 55.6912 724.755 Q55.6912 731.861 57.4967 735.426 Q59.3254 738.968 62.9365 738.968 Q66.5707 738.968 68.3763 735.426 Q70.205 731.861 70.205 724.755 Q70.205 717.625 68.3763 714.084 Q66.5707 710.519 62.9365 710.519 M62.9365 706.815 Q68.7467 706.815 71.8022 711.422 Q74.8809 716.005 74.8809 724.755 Q74.8809 733.482 71.8022 738.088 Q68.7467 742.672 62.9365 742.672 Q57.1264 742.672 54.0477 738.088 Q50.9921 733.482 50.9921 724.755 Q50.9921 716.005 54.0477 711.422 Q57.1264 706.815 62.9365 706.815 Z\" fill=\"#000000\" fill-rule=\"nonzero\" fill-opacity=\"1\" /><path clip-path=\"url(#clip740)\" d=\"M83.0984 736.121 L87.9827 736.121 L87.9827 742 L83.0984 742 L83.0984 736.121 Z\" fill=\"#000000\" fill-rule=\"nonzero\" fill-opacity=\"1\" /><path clip-path=\"url(#clip740)\" d=\"M98.2141 707.44 L116.57 707.44 L116.57 711.375 L102.496 711.375 L102.496 719.848 Q103.515 719.5 104.534 719.338 Q105.552 719.153 106.571 719.153 Q112.358 719.153 115.737 722.324 Q119.117 725.496 119.117 730.912 Q119.117 736.491 115.645 739.593 Q112.172 742.672 105.853 742.672 Q103.677 742.672 101.409 742.301 Q99.1632 741.931 96.7558 741.19 L96.7558 736.491 Q98.8391 737.625 101.061 738.181 Q103.284 738.736 105.76 738.736 Q109.765 738.736 112.103 736.63 Q114.441 734.523 114.441 730.912 Q114.441 727.301 112.103 725.195 Q109.765 723.088 105.76 723.088 Q103.885 723.088 102.01 723.505 Q100.159 723.922 98.2141 724.801 L98.2141 707.44 Z\" fill=\"#000000\" fill-rule=\"nonzero\" fill-opacity=\"1\" /><path clip-path=\"url(#clip740)\" d=\"M138.33 710.519 Q134.719 710.519 132.89 714.084 Q131.084 717.625 131.084 724.755 Q131.084 731.861 132.89 735.426 Q134.719 738.968 138.33 738.968 Q141.964 738.968 143.769 735.426 Q145.598 731.861 145.598 724.755 Q145.598 717.625 143.769 714.084 Q141.964 710.519 138.33 710.519 M138.33 706.815 Q144.14 706.815 147.195 711.422 Q150.274 716.005 150.274 724.755 Q150.274 733.482 147.195 738.088 Q144.14 742.672 138.33 742.672 Q132.519 742.672 129.441 738.088 Q126.385 733.482 126.385 724.755 Q126.385 716.005 129.441 711.422 Q132.519 706.815 138.33 706.815 Z\" fill=\"#000000\" fill-rule=\"nonzero\" fill-opacity=\"1\" /><path clip-path=\"url(#clip740)\" d=\"M63.9319 391.436 Q60.3208 391.436 58.4921 395.001 Q56.6865 398.542 56.6865 405.672 Q56.6865 412.778 58.4921 416.343 Q60.3208 419.885 63.9319 419.885 Q67.5661 419.885 69.3717 416.343 Q71.2004 412.778 71.2004 405.672 Q71.2004 398.542 69.3717 395.001 Q67.5661 391.436 63.9319 391.436 M63.9319 387.732 Q69.742 387.732 72.7976 392.339 Q75.8763 396.922 75.8763 405.672 Q75.8763 414.399 72.7976 419.005 Q69.742 423.589 63.9319 423.589 Q58.1217 423.589 55.043 419.005 Q51.9875 414.399 51.9875 405.672 Q51.9875 396.922 55.043 392.339 Q58.1217 387.732 63.9319 387.732 Z\" fill=\"#000000\" fill-rule=\"nonzero\" fill-opacity=\"1\" /><path clip-path=\"url(#clip740)\" d=\"M84.0938 417.038 L88.978 417.038 L88.978 422.917 L84.0938 422.917 L84.0938 417.038 Z\" fill=\"#000000\" fill-rule=\"nonzero\" fill-opacity=\"1\" /><path clip-path=\"url(#clip740)\" d=\"M97.9826 388.357 L120.205 388.357 L120.205 390.348 L107.658 422.917 L102.774 422.917 L114.58 392.292 L97.9826 392.292 L97.9826 388.357 Z\" fill=\"#000000\" fill-rule=\"nonzero\" fill-opacity=\"1\" /><path clip-path=\"url(#clip740)\" d=\"M129.371 388.357 L147.728 388.357 L147.728 392.292 L133.654 392.292 L133.654 400.765 Q134.672 400.417 135.691 400.255 Q136.709 400.07 137.728 400.07 Q143.515 400.07 146.894 403.242 Q150.274 406.413 150.274 411.829 Q150.274 417.408 146.802 420.51 Q143.33 423.589 137.01 423.589 Q134.834 423.589 132.566 423.218 Q130.32 422.848 127.913 422.107 L127.913 417.408 Q129.996 418.542 132.219 419.098 Q134.441 419.653 136.918 419.653 Q140.922 419.653 143.26 417.547 Q145.598 415.441 145.598 411.829 Q145.598 408.218 143.26 406.112 Q140.922 404.005 136.918 404.005 Q135.043 404.005 133.168 404.422 Q131.316 404.839 129.371 405.718 L129.371 388.357 Z\" fill=\"#000000\" fill-rule=\"nonzero\" fill-opacity=\"1\" /><path clip-path=\"url(#clip740)\" d=\"M53.7467 99.8992 L61.3856 99.8992 L61.3856 73.5336 L53.0754 75.2003 L53.0754 70.941 L61.3393 69.2744 L66.0152 69.2744 L66.0152 99.8992 L73.654 99.8992 L73.654 103.834 L53.7467 103.834 L53.7467 99.8992 Z\" fill=\"#000000\" fill-rule=\"nonzero\" fill-opacity=\"1\" /><path clip-path=\"url(#clip740)\" d=\"M83.0984 97.9548 L87.9827 97.9548 L87.9827 103.834 L83.0984 103.834 L83.0984 97.9548 Z\" fill=\"#000000\" fill-rule=\"nonzero\" fill-opacity=\"1\" /><path clip-path=\"url(#clip740)\" d=\"M108.168 72.3531 Q104.557 72.3531 102.728 75.9179 Q100.922 79.4595 100.922 86.5891 Q100.922 93.6956 102.728 97.2604 Q104.557 100.802 108.168 100.802 Q111.802 100.802 113.608 97.2604 Q115.436 93.6956 115.436 86.5891 Q115.436 79.4595 113.608 75.9179 Q111.802 72.3531 108.168 72.3531 M108.168 68.6494 Q113.978 68.6494 117.033 73.2559 Q120.112 77.8392 120.112 86.5891 Q120.112 95.3159 117.033 99.9224 Q113.978 104.506 108.168 104.506 Q102.358 104.506 99.2789 99.9224 Q96.2234 95.3159 96.2234 86.5891 Q96.2234 77.8392 99.2789 73.2559 Q102.358 68.6494 108.168 68.6494 Z\" fill=\"#000000\" fill-rule=\"nonzero\" fill-opacity=\"1\" /><path clip-path=\"url(#clip740)\" d=\"M138.33 72.3531 Q134.719 72.3531 132.89 75.9179 Q131.084 79.4595 131.084 86.5891 Q131.084 93.6956 132.89 97.2604 Q134.719 100.802 138.33 100.802 Q141.964 100.802 143.769 97.2604 Q145.598 93.6956 145.598 86.5891 Q145.598 79.4595 143.769 75.9179 Q141.964 72.3531 138.33 72.3531 M138.33 68.6494 Q144.14 68.6494 147.195 73.2559 Q150.274 77.8392 150.274 86.5891 Q150.274 95.3159 147.195 99.9224 Q144.14 104.506 138.33 104.506 Q132.519 104.506 129.441 99.9224 Q126.385 95.3159 126.385 86.5891 Q126.385 77.8392 129.441 73.2559 Q132.519 68.6494 138.33 68.6494 Z\" fill=\"#000000\" fill-rule=\"nonzero\" fill-opacity=\"1\" /><circle clip-path=\"url(#clip742)\" cx=\"247.59\" cy=\"86.1857\" r=\"14.4\" fill=\"#009af9\" fill-rule=\"evenodd\" fill-opacity=\"1\" stroke=\"#000000\" stroke-opacity=\"1\" stroke-width=\"3.2\"/>\n",
       "<circle clip-path=\"url(#clip742)\" cx=\"268.028\" cy=\"318.452\" r=\"14.4\" fill=\"#009af9\" fill-rule=\"evenodd\" fill-opacity=\"1\" stroke=\"#000000\" stroke-opacity=\"1\" stroke-width=\"3.2\"/>\n",
       "<circle clip-path=\"url(#clip742)\" cx=\"288.467\" cy=\"517.217\" r=\"14.4\" fill=\"#009af9\" fill-rule=\"evenodd\" fill-opacity=\"1\" stroke=\"#000000\" stroke-opacity=\"1\" stroke-width=\"3.2\"/>\n",
       "<circle clip-path=\"url(#clip742)\" cx=\"308.905\" cy=\"660.336\" r=\"14.4\" fill=\"#009af9\" fill-rule=\"evenodd\" fill-opacity=\"1\" stroke=\"#000000\" stroke-opacity=\"1\" stroke-width=\"3.2\"/>\n",
       "<circle clip-path=\"url(#clip742)\" cx=\"329.344\" cy=\"789.648\" r=\"14.4\" fill=\"#009af9\" fill-rule=\"evenodd\" fill-opacity=\"1\" stroke=\"#000000\" stroke-opacity=\"1\" stroke-width=\"3.2\"/>\n",
       "<circle clip-path=\"url(#clip742)\" cx=\"349.782\" cy=\"906.524\" r=\"14.4\" fill=\"#009af9\" fill-rule=\"evenodd\" fill-opacity=\"1\" stroke=\"#000000\" stroke-opacity=\"1\" stroke-width=\"3.2\"/>\n",
       "<circle clip-path=\"url(#clip742)\" cx=\"370.221\" cy=\"986.644\" r=\"14.4\" fill=\"#009af9\" fill-rule=\"evenodd\" fill-opacity=\"1\" stroke=\"#000000\" stroke-opacity=\"1\" stroke-width=\"3.2\"/>\n",
       "<circle clip-path=\"url(#clip742)\" cx=\"390.659\" cy=\"1060.61\" r=\"14.4\" fill=\"#009af9\" fill-rule=\"evenodd\" fill-opacity=\"1\" stroke=\"#000000\" stroke-opacity=\"1\" stroke-width=\"3.2\"/>\n",
       "<circle clip-path=\"url(#clip742)\" cx=\"411.098\" cy=\"1101.85\" r=\"14.4\" fill=\"#009af9\" fill-rule=\"evenodd\" fill-opacity=\"1\" stroke=\"#000000\" stroke-opacity=\"1\" stroke-width=\"3.2\"/>\n",
       "<circle clip-path=\"url(#clip742)\" cx=\"431.536\" cy=\"1132.64\" r=\"14.4\" fill=\"#009af9\" fill-rule=\"evenodd\" fill-opacity=\"1\" stroke=\"#000000\" stroke-opacity=\"1\" stroke-width=\"3.2\"/>\n",
       "<circle clip-path=\"url(#clip742)\" cx=\"451.975\" cy=\"1183.09\" r=\"14.4\" fill=\"#009af9\" fill-rule=\"evenodd\" fill-opacity=\"1\" stroke=\"#000000\" stroke-opacity=\"1\" stroke-width=\"3.2\"/>\n",
       "<circle clip-path=\"url(#clip742)\" cx=\"472.413\" cy=\"1230.59\" r=\"14.4\" fill=\"#009af9\" fill-rule=\"evenodd\" fill-opacity=\"1\" stroke=\"#000000\" stroke-opacity=\"1\" stroke-width=\"3.2\"/>\n",
       "<circle clip-path=\"url(#clip742)\" cx=\"492.852\" cy=\"1256.18\" r=\"14.4\" fill=\"#009af9\" fill-rule=\"evenodd\" fill-opacity=\"1\" stroke=\"#000000\" stroke-opacity=\"1\" stroke-width=\"3.2\"/>\n",
       "<circle clip-path=\"url(#clip742)\" cx=\"513.29\" cy=\"1264.59\" r=\"14.4\" fill=\"#009af9\" fill-rule=\"evenodd\" fill-opacity=\"1\" stroke=\"#000000\" stroke-opacity=\"1\" stroke-width=\"3.2\"/>\n",
       "<circle clip-path=\"url(#clip742)\" cx=\"533.729\" cy=\"1300.67\" r=\"14.4\" fill=\"#009af9\" fill-rule=\"evenodd\" fill-opacity=\"1\" stroke=\"#000000\" stroke-opacity=\"1\" stroke-width=\"3.2\"/>\n",
       "<circle clip-path=\"url(#clip742)\" cx=\"554.167\" cy=\"1302.41\" r=\"14.4\" fill=\"#009af9\" fill-rule=\"evenodd\" fill-opacity=\"1\" stroke=\"#000000\" stroke-opacity=\"1\" stroke-width=\"3.2\"/>\n",
       "<circle clip-path=\"url(#clip742)\" cx=\"574.606\" cy=\"1305.37\" r=\"14.4\" fill=\"#009af9\" fill-rule=\"evenodd\" fill-opacity=\"1\" stroke=\"#000000\" stroke-opacity=\"1\" stroke-width=\"3.2\"/>\n",
       "<circle clip-path=\"url(#clip742)\" cx=\"595.044\" cy=\"1325.78\" r=\"14.4\" fill=\"#009af9\" fill-rule=\"evenodd\" fill-opacity=\"1\" stroke=\"#000000\" stroke-opacity=\"1\" stroke-width=\"3.2\"/>\n",
       "<circle clip-path=\"url(#clip742)\" cx=\"615.483\" cy=\"1327.75\" r=\"14.4\" fill=\"#009af9\" fill-rule=\"evenodd\" fill-opacity=\"1\" stroke=\"#000000\" stroke-opacity=\"1\" stroke-width=\"3.2\"/>\n",
       "<circle clip-path=\"url(#clip742)\" cx=\"635.921\" cy=\"1341.22\" r=\"14.4\" fill=\"#009af9\" fill-rule=\"evenodd\" fill-opacity=\"1\" stroke=\"#000000\" stroke-opacity=\"1\" stroke-width=\"3.2\"/>\n",
       "<circle clip-path=\"url(#clip742)\" cx=\"656.36\" cy=\"1332.11\" r=\"14.4\" fill=\"#009af9\" fill-rule=\"evenodd\" fill-opacity=\"1\" stroke=\"#000000\" stroke-opacity=\"1\" stroke-width=\"3.2\"/>\n",
       "<circle clip-path=\"url(#clip742)\" cx=\"676.798\" cy=\"1347.37\" r=\"14.4\" fill=\"#009af9\" fill-rule=\"evenodd\" fill-opacity=\"1\" stroke=\"#000000\" stroke-opacity=\"1\" stroke-width=\"3.2\"/>\n",
       "<circle clip-path=\"url(#clip742)\" cx=\"697.237\" cy=\"1363.69\" r=\"14.4\" fill=\"#009af9\" fill-rule=\"evenodd\" fill-opacity=\"1\" stroke=\"#000000\" stroke-opacity=\"1\" stroke-width=\"3.2\"/>\n",
       "<circle clip-path=\"url(#clip742)\" cx=\"717.675\" cy=\"1339.27\" r=\"14.4\" fill=\"#009af9\" fill-rule=\"evenodd\" fill-opacity=\"1\" stroke=\"#000000\" stroke-opacity=\"1\" stroke-width=\"3.2\"/>\n",
       "<circle clip-path=\"url(#clip742)\" cx=\"738.114\" cy=\"1353.21\" r=\"14.4\" fill=\"#009af9\" fill-rule=\"evenodd\" fill-opacity=\"1\" stroke=\"#000000\" stroke-opacity=\"1\" stroke-width=\"3.2\"/>\n",
       "<circle clip-path=\"url(#clip742)\" cx=\"758.552\" cy=\"1358.7\" r=\"14.4\" fill=\"#009af9\" fill-rule=\"evenodd\" fill-opacity=\"1\" stroke=\"#000000\" stroke-opacity=\"1\" stroke-width=\"3.2\"/>\n",
       "<circle clip-path=\"url(#clip742)\" cx=\"778.991\" cy=\"1345.42\" r=\"14.4\" fill=\"#009af9\" fill-rule=\"evenodd\" fill-opacity=\"1\" stroke=\"#000000\" stroke-opacity=\"1\" stroke-width=\"3.2\"/>\n",
       "<circle clip-path=\"url(#clip742)\" cx=\"799.429\" cy=\"1359.93\" r=\"14.4\" fill=\"#009af9\" fill-rule=\"evenodd\" fill-opacity=\"1\" stroke=\"#000000\" stroke-opacity=\"1\" stroke-width=\"3.2\"/>\n",
       "<circle clip-path=\"url(#clip742)\" cx=\"819.868\" cy=\"1351.44\" r=\"14.4\" fill=\"#009af9\" fill-rule=\"evenodd\" fill-opacity=\"1\" stroke=\"#000000\" stroke-opacity=\"1\" stroke-width=\"3.2\"/>\n",
       "<circle clip-path=\"url(#clip742)\" cx=\"840.306\" cy=\"1369.67\" r=\"14.4\" fill=\"#009af9\" fill-rule=\"evenodd\" fill-opacity=\"1\" stroke=\"#000000\" stroke-opacity=\"1\" stroke-width=\"3.2\"/>\n",
       "<circle clip-path=\"url(#clip742)\" cx=\"860.745\" cy=\"1362.73\" r=\"14.4\" fill=\"#009af9\" fill-rule=\"evenodd\" fill-opacity=\"1\" stroke=\"#000000\" stroke-opacity=\"1\" stroke-width=\"3.2\"/>\n",
       "<circle clip-path=\"url(#clip742)\" cx=\"881.183\" cy=\"1384.24\" r=\"14.4\" fill=\"#009af9\" fill-rule=\"evenodd\" fill-opacity=\"1\" stroke=\"#000000\" stroke-opacity=\"1\" stroke-width=\"3.2\"/>\n",
       "<circle clip-path=\"url(#clip742)\" cx=\"901.622\" cy=\"1372.36\" r=\"14.4\" fill=\"#009af9\" fill-rule=\"evenodd\" fill-opacity=\"1\" stroke=\"#000000\" stroke-opacity=\"1\" stroke-width=\"3.2\"/>\n",
       "<circle clip-path=\"url(#clip742)\" cx=\"922.06\" cy=\"1367.7\" r=\"14.4\" fill=\"#009af9\" fill-rule=\"evenodd\" fill-opacity=\"1\" stroke=\"#000000\" stroke-opacity=\"1\" stroke-width=\"3.2\"/>\n",
       "<circle clip-path=\"url(#clip742)\" cx=\"942.499\" cy=\"1356.9\" r=\"14.4\" fill=\"#009af9\" fill-rule=\"evenodd\" fill-opacity=\"1\" stroke=\"#000000\" stroke-opacity=\"1\" stroke-width=\"3.2\"/>\n",
       "<circle clip-path=\"url(#clip742)\" cx=\"962.937\" cy=\"1361.05\" r=\"14.4\" fill=\"#009af9\" fill-rule=\"evenodd\" fill-opacity=\"1\" stroke=\"#000000\" stroke-opacity=\"1\" stroke-width=\"3.2\"/>\n",
       "<circle clip-path=\"url(#clip742)\" cx=\"983.376\" cy=\"1375.53\" r=\"14.4\" fill=\"#009af9\" fill-rule=\"evenodd\" fill-opacity=\"1\" stroke=\"#000000\" stroke-opacity=\"1\" stroke-width=\"3.2\"/>\n",
       "<circle clip-path=\"url(#clip742)\" cx=\"1003.81\" cy=\"1365.2\" r=\"14.4\" fill=\"#009af9\" fill-rule=\"evenodd\" fill-opacity=\"1\" stroke=\"#000000\" stroke-opacity=\"1\" stroke-width=\"3.2\"/>\n",
       "<circle clip-path=\"url(#clip742)\" cx=\"1024.25\" cy=\"1353.96\" r=\"14.4\" fill=\"#009af9\" fill-rule=\"evenodd\" fill-opacity=\"1\" stroke=\"#000000\" stroke-opacity=\"1\" stroke-width=\"3.2\"/>\n",
       "<circle clip-path=\"url(#clip742)\" cx=\"1044.69\" cy=\"1367.74\" r=\"14.4\" fill=\"#009af9\" fill-rule=\"evenodd\" fill-opacity=\"1\" stroke=\"#000000\" stroke-opacity=\"1\" stroke-width=\"3.2\"/>\n",
       "<circle clip-path=\"url(#clip742)\" cx=\"1065.13\" cy=\"1365.03\" r=\"14.4\" fill=\"#009af9\" fill-rule=\"evenodd\" fill-opacity=\"1\" stroke=\"#000000\" stroke-opacity=\"1\" stroke-width=\"3.2\"/>\n",
       "<circle clip-path=\"url(#clip742)\" cx=\"1085.57\" cy=\"1359.44\" r=\"14.4\" fill=\"#009af9\" fill-rule=\"evenodd\" fill-opacity=\"1\" stroke=\"#000000\" stroke-opacity=\"1\" stroke-width=\"3.2\"/>\n",
       "<circle clip-path=\"url(#clip742)\" cx=\"1106.01\" cy=\"1373.22\" r=\"14.4\" fill=\"#009af9\" fill-rule=\"evenodd\" fill-opacity=\"1\" stroke=\"#000000\" stroke-opacity=\"1\" stroke-width=\"3.2\"/>\n",
       "<circle clip-path=\"url(#clip742)\" cx=\"1126.45\" cy=\"1351.31\" r=\"14.4\" fill=\"#009af9\" fill-rule=\"evenodd\" fill-opacity=\"1\" stroke=\"#000000\" stroke-opacity=\"1\" stroke-width=\"3.2\"/>\n",
       "<circle clip-path=\"url(#clip742)\" cx=\"1146.88\" cy=\"1358.66\" r=\"14.4\" fill=\"#009af9\" fill-rule=\"evenodd\" fill-opacity=\"1\" stroke=\"#000000\" stroke-opacity=\"1\" stroke-width=\"3.2\"/>\n",
       "<circle clip-path=\"url(#clip742)\" cx=\"1167.32\" cy=\"1377.68\" r=\"14.4\" fill=\"#009af9\" fill-rule=\"evenodd\" fill-opacity=\"1\" stroke=\"#000000\" stroke-opacity=\"1\" stroke-width=\"3.2\"/>\n",
       "<circle clip-path=\"url(#clip742)\" cx=\"1187.76\" cy=\"1370.9\" r=\"14.4\" fill=\"#009af9\" fill-rule=\"evenodd\" fill-opacity=\"1\" stroke=\"#000000\" stroke-opacity=\"1\" stroke-width=\"3.2\"/>\n",
       "<circle clip-path=\"url(#clip742)\" cx=\"1208.2\" cy=\"1352.72\" r=\"14.4\" fill=\"#009af9\" fill-rule=\"evenodd\" fill-opacity=\"1\" stroke=\"#000000\" stroke-opacity=\"1\" stroke-width=\"3.2\"/>\n",
       "<circle clip-path=\"url(#clip742)\" cx=\"1228.64\" cy=\"1362.22\" r=\"14.4\" fill=\"#009af9\" fill-rule=\"evenodd\" fill-opacity=\"1\" stroke=\"#000000\" stroke-opacity=\"1\" stroke-width=\"3.2\"/>\n",
       "<circle clip-path=\"url(#clip742)\" cx=\"1249.08\" cy=\"1353.62\" r=\"14.4\" fill=\"#009af9\" fill-rule=\"evenodd\" fill-opacity=\"1\" stroke=\"#000000\" stroke-opacity=\"1\" stroke-width=\"3.2\"/>\n",
       "<circle clip-path=\"url(#clip742)\" cx=\"1269.51\" cy=\"1355.78\" r=\"14.4\" fill=\"#009af9\" fill-rule=\"evenodd\" fill-opacity=\"1\" stroke=\"#000000\" stroke-opacity=\"1\" stroke-width=\"3.2\"/>\n",
       "<circle clip-path=\"url(#clip742)\" cx=\"1289.95\" cy=\"1372.05\" r=\"14.4\" fill=\"#009af9\" fill-rule=\"evenodd\" fill-opacity=\"1\" stroke=\"#000000\" stroke-opacity=\"1\" stroke-width=\"3.2\"/>\n",
       "<circle clip-path=\"url(#clip742)\" cx=\"1310.39\" cy=\"1383.39\" r=\"14.4\" fill=\"#009af9\" fill-rule=\"evenodd\" fill-opacity=\"1\" stroke=\"#000000\" stroke-opacity=\"1\" stroke-width=\"3.2\"/>\n",
       "<circle clip-path=\"url(#clip742)\" cx=\"1330.83\" cy=\"1356.78\" r=\"14.4\" fill=\"#009af9\" fill-rule=\"evenodd\" fill-opacity=\"1\" stroke=\"#000000\" stroke-opacity=\"1\" stroke-width=\"3.2\"/>\n",
       "<circle clip-path=\"url(#clip742)\" cx=\"1351.27\" cy=\"1347.7\" r=\"14.4\" fill=\"#009af9\" fill-rule=\"evenodd\" fill-opacity=\"1\" stroke=\"#000000\" stroke-opacity=\"1\" stroke-width=\"3.2\"/>\n",
       "<circle clip-path=\"url(#clip742)\" cx=\"1371.71\" cy=\"1354.23\" r=\"14.4\" fill=\"#009af9\" fill-rule=\"evenodd\" fill-opacity=\"1\" stroke=\"#000000\" stroke-opacity=\"1\" stroke-width=\"3.2\"/>\n",
       "<circle clip-path=\"url(#clip742)\" cx=\"1392.15\" cy=\"1376.78\" r=\"14.4\" fill=\"#009af9\" fill-rule=\"evenodd\" fill-opacity=\"1\" stroke=\"#000000\" stroke-opacity=\"1\" stroke-width=\"3.2\"/>\n",
       "<circle clip-path=\"url(#clip742)\" cx=\"1412.58\" cy=\"1366.4\" r=\"14.4\" fill=\"#009af9\" fill-rule=\"evenodd\" fill-opacity=\"1\" stroke=\"#000000\" stroke-opacity=\"1\" stroke-width=\"3.2\"/>\n",
       "<circle clip-path=\"url(#clip742)\" cx=\"1433.02\" cy=\"1361.05\" r=\"14.4\" fill=\"#009af9\" fill-rule=\"evenodd\" fill-opacity=\"1\" stroke=\"#000000\" stroke-opacity=\"1\" stroke-width=\"3.2\"/>\n",
       "<circle clip-path=\"url(#clip742)\" cx=\"1453.46\" cy=\"1360.57\" r=\"14.4\" fill=\"#009af9\" fill-rule=\"evenodd\" fill-opacity=\"1\" stroke=\"#000000\" stroke-opacity=\"1\" stroke-width=\"3.2\"/>\n",
       "<circle clip-path=\"url(#clip742)\" cx=\"1473.9\" cy=\"1354.23\" r=\"14.4\" fill=\"#009af9\" fill-rule=\"evenodd\" fill-opacity=\"1\" stroke=\"#000000\" stroke-opacity=\"1\" stroke-width=\"3.2\"/>\n",
       "<circle clip-path=\"url(#clip742)\" cx=\"1494.34\" cy=\"1370.07\" r=\"14.4\" fill=\"#009af9\" fill-rule=\"evenodd\" fill-opacity=\"1\" stroke=\"#000000\" stroke-opacity=\"1\" stroke-width=\"3.2\"/>\n",
       "<circle clip-path=\"url(#clip742)\" cx=\"1514.78\" cy=\"1380.61\" r=\"14.4\" fill=\"#009af9\" fill-rule=\"evenodd\" fill-opacity=\"1\" stroke=\"#000000\" stroke-opacity=\"1\" stroke-width=\"3.2\"/>\n",
       "<circle clip-path=\"url(#clip742)\" cx=\"1535.22\" cy=\"1365.34\" r=\"14.4\" fill=\"#009af9\" fill-rule=\"evenodd\" fill-opacity=\"1\" stroke=\"#000000\" stroke-opacity=\"1\" stroke-width=\"3.2\"/>\n",
       "<circle clip-path=\"url(#clip742)\" cx=\"1555.65\" cy=\"1365.95\" r=\"14.4\" fill=\"#009af9\" fill-rule=\"evenodd\" fill-opacity=\"1\" stroke=\"#000000\" stroke-opacity=\"1\" stroke-width=\"3.2\"/>\n",
       "<circle clip-path=\"url(#clip742)\" cx=\"1576.09\" cy=\"1363.11\" r=\"14.4\" fill=\"#009af9\" fill-rule=\"evenodd\" fill-opacity=\"1\" stroke=\"#000000\" stroke-opacity=\"1\" stroke-width=\"3.2\"/>\n",
       "<circle clip-path=\"url(#clip742)\" cx=\"1596.53\" cy=\"1365.9\" r=\"14.4\" fill=\"#009af9\" fill-rule=\"evenodd\" fill-opacity=\"1\" stroke=\"#000000\" stroke-opacity=\"1\" stroke-width=\"3.2\"/>\n",
       "<circle clip-path=\"url(#clip742)\" cx=\"1616.97\" cy=\"1347.77\" r=\"14.4\" fill=\"#009af9\" fill-rule=\"evenodd\" fill-opacity=\"1\" stroke=\"#000000\" stroke-opacity=\"1\" stroke-width=\"3.2\"/>\n",
       "<circle clip-path=\"url(#clip742)\" cx=\"1637.41\" cy=\"1370.54\" r=\"14.4\" fill=\"#009af9\" fill-rule=\"evenodd\" fill-opacity=\"1\" stroke=\"#000000\" stroke-opacity=\"1\" stroke-width=\"3.2\"/>\n",
       "<circle clip-path=\"url(#clip742)\" cx=\"1657.85\" cy=\"1364.03\" r=\"14.4\" fill=\"#009af9\" fill-rule=\"evenodd\" fill-opacity=\"1\" stroke=\"#000000\" stroke-opacity=\"1\" stroke-width=\"3.2\"/>\n",
       "<circle clip-path=\"url(#clip742)\" cx=\"1678.29\" cy=\"1355\" r=\"14.4\" fill=\"#009af9\" fill-rule=\"evenodd\" fill-opacity=\"1\" stroke=\"#000000\" stroke-opacity=\"1\" stroke-width=\"3.2\"/>\n",
       "<circle clip-path=\"url(#clip742)\" cx=\"1698.72\" cy=\"1357.15\" r=\"14.4\" fill=\"#009af9\" fill-rule=\"evenodd\" fill-opacity=\"1\" stroke=\"#000000\" stroke-opacity=\"1\" stroke-width=\"3.2\"/>\n",
       "<circle clip-path=\"url(#clip742)\" cx=\"1719.16\" cy=\"1349.35\" r=\"14.4\" fill=\"#009af9\" fill-rule=\"evenodd\" fill-opacity=\"1\" stroke=\"#000000\" stroke-opacity=\"1\" stroke-width=\"3.2\"/>\n",
       "<circle clip-path=\"url(#clip742)\" cx=\"1739.6\" cy=\"1378.78\" r=\"14.4\" fill=\"#009af9\" fill-rule=\"evenodd\" fill-opacity=\"1\" stroke=\"#000000\" stroke-opacity=\"1\" stroke-width=\"3.2\"/>\n",
       "<circle clip-path=\"url(#clip742)\" cx=\"1760.04\" cy=\"1366\" r=\"14.4\" fill=\"#009af9\" fill-rule=\"evenodd\" fill-opacity=\"1\" stroke=\"#000000\" stroke-opacity=\"1\" stroke-width=\"3.2\"/>\n",
       "<circle clip-path=\"url(#clip742)\" cx=\"1780.48\" cy=\"1346.18\" r=\"14.4\" fill=\"#009af9\" fill-rule=\"evenodd\" fill-opacity=\"1\" stroke=\"#000000\" stroke-opacity=\"1\" stroke-width=\"3.2\"/>\n",
       "<circle clip-path=\"url(#clip742)\" cx=\"1800.92\" cy=\"1355.55\" r=\"14.4\" fill=\"#009af9\" fill-rule=\"evenodd\" fill-opacity=\"1\" stroke=\"#000000\" stroke-opacity=\"1\" stroke-width=\"3.2\"/>\n",
       "<circle clip-path=\"url(#clip742)\" cx=\"1821.35\" cy=\"1354.97\" r=\"14.4\" fill=\"#009af9\" fill-rule=\"evenodd\" fill-opacity=\"1\" stroke=\"#000000\" stroke-opacity=\"1\" stroke-width=\"3.2\"/>\n",
       "<circle clip-path=\"url(#clip742)\" cx=\"1841.79\" cy=\"1351.19\" r=\"14.4\" fill=\"#009af9\" fill-rule=\"evenodd\" fill-opacity=\"1\" stroke=\"#000000\" stroke-opacity=\"1\" stroke-width=\"3.2\"/>\n",
       "<circle clip-path=\"url(#clip742)\" cx=\"1862.23\" cy=\"1360.19\" r=\"14.4\" fill=\"#009af9\" fill-rule=\"evenodd\" fill-opacity=\"1\" stroke=\"#000000\" stroke-opacity=\"1\" stroke-width=\"3.2\"/>\n",
       "<circle clip-path=\"url(#clip742)\" cx=\"1882.67\" cy=\"1370.26\" r=\"14.4\" fill=\"#009af9\" fill-rule=\"evenodd\" fill-opacity=\"1\" stroke=\"#000000\" stroke-opacity=\"1\" stroke-width=\"3.2\"/>\n",
       "<circle clip-path=\"url(#clip742)\" cx=\"1903.11\" cy=\"1359.46\" r=\"14.4\" fill=\"#009af9\" fill-rule=\"evenodd\" fill-opacity=\"1\" stroke=\"#000000\" stroke-opacity=\"1\" stroke-width=\"3.2\"/>\n",
       "<circle clip-path=\"url(#clip742)\" cx=\"1923.55\" cy=\"1368.46\" r=\"14.4\" fill=\"#009af9\" fill-rule=\"evenodd\" fill-opacity=\"1\" stroke=\"#000000\" stroke-opacity=\"1\" stroke-width=\"3.2\"/>\n",
       "<circle clip-path=\"url(#clip742)\" cx=\"1943.99\" cy=\"1367.64\" r=\"14.4\" fill=\"#009af9\" fill-rule=\"evenodd\" fill-opacity=\"1\" stroke=\"#000000\" stroke-opacity=\"1\" stroke-width=\"3.2\"/>\n",
       "<circle clip-path=\"url(#clip742)\" cx=\"1964.42\" cy=\"1363.86\" r=\"14.4\" fill=\"#009af9\" fill-rule=\"evenodd\" fill-opacity=\"1\" stroke=\"#000000\" stroke-opacity=\"1\" stroke-width=\"3.2\"/>\n",
       "<circle clip-path=\"url(#clip742)\" cx=\"1984.86\" cy=\"1374.17\" r=\"14.4\" fill=\"#009af9\" fill-rule=\"evenodd\" fill-opacity=\"1\" stroke=\"#000000\" stroke-opacity=\"1\" stroke-width=\"3.2\"/>\n",
       "<circle clip-path=\"url(#clip742)\" cx=\"2005.3\" cy=\"1382.01\" r=\"14.4\" fill=\"#009af9\" fill-rule=\"evenodd\" fill-opacity=\"1\" stroke=\"#000000\" stroke-opacity=\"1\" stroke-width=\"3.2\"/>\n",
       "<circle clip-path=\"url(#clip742)\" cx=\"2025.74\" cy=\"1372.28\" r=\"14.4\" fill=\"#009af9\" fill-rule=\"evenodd\" fill-opacity=\"1\" stroke=\"#000000\" stroke-opacity=\"1\" stroke-width=\"3.2\"/>\n",
       "<circle clip-path=\"url(#clip742)\" cx=\"2046.18\" cy=\"1354.72\" r=\"14.4\" fill=\"#009af9\" fill-rule=\"evenodd\" fill-opacity=\"1\" stroke=\"#000000\" stroke-opacity=\"1\" stroke-width=\"3.2\"/>\n",
       "<circle clip-path=\"url(#clip742)\" cx=\"2066.62\" cy=\"1347.49\" r=\"14.4\" fill=\"#009af9\" fill-rule=\"evenodd\" fill-opacity=\"1\" stroke=\"#000000\" stroke-opacity=\"1\" stroke-width=\"3.2\"/>\n",
       "<circle clip-path=\"url(#clip742)\" cx=\"2087.06\" cy=\"1370.03\" r=\"14.4\" fill=\"#009af9\" fill-rule=\"evenodd\" fill-opacity=\"1\" stroke=\"#000000\" stroke-opacity=\"1\" stroke-width=\"3.2\"/>\n",
       "<circle clip-path=\"url(#clip742)\" cx=\"2107.49\" cy=\"1360.17\" r=\"14.4\" fill=\"#009af9\" fill-rule=\"evenodd\" fill-opacity=\"1\" stroke=\"#000000\" stroke-opacity=\"1\" stroke-width=\"3.2\"/>\n",
       "<circle clip-path=\"url(#clip742)\" cx=\"2127.93\" cy=\"1366.11\" r=\"14.4\" fill=\"#009af9\" fill-rule=\"evenodd\" fill-opacity=\"1\" stroke=\"#000000\" stroke-opacity=\"1\" stroke-width=\"3.2\"/>\n",
       "<circle clip-path=\"url(#clip742)\" cx=\"2148.37\" cy=\"1370.97\" r=\"14.4\" fill=\"#009af9\" fill-rule=\"evenodd\" fill-opacity=\"1\" stroke=\"#000000\" stroke-opacity=\"1\" stroke-width=\"3.2\"/>\n",
       "<circle clip-path=\"url(#clip742)\" cx=\"2168.81\" cy=\"1350.91\" r=\"14.4\" fill=\"#009af9\" fill-rule=\"evenodd\" fill-opacity=\"1\" stroke=\"#000000\" stroke-opacity=\"1\" stroke-width=\"3.2\"/>\n",
       "<circle clip-path=\"url(#clip742)\" cx=\"2189.25\" cy=\"1363.48\" r=\"14.4\" fill=\"#009af9\" fill-rule=\"evenodd\" fill-opacity=\"1\" stroke=\"#000000\" stroke-opacity=\"1\" stroke-width=\"3.2\"/>\n",
       "<circle clip-path=\"url(#clip742)\" cx=\"2209.69\" cy=\"1351.42\" r=\"14.4\" fill=\"#009af9\" fill-rule=\"evenodd\" fill-opacity=\"1\" stroke=\"#000000\" stroke-opacity=\"1\" stroke-width=\"3.2\"/>\n",
       "<circle clip-path=\"url(#clip742)\" cx=\"2230.12\" cy=\"1335.74\" r=\"14.4\" fill=\"#009af9\" fill-rule=\"evenodd\" fill-opacity=\"1\" stroke=\"#000000\" stroke-opacity=\"1\" stroke-width=\"3.2\"/>\n",
       "<circle clip-path=\"url(#clip742)\" cx=\"2250.56\" cy=\"1358.08\" r=\"14.4\" fill=\"#009af9\" fill-rule=\"evenodd\" fill-opacity=\"1\" stroke=\"#000000\" stroke-opacity=\"1\" stroke-width=\"3.2\"/>\n",
       "<circle clip-path=\"url(#clip742)\" cx=\"2271\" cy=\"1377.77\" r=\"14.4\" fill=\"#009af9\" fill-rule=\"evenodd\" fill-opacity=\"1\" stroke=\"#000000\" stroke-opacity=\"1\" stroke-width=\"3.2\"/>\n",
       "<circle clip-path=\"url(#clip742)\" cx=\"2291.44\" cy=\"1377.01\" r=\"14.4\" fill=\"#009af9\" fill-rule=\"evenodd\" fill-opacity=\"1\" stroke=\"#000000\" stroke-opacity=\"1\" stroke-width=\"3.2\"/>\n",
       "<polyline clip-path=\"url(#clip742)\" style=\"stroke:#e26f46; stroke-linecap:round; stroke-linejoin:round; stroke-width:4; stroke-opacity:1; fill:none\" points=\"247.59,86.5544 268.028,317.914 288.467,507.335 308.905,662.42 329.344,789.393 349.782,893.35 370.221,978.462 390.659,1048.15 411.098,1105.2 431.536,1151.91 451.975,1190.15 472.413,1221.46 492.852,1247.1 513.29,1268.09 533.729,1285.27 554.167,1299.34 574.606,1310.86 595.044,1320.29 615.483,1328.01 635.921,1334.33 656.36,1339.51 676.798,1343.75 697.237,1347.22 717.675,1350.06 738.114,1352.38 758.552,1354.29 778.991,1355.85 799.429,1357.12 819.868,1358.17 840.306,1359.02 860.745,1359.72 881.183,1360.3 901.622,1360.77 922.06,1361.15 942.499,1361.46 962.937,1361.72 983.376,1361.93 1003.81,1362.11 1024.25,1362.25 1044.69,1362.36 1065.13,1362.46 1085.57,1362.54 1106.01,1362.6 1126.45,1362.65 1146.88,1362.69 1167.32,1362.73 1187.76,1362.76 1208.2,1362.78 1228.64,1362.8 1249.08,1362.82 1269.51,1362.83 1289.95,1362.84 1310.39,1362.85 1330.83,1362.85 1351.27,1362.86 1371.71,1362.86 1392.15,1362.87 1412.58,1362.87 1433.02,1362.87 1453.46,1362.88 1473.9,1362.88 1494.34,1362.88 1514.78,1362.88 1535.22,1362.88 1555.65,1362.88 1576.09,1362.88 1596.53,1362.88 1616.97,1362.88 1637.41,1362.88 1657.85,1362.88 1678.29,1362.89 1698.72,1362.89 1719.16,1362.89 1739.6,1362.89 1760.04,1362.89 1780.48,1362.89 1800.92,1362.89 1821.35,1362.89 1841.79,1362.89 1862.23,1362.89 1882.67,1362.89 1903.11,1362.89 1923.55,1362.89 1943.99,1362.89 1964.42,1362.89 1984.86,1362.89 2005.3,1362.89 2025.74,1362.89 2046.18,1362.89 2066.62,1362.89 2087.06,1362.89 2107.49,1362.89 2127.93,1362.89 2148.37,1362.89 2168.81,1362.89 2189.25,1362.89 2209.69,1362.89 2230.12,1362.89 2250.56,1362.89 2271,1362.89 2291.44,1362.89 \"/>\n",
       "<path clip-path=\"url(#clip740)\" d=\"M1295.24 248.629 L2280.54 248.629 L2280.54 93.1086 L1295.24 93.1086  Z\" fill=\"#ffffff\" fill-rule=\"evenodd\" fill-opacity=\"1\"/>\n",
       "<polyline clip-path=\"url(#clip740)\" style=\"stroke:#000000; stroke-linecap:round; stroke-linejoin:round; stroke-width:4; stroke-opacity:1; fill:none\" points=\"1295.24,248.629 2280.54,248.629 2280.54,93.1086 1295.24,93.1086 1295.24,248.629 \"/>\n",
       "<circle clip-path=\"url(#clip740)\" cx=\"1391.53\" cy=\"144.949\" r=\"20.48\" fill=\"#009af9\" fill-rule=\"evenodd\" fill-opacity=\"1\" stroke=\"#000000\" stroke-opacity=\"1\" stroke-width=\"4.55111\"/>\n",
       "<path clip-path=\"url(#clip740)\" d=\"M1487.81 127.669 L1492.49 127.669 L1492.49 142.275 L1508 127.669 L1514.02 127.669 L1496.87 143.78 L1515.24 162.229 L1509.09 162.229 L1492.49 145.585 L1492.49 162.229 L1487.81 162.229 L1487.81 127.669 Z\" fill=\"#000000\" fill-rule=\"nonzero\" fill-opacity=\"1\" /><path clip-path=\"url(#clip740)\" d=\"M1526.4 139.289 Q1522.98 139.289 1520.99 141.974 Q1518.99 144.636 1518.99 149.289 Q1518.99 153.942 1520.96 156.627 Q1522.95 159.289 1526.4 159.289 Q1529.81 159.289 1531.8 156.604 Q1533.79 153.918 1533.79 149.289 Q1533.79 144.682 1531.8 141.997 Q1529.81 139.289 1526.4 139.289 M1526.4 135.678 Q1531.96 135.678 1535.13 139.289 Q1538.3 142.9 1538.3 149.289 Q1538.3 155.655 1535.13 159.289 Q1531.96 162.9 1526.4 162.9 Q1520.82 162.9 1517.65 159.289 Q1514.5 155.655 1514.5 149.289 Q1514.5 142.9 1517.65 139.289 Q1520.82 135.678 1526.4 135.678 Z\" fill=\"#000000\" fill-rule=\"nonzero\" fill-opacity=\"1\" /><path clip-path=\"url(#clip740)\" d=\"M1542.88 136.303 L1547.14 136.303 L1552.47 156.534 L1557.77 136.303 L1562.79 136.303 L1568.12 156.534 L1573.42 136.303 L1577.68 136.303 L1570.89 162.229 L1565.87 162.229 L1560.29 140.979 L1554.69 162.229 L1549.67 162.229 L1542.88 136.303 Z\" fill=\"#000000\" fill-rule=\"nonzero\" fill-opacity=\"1\" /><path clip-path=\"url(#clip740)\" d=\"M1595.92 149.196 Q1590.75 149.196 1588.76 150.377 Q1586.77 151.557 1586.77 154.405 Q1586.77 156.673 1588.25 158.016 Q1589.76 159.335 1592.33 159.335 Q1595.87 159.335 1598 156.835 Q1600.15 154.312 1600.15 150.145 L1600.15 149.196 L1595.92 149.196 M1604.41 147.437 L1604.41 162.229 L1600.15 162.229 L1600.15 158.293 Q1598.69 160.655 1596.52 161.789 Q1594.34 162.9 1591.19 162.9 Q1587.21 162.9 1584.85 160.678 Q1582.51 158.432 1582.51 154.682 Q1582.51 150.307 1585.43 148.085 Q1588.37 145.863 1594.18 145.863 L1600.15 145.863 L1600.15 145.446 Q1600.15 142.507 1598.21 140.909 Q1596.29 139.289 1592.79 139.289 Q1590.57 139.289 1588.46 139.821 Q1586.36 140.354 1584.41 141.419 L1584.41 137.483 Q1586.75 136.581 1588.95 136.141 Q1591.15 135.678 1593.23 135.678 Q1598.86 135.678 1601.63 138.594 Q1604.41 141.511 1604.41 147.437 Z\" fill=\"#000000\" fill-rule=\"nonzero\" fill-opacity=\"1\" /><path clip-path=\"url(#clip740)\" d=\"M1628.21 140.284 Q1627.49 139.868 1626.63 139.682 Q1625.8 139.474 1624.78 139.474 Q1621.17 139.474 1619.23 141.835 Q1617.3 144.173 1617.3 148.571 L1617.3 162.229 L1613.02 162.229 L1613.02 136.303 L1617.3 136.303 L1617.3 140.331 Q1618.65 137.969 1620.8 136.835 Q1622.95 135.678 1626.03 135.678 Q1626.47 135.678 1627 135.747 Q1627.54 135.794 1628.18 135.909 L1628.21 140.284 Z\" fill=\"#000000\" fill-rule=\"nonzero\" fill-opacity=\"1\" /><path clip-path=\"url(#clip740)\" d=\"M1632.67 136.303 L1636.93 136.303 L1636.93 162.229 L1632.67 162.229 L1632.67 136.303 M1632.67 126.21 L1636.93 126.21 L1636.93 131.604 L1632.67 131.604 L1632.67 126.21 Z\" fill=\"#000000\" fill-rule=\"nonzero\" fill-opacity=\"1\" /><path clip-path=\"url(#clip740)\" d=\"M1657.63 149.196 Q1652.47 149.196 1650.48 150.377 Q1648.48 151.557 1648.48 154.405 Q1648.48 156.673 1649.97 158.016 Q1651.47 159.335 1654.04 159.335 Q1657.58 159.335 1659.71 156.835 Q1661.86 154.312 1661.86 150.145 L1661.86 149.196 L1657.63 149.196 M1666.12 147.437 L1666.12 162.229 L1661.86 162.229 L1661.86 158.293 Q1660.41 160.655 1658.23 161.789 Q1656.05 162.9 1652.91 162.9 Q1648.92 162.9 1646.56 160.678 Q1644.23 158.432 1644.23 154.682 Q1644.23 150.307 1647.14 148.085 Q1650.08 145.863 1655.89 145.863 L1661.86 145.863 L1661.86 145.446 Q1661.86 142.507 1659.92 140.909 Q1658 139.289 1654.5 139.289 Q1652.28 139.289 1650.17 139.821 Q1648.07 140.354 1646.12 141.419 L1646.12 137.483 Q1648.46 136.581 1650.66 136.141 Q1652.86 135.678 1654.94 135.678 Q1660.57 135.678 1663.35 138.594 Q1666.12 141.511 1666.12 147.437 Z\" fill=\"#000000\" fill-rule=\"nonzero\" fill-opacity=\"1\" /><path clip-path=\"url(#clip740)\" d=\"M1696.45 146.581 L1696.45 162.229 L1692.19 162.229 L1692.19 146.719 Q1692.19 143.039 1690.75 141.21 Q1689.32 139.382 1686.45 139.382 Q1683 139.382 1681.01 141.581 Q1679.02 143.78 1679.02 147.576 L1679.02 162.229 L1674.73 162.229 L1674.73 136.303 L1679.02 136.303 L1679.02 140.331 Q1680.54 137.993 1682.61 136.835 Q1684.69 135.678 1687.4 135.678 Q1691.86 135.678 1694.16 138.456 Q1696.45 141.21 1696.45 146.581 Z\" fill=\"#000000\" fill-rule=\"nonzero\" fill-opacity=\"1\" /><path clip-path=\"url(#clip740)\" d=\"M1723.6 137.298 L1723.6 141.28 Q1721.79 140.284 1719.97 139.798 Q1718.16 139.289 1716.31 139.289 Q1712.17 139.289 1709.87 141.928 Q1707.58 144.544 1707.58 149.289 Q1707.58 154.034 1709.87 156.673 Q1712.17 159.289 1716.31 159.289 Q1718.16 159.289 1719.97 158.803 Q1721.79 158.293 1723.6 157.298 L1723.6 161.233 Q1721.82 162.067 1719.9 162.483 Q1718 162.9 1715.85 162.9 Q1709.99 162.9 1706.54 159.219 Q1703.09 155.539 1703.09 149.289 Q1703.09 142.946 1706.56 139.312 Q1710.06 135.678 1716.12 135.678 Q1718.09 135.678 1719.97 136.095 Q1721.84 136.488 1723.6 137.298 Z\" fill=\"#000000\" fill-rule=\"nonzero\" fill-opacity=\"1\" /><path clip-path=\"url(#clip740)\" d=\"M1731.01 136.303 L1735.27 136.303 L1735.27 162.692 Q1735.27 167.645 1733.37 169.867 Q1731.49 172.09 1727.3 172.09 L1725.68 172.09 L1725.68 168.479 L1726.82 168.479 Q1729.25 168.479 1730.13 167.344 Q1731.01 166.233 1731.01 162.692 L1731.01 136.303 M1731.01 126.21 L1735.27 126.21 L1735.27 131.604 L1731.01 131.604 L1731.01 126.21 Z\" fill=\"#000000\" fill-rule=\"nonzero\" fill-opacity=\"1\" /><path clip-path=\"url(#clip740)\" d=\"M1755.96 149.196 Q1750.8 149.196 1748.81 150.377 Q1746.82 151.557 1746.82 154.405 Q1746.82 156.673 1748.3 158.016 Q1749.8 159.335 1752.37 159.335 Q1755.91 159.335 1758.04 156.835 Q1760.2 154.312 1760.2 150.145 L1760.2 149.196 L1755.96 149.196 M1764.46 147.437 L1764.46 162.229 L1760.2 162.229 L1760.2 158.293 Q1758.74 160.655 1756.56 161.789 Q1754.39 162.9 1751.24 162.9 Q1747.26 162.9 1744.9 160.678 Q1742.56 158.432 1742.56 154.682 Q1742.56 150.307 1745.48 148.085 Q1748.41 145.863 1754.23 145.863 L1760.2 145.863 L1760.2 145.446 Q1760.2 142.507 1758.25 140.909 Q1756.33 139.289 1752.84 139.289 Q1750.61 139.289 1748.51 139.821 Q1746.4 140.354 1744.46 141.419 L1744.46 137.483 Q1746.79 136.581 1748.99 136.141 Q1751.19 135.678 1753.28 135.678 Q1758.9 135.678 1761.68 138.594 Q1764.46 141.511 1764.46 147.437 Z\" fill=\"#000000\" fill-rule=\"nonzero\" fill-opacity=\"1\" /><path clip-path=\"url(#clip740)\" d=\"M1792.42 158.34 L1792.42 172.09 L1788.14 172.09 L1788.14 136.303 L1792.42 136.303 L1792.42 140.238 Q1793.76 137.923 1795.8 136.812 Q1797.86 135.678 1800.71 135.678 Q1805.43 135.678 1808.37 139.428 Q1811.33 143.178 1811.33 149.289 Q1811.33 155.4 1808.37 159.15 Q1805.43 162.9 1800.71 162.9 Q1797.86 162.9 1795.8 161.789 Q1793.76 160.655 1792.42 158.34 M1806.91 149.289 Q1806.91 144.59 1804.97 141.928 Q1803.04 139.243 1799.66 139.243 Q1796.29 139.243 1794.34 141.928 Q1792.42 144.59 1792.42 149.289 Q1792.42 153.988 1794.34 156.673 Q1796.29 159.335 1799.66 159.335 Q1803.04 159.335 1804.97 156.673 Q1806.91 153.988 1806.91 149.289 Z\" fill=\"#000000\" fill-rule=\"nonzero\" fill-opacity=\"1\" /><path clip-path=\"url(#clip740)\" d=\"M1828.44 139.289 Q1825.01 139.289 1823.02 141.974 Q1821.03 144.636 1821.03 149.289 Q1821.03 153.942 1823 156.627 Q1824.99 159.289 1828.44 159.289 Q1831.84 159.289 1833.83 156.604 Q1835.82 153.918 1835.82 149.289 Q1835.82 144.682 1833.83 141.997 Q1831.84 139.289 1828.44 139.289 M1828.44 135.678 Q1833.99 135.678 1837.16 139.289 Q1840.34 142.9 1840.34 149.289 Q1840.34 155.655 1837.16 159.289 Q1833.99 162.9 1828.44 162.9 Q1822.86 162.9 1819.69 159.289 Q1816.54 155.655 1816.54 149.289 Q1816.54 142.9 1819.69 139.289 Q1822.86 135.678 1828.44 135.678 Z\" fill=\"#000000\" fill-rule=\"nonzero\" fill-opacity=\"1\" /><path clip-path=\"url(#clip740)\" d=\"M1867.58 141.28 Q1869.18 138.409 1871.4 137.044 Q1873.62 135.678 1876.63 135.678 Q1880.68 135.678 1882.88 138.525 Q1885.08 141.349 1885.08 146.581 L1885.08 162.229 L1880.8 162.229 L1880.8 146.719 Q1880.8 142.993 1879.48 141.187 Q1878.16 139.382 1875.45 139.382 Q1872.14 139.382 1870.22 141.581 Q1868.3 143.78 1868.3 147.576 L1868.3 162.229 L1864.02 162.229 L1864.02 146.719 Q1864.02 142.969 1862.7 141.187 Q1861.38 139.382 1858.62 139.382 Q1855.36 139.382 1853.44 141.604 Q1851.52 143.803 1851.52 147.576 L1851.52 162.229 L1847.23 162.229 L1847.23 136.303 L1851.52 136.303 L1851.52 140.331 Q1852.97 137.946 1855.01 136.812 Q1857.05 135.678 1859.85 135.678 Q1862.67 135.678 1864.64 137.113 Q1866.63 138.548 1867.58 141.28 Z\" fill=\"#000000\" fill-rule=\"nonzero\" fill-opacity=\"1\" /><path clip-path=\"url(#clip740)\" d=\"M1893.58 136.303 L1897.84 136.303 L1897.84 162.229 L1893.58 162.229 L1893.58 136.303 M1893.58 126.21 L1897.84 126.21 L1897.84 131.604 L1893.58 131.604 L1893.58 126.21 Z\" fill=\"#000000\" fill-rule=\"nonzero\" fill-opacity=\"1\" /><path clip-path=\"url(#clip740)\" d=\"M1928.92 148.201 L1928.92 150.284 L1909.34 150.284 Q1909.62 154.682 1911.98 156.997 Q1914.36 159.289 1918.6 159.289 Q1921.05 159.289 1923.34 158.687 Q1925.66 158.085 1927.93 156.881 L1927.93 160.909 Q1925.64 161.881 1923.23 162.391 Q1920.82 162.9 1918.34 162.9 Q1912.14 162.9 1908.51 159.289 Q1904.9 155.678 1904.9 149.52 Q1904.9 143.155 1908.32 139.428 Q1911.77 135.678 1917.6 135.678 Q1922.84 135.678 1925.87 139.057 Q1928.92 142.414 1928.92 148.201 M1924.66 146.951 Q1924.62 143.456 1922.7 141.372 Q1920.8 139.289 1917.65 139.289 Q1914.09 139.289 1911.93 141.303 Q1909.8 143.317 1909.48 146.974 L1924.66 146.951 M1921.17 162.229 L1923.92 162.229 Q1922.88 163.641 1922.37 164.659 Q1921.89 165.678 1921.89 166.395 Q1921.89 167.46 1922.51 167.992 Q1923.16 168.525 1924.41 168.525 Q1925.15 168.525 1925.87 168.34 Q1926.59 168.178 1927.3 167.83 L1927.3 170.909 Q1926.42 171.141 1925.64 171.256 Q1924.85 171.372 1924.15 171.372 Q1921.33 171.372 1919.99 170.354 Q1918.67 169.358 1918.67 167.205 Q1918.67 166.094 1919.27 164.867 Q1919.9 163.664 1921.17 162.229 Z\" fill=\"#000000\" fill-rule=\"nonzero\" fill-opacity=\"1\" /><path clip-path=\"url(#clip740)\" d=\"M1952.97 140.238 L1952.97 126.21 L1957.23 126.21 L1957.23 162.229 L1952.97 162.229 L1952.97 158.34 Q1951.63 160.655 1949.57 161.789 Q1947.53 162.9 1944.66 162.9 Q1939.96 162.9 1937 159.15 Q1934.06 155.4 1934.06 149.289 Q1934.06 143.178 1937 139.428 Q1939.96 135.678 1944.66 135.678 Q1947.53 135.678 1949.57 136.812 Q1951.63 137.923 1952.97 140.238 M1938.46 149.289 Q1938.46 153.988 1940.38 156.673 Q1942.33 159.335 1945.71 159.335 Q1949.09 159.335 1951.03 156.673 Q1952.97 153.988 1952.97 149.289 Q1952.97 144.59 1951.03 141.928 Q1949.09 139.243 1945.71 139.243 Q1942.33 139.243 1940.38 141.928 Q1938.46 144.59 1938.46 149.289 Z\" fill=\"#000000\" fill-rule=\"nonzero\" fill-opacity=\"1\" /><path clip-path=\"url(#clip740)\" d=\"M1964.15 136.303 L1984.39 136.303 L1984.39 140.192 L1968.37 158.826 L1984.39 158.826 L1984.39 162.229 L1963.58 162.229 L1963.58 158.34 L1979.59 139.706 L1964.15 139.706 L1964.15 136.303 Z\" fill=\"#000000\" fill-rule=\"nonzero\" fill-opacity=\"1\" /><path clip-path=\"url(#clip740)\" d=\"M2001.68 164.636 Q1999.87 169.266 1998.16 170.678 Q1996.45 172.09 1993.58 172.09 L1990.17 172.09 L1990.17 168.525 L1992.67 168.525 Q1994.43 168.525 1995.4 167.692 Q1996.38 166.858 1997.56 163.756 L1998.32 161.812 L1987.84 136.303 L1992.35 136.303 L2000.45 156.581 L2008.55 136.303 L2013.07 136.303 L2001.68 164.636 Z\" fill=\"#000000\" fill-rule=\"nonzero\" fill-opacity=\"1\" /><path clip-path=\"url(#clip740)\" d=\"M2032.53 127.669 L2037.56 127.669 L2046.14 140.516 L2054.78 127.669 L2059.8 127.669 L2048.69 144.266 L2060.54 162.229 L2055.52 162.229 L2045.8 147.53 L2036.01 162.229 L2030.96 162.229 L2043.3 143.78 L2032.53 127.669 Z\" fill=\"#000000\" fill-rule=\"nonzero\" fill-opacity=\"1\" /><path clip-path=\"url(#clip740)\" d=\"M2076.72 126.257 Q2073.62 131.581 2072.12 136.789 Q2070.61 141.997 2070.61 147.344 Q2070.61 152.692 2072.12 157.946 Q2073.64 163.178 2076.72 168.479 L2073.02 168.479 Q2069.55 163.039 2067.81 157.784 Q2066.1 152.53 2066.1 147.344 Q2066.1 142.182 2067.81 136.951 Q2069.52 131.72 2073.02 126.257 L2076.72 126.257 Z\" fill=\"#000000\" fill-rule=\"nonzero\" fill-opacity=\"1\" /><path clip-path=\"url(#clip740)\" d=\"M2095.59 130.747 Q2091.98 130.747 2090.15 134.312 Q2088.34 137.854 2088.34 144.983 Q2088.34 152.09 2090.15 155.655 Q2091.98 159.196 2095.59 159.196 Q2099.22 159.196 2101.03 155.655 Q2102.86 152.09 2102.86 144.983 Q2102.86 137.854 2101.03 134.312 Q2099.22 130.747 2095.59 130.747 M2095.59 127.044 Q2101.4 127.044 2104.45 131.65 Q2107.53 136.233 2107.53 144.983 Q2107.53 153.71 2104.45 158.317 Q2101.4 162.9 2095.59 162.9 Q2089.78 162.9 2086.7 158.317 Q2083.64 153.71 2083.64 144.983 Q2083.64 136.233 2086.7 131.65 Q2089.78 127.044 2095.59 127.044 Z\" fill=\"#000000\" fill-rule=\"nonzero\" fill-opacity=\"1\" /><path clip-path=\"url(#clip740)\" d=\"M2114.48 126.257 L2118.18 126.257 Q2121.65 131.72 2123.37 136.951 Q2125.1 142.182 2125.1 147.344 Q2125.1 152.53 2123.37 157.784 Q2121.65 163.039 2118.18 168.479 L2114.48 168.479 Q2117.56 163.178 2119.06 157.946 Q2120.59 152.692 2120.59 147.344 Q2120.59 141.997 2119.06 136.789 Q2117.56 131.581 2114.48 126.257 Z\" fill=\"#000000\" fill-rule=\"nonzero\" fill-opacity=\"1\" /><path clip-path=\"url(#clip740)\" d=\"M2148.71 136.303 L2152.97 136.303 L2152.97 162.229 L2148.71 162.229 L2148.71 136.303 M2148.71 126.21 L2152.97 126.21 L2152.97 131.604 L2148.71 131.604 L2148.71 126.21 Z\" fill=\"#000000\" fill-rule=\"nonzero\" fill-opacity=\"1\" /><path clip-path=\"url(#clip740)\" d=\"M2175.47 127.669 L2180.5 127.669 L2189.08 140.516 L2197.72 127.669 L2202.74 127.669 L2191.63 144.266 L2203.48 162.229 L2198.46 162.229 L2188.74 147.53 L2178.95 162.229 L2173.9 162.229 L2186.24 143.78 L2175.47 127.669 Z\" fill=\"#000000\" fill-rule=\"nonzero\" fill-opacity=\"1\" /><path clip-path=\"url(#clip740)\" d=\"M2219.66 126.257 Q2216.56 131.581 2215.06 136.789 Q2213.55 141.997 2213.55 147.344 Q2213.55 152.692 2215.06 157.946 Q2216.58 163.178 2219.66 168.479 L2215.96 168.479 Q2212.49 163.039 2210.75 157.784 Q2209.04 152.53 2209.04 147.344 Q2209.04 142.182 2210.75 136.951 Q2212.46 131.72 2215.96 126.257 L2219.66 126.257 Z\" fill=\"#000000\" fill-rule=\"nonzero\" fill-opacity=\"1\" /><path clip-path=\"url(#clip740)\" d=\"M2232.14 128.942 L2232.14 136.303 L2240.91 136.303 L2240.91 139.613 L2232.14 139.613 L2232.14 153.687 Q2232.14 156.858 2233 157.761 Q2233.88 158.664 2236.54 158.664 L2240.91 158.664 L2240.91 162.229 L2236.54 162.229 Q2231.61 162.229 2229.73 160.4 Q2227.86 158.548 2227.86 153.687 L2227.86 139.613 L2224.73 139.613 L2224.73 136.303 L2227.86 136.303 L2227.86 128.942 L2232.14 128.942 Z\" fill=\"#000000\" fill-rule=\"nonzero\" fill-opacity=\"1\" /><path clip-path=\"url(#clip740)\" d=\"M2245.84 126.257 L2249.55 126.257 Q2253.02 131.72 2254.73 136.951 Q2256.47 142.182 2256.47 147.344 Q2256.47 152.53 2254.73 157.784 Q2253.02 163.039 2249.55 168.479 L2245.84 168.479 Q2248.92 163.178 2250.43 157.946 Q2251.95 152.692 2251.95 147.344 Q2251.95 141.997 2250.43 136.789 Q2248.92 131.581 2245.84 126.257 Z\" fill=\"#000000\" fill-rule=\"nonzero\" fill-opacity=\"1\" /><polyline clip-path=\"url(#clip740)\" style=\"stroke:#e26f46; stroke-linecap:round; stroke-linejoin:round; stroke-width:4; stroke-opacity:1; fill:none\" points=\"1319.31,196.789 1463.74,196.789 \"/>\n",
       "<path clip-path=\"url(#clip740)\" d=\"M1511.84 200.041 L1511.84 202.124 L1492.26 202.124 Q1492.54 206.522 1494.9 208.837 Q1497.28 211.129 1501.52 211.129 Q1503.97 211.129 1506.26 210.527 Q1508.58 209.925 1510.85 208.721 L1510.85 212.749 Q1508.56 213.721 1506.15 214.231 Q1503.74 214.74 1501.26 214.74 Q1495.06 214.74 1491.43 211.129 Q1487.81 207.518 1487.81 201.36 Q1487.81 194.995 1491.24 191.268 Q1494.69 187.518 1500.52 187.518 Q1505.75 187.518 1508.79 190.897 Q1511.84 194.254 1511.84 200.041 M1507.58 198.791 Q1507.54 195.296 1505.62 193.212 Q1503.72 191.129 1500.57 191.129 Q1497 191.129 1494.85 193.143 Q1492.72 195.157 1492.4 198.814 L1507.58 198.791 Z\" fill=\"#000000\" fill-rule=\"nonzero\" fill-opacity=\"1\" /><path clip-path=\"url(#clip740)\" d=\"M1539.55 188.143 L1530.18 200.759 L1540.04 214.069 L1535.01 214.069 L1527.47 203.883 L1519.92 214.069 L1514.9 214.069 L1524.97 200.504 L1515.75 188.143 L1520.78 188.143 L1527.65 197.379 L1534.53 188.143 L1539.55 188.143 Z\" fill=\"#000000\" fill-rule=\"nonzero\" fill-opacity=\"1\" /><path clip-path=\"url(#clip740)\" d=\"M1550.18 210.18 L1550.18 223.93 L1545.89 223.93 L1545.89 188.143 L1550.18 188.143 L1550.18 192.078 Q1551.52 189.763 1553.55 188.652 Q1555.62 187.518 1558.46 187.518 Q1563.18 187.518 1566.12 191.268 Q1569.09 195.018 1569.09 201.129 Q1569.09 207.24 1566.12 210.99 Q1563.18 214.74 1558.46 214.74 Q1555.62 214.74 1553.55 213.629 Q1551.52 212.495 1550.18 210.18 M1564.67 201.129 Q1564.67 196.43 1562.72 193.768 Q1560.8 191.083 1557.42 191.083 Q1554.04 191.083 1552.1 193.768 Q1550.18 196.43 1550.18 201.129 Q1550.18 205.828 1552.1 208.513 Q1554.04 211.175 1557.42 211.175 Q1560.8 211.175 1562.72 208.513 Q1564.67 205.828 1564.67 201.129 Z\" fill=\"#000000\" fill-rule=\"nonzero\" fill-opacity=\"1\" /><path clip-path=\"url(#clip740)\" d=\"M1586.38 178.097 Q1583.28 183.421 1581.77 188.629 Q1580.27 193.837 1580.27 199.184 Q1580.27 204.532 1581.77 209.786 Q1583.3 215.018 1586.38 220.319 L1582.68 220.319 Q1579.2 214.879 1577.47 209.624 Q1575.75 204.37 1575.75 199.184 Q1575.75 194.022 1577.47 188.791 Q1579.18 183.56 1582.68 178.097 L1586.38 178.097 Z\" fill=\"#000000\" fill-rule=\"nonzero\" fill-opacity=\"1\" /><path clip-path=\"url(#clip740)\" d=\"M1592.49 199.184 L1604.97 199.184 L1604.97 202.981 L1592.49 202.981 L1592.49 199.184 Z\" fill=\"#000000\" fill-rule=\"nonzero\" fill-opacity=\"1\" /><path clip-path=\"url(#clip740)\" d=\"M1616.38 210.133 L1632.7 210.133 L1632.7 214.069 L1610.75 214.069 L1610.75 210.133 Q1613.42 207.379 1618 202.749 Q1622.61 198.096 1623.79 196.754 Q1626.03 194.231 1626.91 192.495 Q1627.81 190.735 1627.81 189.046 Q1627.81 186.291 1625.87 184.555 Q1623.95 182.819 1620.85 182.819 Q1618.65 182.819 1616.19 183.583 Q1613.76 184.347 1610.99 185.897 L1610.99 181.175 Q1613.81 180.041 1616.26 179.462 Q1618.72 178.884 1620.75 178.884 Q1626.12 178.884 1629.32 181.569 Q1632.51 184.254 1632.51 188.745 Q1632.51 190.874 1631.7 192.796 Q1630.92 194.694 1628.81 197.286 Q1628.23 197.958 1625.13 201.175 Q1622.03 204.37 1616.38 210.133 Z\" fill=\"#000000\" fill-rule=\"nonzero\" fill-opacity=\"1\" /><path clip-path=\"url(#clip740)\" d=\"M1652.12 182.101 L1664.09 214.069 L1659.57 214.069 L1652.3 194.902 L1643.37 214.069 L1638.86 214.069 L1650.22 189.208 L1648.51 184.624 Q1647.42 181.708 1644.94 181.708 L1642.72 181.708 L1642.72 178.05 L1645.43 178.097 Q1650.66 178.166 1652.12 182.101 Z\" fill=\"#000000\" fill-rule=\"nonzero\" fill-opacity=\"1\" /><path clip-path=\"url(#clip740)\" d=\"M1674.18 180.782 L1674.18 188.143 L1682.95 188.143 L1682.95 191.453 L1674.18 191.453 L1674.18 205.527 Q1674.18 208.698 1675.04 209.601 Q1675.92 210.504 1678.58 210.504 L1682.95 210.504 L1682.95 214.069 L1678.58 214.069 Q1673.65 214.069 1671.77 212.24 Q1669.9 210.388 1669.9 205.527 L1669.9 191.453 L1666.77 191.453 L1666.77 188.143 L1669.9 188.143 L1669.9 180.782 L1674.18 180.782 Z\" fill=\"#000000\" fill-rule=\"nonzero\" fill-opacity=\"1\" /><path clip-path=\"url(#clip740)\" d=\"M1687.88 178.097 L1691.59 178.097 Q1695.06 183.56 1696.77 188.791 Q1698.51 194.022 1698.51 199.184 Q1698.51 204.37 1696.77 209.624 Q1695.06 214.879 1691.59 220.319 L1687.88 220.319 Q1690.96 215.018 1692.47 209.786 Q1693.99 204.532 1693.99 199.184 Q1693.99 193.837 1692.47 188.629 Q1690.96 183.421 1687.88 178.097 Z\" fill=\"#000000\" fill-rule=\"nonzero\" fill-opacity=\"1\" /></svg>\n"
      ]
     },
     "execution_count": 6,
     "metadata": {},
     "output_type": "execute_result"
    }
   ],
   "source": [
    "plot_covariance(10, 1)"
   ]
  },
  {
   "cell_type": "markdown",
   "metadata": {},
   "source": [
    "Jak widać na powyższym wykresie, kowariancja zanika w tempie wykładniczym. Może mieć to związek z wykładniczym rozkładem czasu oczekwiania na pojawienie się pierwszego zgłoszenia w procesie Poissona."
   ]
  },
  {
   "cell_type": "markdown",
   "metadata": {},
   "source": [
    "## Zadanie 2"
   ]
  },
  {
   "cell_type": "markdown",
   "metadata": {},
   "source": [
    "**Efektywność generacji niejednorodnego procesu Poissona**"
   ]
  },
  {
   "cell_type": "markdown",
   "metadata": {},
   "source": [
    "*Metoda przerzedzania*"
   ]
  },
  {
   "cell_type": "code",
   "execution_count": null,
   "metadata": {},
   "outputs": [],
   "source": [
    "function thinning_method(T::Real, λ::Function, max_λ::Union{Nothing, Real}=nothing; verbose=true)\n",
    "    \n",
    "    # Oblicz numerycznie maksimum funkcji λ jeśli nie zostało ono zadane\n",
    "    if isnothing(max_λ)\n",
    "       max_λ = maximum(λ, 0:0.01:T)\n",
    "    end\n",
    "    \n",
    "    sum = 0\n",
    "    result = Float64[]\n",
    "    count = 0\n",
    "    accepted = 0\n",
    "    \n",
    "    while true\n",
    "        \n",
    "        t = rand(Exponential(1/λ(sum)))\n",
    "        if sum < T\n",
    "            count += 1\n",
    "            # Metoda akceptacji-odrzucenia\n",
    "            if max_λ * rand() <= λ(sum)\n",
    "                push!(result, sum)\n",
    "                sum += t\n",
    "                accepted += 1\n",
    "            end\n",
    "        else\n",
    "            if verbose\n",
    "                print(\"Współczynnik akceptacji: $(accepted / count)\")\n",
    "            end\n",
    "            return (result, 0:length(result)-1)\n",
    "        end\n",
    "        \n",
    "    end\n",
    "end"
   ]
  },
  {
   "cell_type": "markdown",
   "metadata": {},
   "source": [
    "Funkcja szybkorosnąca: $\\lambda(t) = t + 1$"
   ]
  },
  {
   "cell_type": "code",
   "execution_count": null,
   "metadata": {},
   "outputs": [],
   "source": [
    "plot_poisson(thinning_method(40, x -> x + 1, 41), label=\"Niejednorodny proces Poissona\", xlabel=\"t\", title=\"Metoda przerzedzania. λ(t) = t + 1\")\n",
    "plot!(0:0.1:40, x -> 1/2 * x^2 + x, label=\"Górna granica całkowania funkcji λ\")"
   ]
  },
  {
   "cell_type": "markdown",
   "metadata": {},
   "source": [
    "Jak widać trajektoria procesu Poissona asymptotycznie zbiega do górnej granicy całkowania jego funkcji intensywności. Może to być przesłanką za prawidłowym działaniem algorytmu."
   ]
  },
  {
   "cell_type": "code",
   "execution_count": null,
   "metadata": {},
   "outputs": [],
   "source": [
    "@benchmark thinning_method(10, x -> x + 1, 11; verbose=false)"
   ]
  },
  {
   "cell_type": "markdown",
   "metadata": {},
   "source": [
    "Funkcja wolnorosnąca: $\\lambda(t) = \\sqrt{t} + 1$"
   ]
  },
  {
   "cell_type": "code",
   "execution_count": null,
   "metadata": {},
   "outputs": [],
   "source": [
    "plot_poisson(thinning_method(100, x -> sqrt(x) + 1, 11), label=\"Niejednorodny proces Poissona\", xlabel=\"t\", title=\"Metoda przerzedzania. λ(t)=√t + 1\")\n",
    "plot!(0:0.1:100, x -> 2/3 * x^(3/2) + x, label=\"Górna granica całkowania funkcji λ\")"
   ]
  },
  {
   "cell_type": "code",
   "execution_count": null,
   "metadata": {},
   "outputs": [],
   "source": [
    "@benchmark thinning_method(10, x -> sqrt(x) + 1, sqrt(10) + 1; verbose=false)"
   ]
  },
  {
   "cell_type": "markdown",
   "metadata": {},
   "source": [
    "Generowanie procesu Poissona metodą przerzedzania jest szybsze przy użyciu wolnorosnącej funkcji $\\lambda$. Posiada również większy współczynnik akceptacji niż przy użyciu szybkorosnącej funkcji $\\lambda$. "
   ]
  },
  {
   "cell_type": "markdown",
   "metadata": {},
   "source": [
    "*Metoda odwrotnej dystrybuanty*"
   ]
  },
  {
   "cell_type": "code",
   "execution_count": null,
   "metadata": {},
   "outputs": [],
   "source": [
    "function inverse_cdf_method(T::Real, mt::Real, invcdf::Function; step=0.01)\n",
    "    \n",
    "    N = rand(Poisson(mt))\n",
    "    times = invcdf.(rand(N))\n",
    "    return (sort(times), 0:N-1)\n",
    "    \n",
    "end"
   ]
  },
  {
   "cell_type": "code",
   "execution_count": null,
   "metadata": {},
   "outputs": [],
   "source": [
    "# λ(t) = t + 1\n",
    "m(t) = 1/2 * t^2 + t\n",
    "T = 20\n",
    "\n",
    "plot_poisson(\n",
    "    inverse_cdf_method(T, m(T), x -> sqrt(1 + 2*m(T)*x) - 1),\n",
    "    label=\"Niejednorodny proces Poissona\",\n",
    "    title=\"Metoda odwrotnej dystrybuanty. λ(t) = t + 1\",\n",
    ")\n",
    "plot!(0:0.1:T, m, label=\"Funkcja górnej granicy całkowania funkcji λ\") "
   ]
  },
  {
   "cell_type": "code",
   "execution_count": null,
   "metadata": {},
   "outputs": [],
   "source": [
    "@benchmark inverse_cdf_method(10, 60, x -> sqrt(1 + 120x) - 1)"
   ]
  },
  {
   "cell_type": "markdown",
   "metadata": {},
   "source": [
    "Czasy wygenerowania procesu Poissona dla tych samych funkcji $\\lambda$ na tym samym przedziale czasowym, metodami przerzedzania i odwrotnej dystrybuanty są porównywalne (W naszym przypadku było to $2.24\\, \\mu s$ v. $2.09\\, \\mu s$ dla $T=10$ i $\\lambda(t) = t + 1$)."
   ]
  },
  {
   "cell_type": "markdown",
   "metadata": {},
   "source": [
    "## Zadanie 3"
   ]
  },
  {
   "cell_type": "markdown",
   "metadata": {},
   "source": [
    "**Estymacja niejednorodnej intensywności**"
   ]
  },
  {
   "cell_type": "markdown",
   "metadata": {},
   "source": [
    "W celu uzyskania satysfakcjonującej rozdzielczości histogramów będziemy obszar o miarze $|A|$ dzielić na $10\\,|A|$ komórek."
   ]
  },
  {
   "cell_type": "code",
   "execution_count": null,
   "metadata": {},
   "outputs": [],
   "source": [
    "# Histogram dla miary poissonowskiej 1D. \n",
    "function one_dim_poisson_measure_hist(measure::Function, args, bins::Integer, num_of_runs=5000; kwargs...)\n",
    "    \n",
    "    points = Float64[]\n",
    "    \n",
    "    for _ in 1:num_of_runs\n",
    "       append!(points, measure(args...)) \n",
    "    end\n",
    "    \n",
    "    # Wagi dobrane w celu unormowania miary pojedynczej komórki.\n",
    "    histogram(points, bins=bins, weights=10/num_of_runs * ones(length(points)), label=\"Średnia ilość punktów w danej komórce\"; kwargs...) \n",
    "    \n",
    "end"
   ]
  },
  {
   "cell_type": "code",
   "execution_count": null,
   "metadata": {},
   "outputs": [],
   "source": [
    "# Jednorodna miara Poissona określona na prostej, mierząca odcinki [0, l].\n",
    "function one_dim_poisson_measure(l::Real, λ::Real)\n",
    "    \n",
    "    NΩ = rand(Poisson(λ*l))\n",
    "    result = l * rand(NΩ)\n",
    "    \n",
    "    return result \n",
    "\n",
    "end"
   ]
  },
  {
   "cell_type": "markdown",
   "metadata": {},
   "source": [
    "Estymacja w przypadku miary 1D."
   ]
  },
  {
   "cell_type": "code",
   "execution_count": null,
   "metadata": {},
   "outputs": [],
   "source": [
    "L = 10\n",
    "one_dim_poisson_measure_hist(one_dim_poisson_measure, [L, 2], 10L; title=\"Estymacja jednorodnej funkcji intensywności\", xlabel=\"Mierzony odcinek\")\n",
    "plot!(0:L, x -> 2, label=\"Funkcja intensywności λ\", lw=3)"
   ]
  },
  {
   "cell_type": "code",
   "execution_count": null,
   "metadata": {},
   "outputs": [],
   "source": [
    "# Niejednorodna miara Poissona określona na prostej, mierąca odcinki [0, l]\n",
    "function one_dim_nh_poisson_measure(l::Real, λ::Function, λ_max::Real)\n",
    "    \n",
    "    if isnothing(λ_max)\n",
    "        λ_max = maximum(λ, 0:0.1:l)\n",
    "    end\n",
    "    \n",
    "    NΩ = rand(Poisson(λ_max*l))\n",
    "    points = l * rand(NΩ)\n",
    "        \n",
    "    # Przerzedzanie\n",
    "    filter!(x -> λ_max * rand() <= λ(x), points)\n",
    "    \n",
    "    return points \n",
    "        \n",
    "end"
   ]
  },
  {
   "cell_type": "code",
   "execution_count": null,
   "metadata": {},
   "outputs": [],
   "source": [
    "one_dim_poisson_measure_hist(one_dim_nh_poisson_measure, [L, x -> 2x + 1, 2L + 1], 10L; title=\"Estymacja niejednorodnej funkcji intensywności\", xlabel=\"Mierzony odcinek\")\n",
    "plot!(0:L, x -> 2x + 1, label=\"Funkcja intensywności λ\", lw=3)"
   ]
  },
  {
   "cell_type": "markdown",
   "metadata": {},
   "source": [
    "W przypadku miary określonej na płaszczyźnie będziemy dzielić obszar na $25|A|$ komórek. (Ze względu na charakter parametru `bins` w funkcji `histogram2d` chcemy, żeby ten współczynnik był kwadratem liczby naturalnej). "
   ]
  },
  {
   "cell_type": "code",
   "execution_count": null,
   "metadata": {},
   "outputs": [],
   "source": [
    "# Histogram dla miary poissonowskiej 2D. \n",
    "function two_dim_poisson_measure_hist(measure::Function, args, bins::Integer, num_of_runs::Integer=1000; kwargs...)\n",
    "    \n",
    "    results = Vector{Matrix{Float64}}(undef, num_of_runs)\n",
    "    \n",
    "    for i in 1:num_of_runs\n",
    "        results[i] = measure(args...)\n",
    "    end\n",
    "    \n",
    "    points = reduce(vcat, results)\n",
    "    \n",
    "    # Wagi dobrane w celu unormowania miary pojedynczej komórki.\n",
    "    histogram2d(eachcol(points)..., bins=bins, weights=25/num_of_runs * ones(size(points, 1)), aspect_ratio=:equal, colorbar_title=\"Średnia ilośc punktów w danej komórce\"; kwargs...)\n",
    "    \n",
    "end"
   ]
  },
  {
   "cell_type": "code",
   "execution_count": null,
   "metadata": {},
   "outputs": [],
   "source": [
    "# Jednorodna miara Poissona określona na płaszczyźnie, mierząca koła o środku w (0, 0) i promieniu r. \n",
    "function two_dim_poisson_measure(r::Real, λ::Real)\n",
    "    omega_measure = π * r^2\n",
    "    NΩ = rand(Poisson(λ * omega_measure))\n",
    "\n",
    "    points = zeros(NΩ, 2)\n",
    "\n",
    "\n",
    "    for i in 1:NΩ\n",
    "\n",
    "        x = 2r * rand() - r\n",
    "        y = 2r * rand() - r\n",
    "\n",
    "        while x^2 + y^2 > r^2\n",
    "            x = 2r * rand() - r\n",
    "            y = 2r * rand() - r\n",
    "        end\n",
    "\n",
    "        points[i, 1] = x\n",
    "        points[i, 2] = y\n",
    "    end\n",
    "    \n",
    "    return points\n",
    "\n",
    "end"
   ]
  },
  {
   "cell_type": "markdown",
   "metadata": {},
   "source": [
    "Estymacja w przypadku miary 2D."
   ]
  },
  {
   "cell_type": "code",
   "execution_count": null,
   "metadata": {},
   "outputs": [],
   "source": [
    "r = 10\n",
    "lambda = 2\n",
    "# Jeśli za argument `bins` funkcji `histogram2d` podamy x, to tyle komórek zostanie utworzonych\n",
    "# na każdej osi, co daje nam w sumie x^2 komórek. Chcemy mieć w mierzonym kole mniej więcej 25*πr^2 \n",
    "# komórek, więc w całym kwadracie chcemy 100*r^2, dlatego za `bins` dajemy 10*r. \n",
    "bins = 10r\n",
    "two_dim_poisson_measure_hist(two_dim_poisson_measure, [r, lambda], bins, title=\"Estymacja jednorodnej funkcji intensywności\")"
   ]
  },
  {
   "cell_type": "markdown",
   "metadata": {},
   "source": [
    "Powyższy histogram odpowiada wykresowi funkcji intensywności $\\lambda(t) = 2$."
   ]
  },
  {
   "cell_type": "code",
   "execution_count": null,
   "metadata": {},
   "outputs": [],
   "source": [
    "# Niejednorodna miara Poissona określona na płaszczyźnie, mierząca koła o środku w (0, 0) i promieniu r. \n",
    "function two_dim_nh_poisson_measure(r::Real, λ::Function, λ_max::Real)\n",
    "   \n",
    "    points = two_dim_poisson_measure(r, λ_max)\n",
    "    \n",
    "    # Przerzedzanie\n",
    "    result = points[λ_max .* rand(size(points, 1)) .<= λ.(points[:,1], points[:,2]),:]\n",
    "    \n",
    "    return result\n",
    "end"
   ]
  },
  {
   "cell_type": "code",
   "execution_count": null,
   "metadata": {},
   "outputs": [],
   "source": [
    "λ_max = 4\n",
    "λ1(x, y) = λ_max/(x^2 + y^2 + 1)\n",
    "r = 10\n",
    "bins = 10r\n",
    "\n",
    "two_dim_poisson_measure_hist(two_dim_nh_poisson_measure, [r, λ1, λ_max], bins, title=\"Estymacja niejednorodnej funkcji intensywności λ₁\")"
   ]
  },
  {
   "cell_type": "markdown",
   "metadata": {},
   "source": [
    "Powyższy histogram odpowiada wykresowi funkcji intensywności $\\lambda_1(\\mathbf{x}) = \\frac{\\lambda_{max}}{|\\mathbf{x}|^2 + 1}$\n"
   ]
  },
  {
   "cell_type": "code",
   "execution_count": null,
   "metadata": {},
   "outputs": [],
   "source": [
    "surface(-10:0.1:10, -10:0.1:10, λ1, title=\"Wykres funkcji intensywności λ₁\")"
   ]
  },
  {
   "cell_type": "code",
   "execution_count": null,
   "metadata": {},
   "outputs": [],
   "source": [
    "λ2(x, y) = λ_max/(x^2 + 1)\n",
    "two_dim_poisson_measure_hist(two_dim_nh_poisson_measure, [r, λ2, λ_max], bins, title=\"Estymacja niejednorodnej funkcji intensywności λ₂\")"
   ]
  },
  {
   "cell_type": "markdown",
   "metadata": {},
   "source": [
    "Powyższy histogram odpowiada wykresowi funkcji intensywności $\\lambda_2(x, y) = \\frac{\\lambda_{max}}{x^2 + 1}$."
   ]
  },
  {
   "cell_type": "code",
   "execution_count": null,
   "metadata": {},
   "outputs": [],
   "source": [
    "surface(-10:0.1:10, -10:0.1:10, λ2, title=\"Wykres funkcji intensywności λ₂\")"
   ]
  },
  {
   "cell_type": "code",
   "execution_count": null,
   "metadata": {},
   "outputs": [],
   "source": [
    "λ3(x, y) = λ_max/(abs(x) + abs(y) + 1)\n",
    "two_dim_poisson_measure_hist(two_dim_nh_poisson_measure, [r, λ3, λ_max], bins, title=\"Estymacja niejednorodnej funkcji intensywności λ₃\")"
   ]
  },
  {
   "cell_type": "markdown",
   "metadata": {},
   "source": [
    "Powyższy histogram odpowiada wykresowi funkcji intensywności $\\lambda_3(x, y) = \\frac{\\lambda_{max}}{|x| + |y| + 1}$."
   ]
  },
  {
   "cell_type": "code",
   "execution_count": null,
   "metadata": {},
   "outputs": [],
   "source": [
    "surface(-10:0.1:10, -10:0.1:10, (x, y) -> λ_max/(abs(x) + abs(y) + 1), title=\"Wykres funkcji intensywności λ₃\")"
   ]
  },
  {
   "cell_type": "markdown",
   "metadata": {},
   "source": [
    "W przypadku niejednorodnej miary Poissona mamy warunek\n",
    "$$N(A) \\sim \\text{Poiss}\\left(\\int_A \\lambda(x) dx\\right)$$\n",
    "Wagi w funkcji `histogram2d` zostały dobrane w taki sposób, jakby komórka miała miarę 1, tym samym z tw. o wartości średniej\n",
    "$$\\int_A \\lambda(x)\\, dx = \\overline{\\lambda_A}(x)\\,|A| = \\overline{\\lambda_A}(x)$$\n",
    "gdzie $\\overline{\\lambda_A}(x)$ oznacza średnią wartość funkcji intensywności na komórce $A$. Ze względu na małe rozmiary komórek i małą zmienność przyjętych w symulacjach funkcji $\\lambda$ możemy $\\overline{\\lambda}$ przybliżać przez dowolną wartość $\\lambda$ na komórce. Korzystając dodatkowo z faktu, że wartość oczekiwana zmiennej losowej z rozkładu $\\text{Poiss}(\\lambda)$ jest równa $\\lambda$ stwierdzamy, że histogramy powinny w przybliżeniu odpowiadać wykresom funkcji $\\lambda$. Tak też się dzieje w przypadku wykonanych w tym zadaniu symulacji."
   ]
  },
  {
   "cell_type": "markdown",
   "metadata": {},
   "source": [
    "## Zadanie 4"
   ]
  },
  {
   "cell_type": "markdown",
   "metadata": {},
   "source": [
    "**Prawdopodobieństwo ruiny**"
   ]
  },
  {
   "cell_type": "code",
   "execution_count": null,
   "metadata": {},
   "outputs": [],
   "source": [
    "# Generowanie procesu Poissona\n",
    "function poiss_proc(T::Real, λ::Real)\n",
    "    \n",
    "    sum = 0 \n",
    "    result = Float64[] \n",
    "    while true\n",
    "            sum += rand(Exponential(1/λ))\n",
    "            if sum < T\n",
    "                push!(result, sum)\n",
    "            else \n",
    "                return (result, 0:length(result) - 1) \n",
    "            end\n",
    "    end\n",
    "\n",
    "end"
   ]
  },
  {
   "cell_type": "code",
   "execution_count": null,
   "metadata": {},
   "outputs": [],
   "source": [
    "# Generowanie procesu ryzyka o szkodach z rozkładu d, początkowym kapitale u, oraz dryfie c\n",
    "function risk_proc(T::Real, λ::Real, d::Distribution, u::Real, c::Real)\n",
    "    \n",
    "    # Momenty, w których dochodzi do szkody\n",
    "    time_intervals, _ = poiss_proc(T, λ)\n",
    "    # Szkody z rozkładu d\n",
    "    damages = rand(d, length(time_intervals))\n",
    "\n",
    "    # Przedział czasowy, na którym modelujemy kapitał\n",
    "    ts = 0:0.1:T\n",
    "    # Indeksy momentów szkód w ts\n",
    "    idx = findfirst.([[t < t0 for t0 in ts] for t in time_intervals])\n",
    "    # Stałe przychody\n",
    "    incomes = collect(c .* ts)\n",
    "\n",
    "    # Odjęcie szkód od przychodów \n",
    "    for (i, j) in enumerate(idx) \n",
    "        incomes[j:end] .-= damages[i]\n",
    "    end\n",
    "\n",
    "    capital = u .+ incomes\n",
    "\n",
    "    return (collect(ts), capital)\n",
    "end"
   ]
  },
  {
   "cell_type": "code",
   "execution_count": null,
   "metadata": {},
   "outputs": [],
   "source": [
    "# Wykres trajektorii procesu ryzyka\n",
    "function plot_risk_trajectory(T::Real, λ::Real, d::Distribution, u::Real, c::Real)\n",
    "\n",
    "    ts, capital = risk_proc(T, λ, d, u, c)\n",
    "\n",
    "    plot(\n",
    "        ts, \n",
    "        capital,\n",
    "        title=\"Proces Ryzyka: u=$u, c=$c\",\n",
    "        xlabel=\"t\",\n",
    "        ylabel=\"Kapitał\",\n",
    "        legend=nothing\n",
    "    )\n",
    "\n",
    "end"
   ]
  },
  {
   "cell_type": "code",
   "execution_count": null,
   "metadata": {},
   "outputs": [],
   "source": [
    "plot_risk_trajectory(20, 1, Exponential(1), 3, 1)"
   ]
  },
  {
   "cell_type": "markdown",
   "metadata": {},
   "source": [
    "Jeśli przez $\\tau$ oznaczymy zmienną losową określającą pierwszy moment, w którym kapitał w procesie ryzyka spadnie poniżej 0, to prawdopodbieństwo ruiny w czasie $t$ można zapisać jako $\\mathbf{P}(\\tau \\le t)$. Oznacza to, że oszacowanie prawdopodbieństwa ruiny w czasie $t$ sprowadza się do obliczenia wartości dystrybuanty empirycznej próby zmiennych $\\tau$ w tym punkcie."
   ]
  },
  {
   "cell_type": "code",
   "execution_count": null,
   "metadata": {},
   "outputs": [],
   "source": [
    "# Wygenerowanie próby losowej zmiennych τ\n",
    "function get_tau_sample(T::Real, λ::Real, d::Distribution, u::Real, c::Real; sample_size::Integer=100)\n",
    "   \n",
    "    taus = zeros(sample_size)\n",
    "    \n",
    "    for i in 1:sample_size\n",
    "        \n",
    "        ts, capital = risk_proc(T::Real, λ::Real, d::Distribution, u::Real, c::Real)\n",
    "        # Moment w którym pierwszy raz kapitał spada poniżej 0\n",
    "        bankrupcy_idx = findfirst(x -> x < 0, capital)\n",
    "        # W przypadku gdy nie doszło do ruiny w rozpatrywanym przez nas przedziale czasowym\n",
    "        # za τ dajemy T, tym samym interpretowanie wyników będzie miało sens tylko w przyadku t < T. \n",
    "        taus[i] = isnothing(bankrupcy_idx) ? T : ts[bankrupcy_idx]\n",
    "        \n",
    "    end\n",
    "    \n",
    "    return taus\n",
    "end"
   ]
  },
  {
   "cell_type": "code",
   "execution_count": null,
   "metadata": {},
   "outputs": [],
   "source": [
    "# Wykres dystrybuanty empirycznej\n",
    "function plot_tau_ecdf(T::Real, λ::Real, d::Distribution, u::Real, c::Real; sample_size::Integer=100)\n",
    "   \n",
    "    sample = get_tau_sample(T, λ, d, u, c; sample_size)\n",
    "    ecdfplot(sample, xlabel=\"t\", ylabel=\"Prawdopodobieństwo ruiny do czasu t\", title=\"Kapitał początkowy: $u \\nDryf: $c\", label=nothing, ylims=(0, 1))\n",
    "    \n",
    "end"
   ]
  },
  {
   "cell_type": "code",
   "execution_count": null,
   "metadata": {},
   "outputs": [],
   "source": [
    "plot_tau_ecdf(100, 1, Exponential(1), 3, 0.7)"
   ]
  },
  {
   "cell_type": "markdown",
   "metadata": {},
   "source": [
    "Zwiększając rozmiar losowanej próby zmiennych $\\tau$ jesteśmy w stanie zwiększyć dokładność z jaką szacujemy prawdopodobieństwo zajścia ruiny. Poniżej ten sam wykres z 10-krotnie większą próbą."
   ]
  },
  {
   "cell_type": "code",
   "execution_count": null,
   "metadata": {},
   "outputs": [],
   "source": [
    "plot_tau_ecdf(100, 1, Exponential(1), 3, 0.7; sample_size=1000)"
   ]
  },
  {
   "cell_type": "markdown",
   "metadata": {},
   "source": [
    "## Zadanie 5"
   ]
  },
  {
   "cell_type": "markdown",
   "metadata": {},
   "source": [
    "**Rozkład stacjonarny Łańcucha Markowa**"
   ]
  },
  {
   "cell_type": "code",
   "execution_count": null,
   "metadata": {},
   "outputs": [],
   "source": [
    "# Macierz przejścia łańcucha\n",
    "transition_matrix = [0.5 0.5 0; 0 0.5 0.5; 0.5 0 0.5]"
   ]
  },
  {
   "cell_type": "code",
   "execution_count": null,
   "metadata": {},
   "outputs": [],
   "source": [
    "# Trajektoria łańcucha Markowa\n",
    "function markov_chain_traj(start, steps::Integer)\n",
    "         \n",
    "    trajectory = zeros(Int, steps)\n",
    "    trajectory[1] = start\n",
    "\n",
    "    for i in 2:steps\n",
    "\n",
    "        # Aktualny stan\n",
    "        current = trajectory[i - 1]\n",
    "\n",
    "        # Przejście w kolejny stan \n",
    "        next = findfirst(isequal(1), rand(Multinomial(1, transition_matrix[current, :])))\n",
    "        trajectory[i] = next\n",
    "        \n",
    "    end\n",
    "    \n",
    "    return trajectory\n",
    "end"
   ]
  },
  {
   "cell_type": "markdown",
   "metadata": {},
   "source": [
    "Poniżej przedstawiona została przykładowa trajektoria łańcucha Markowa o zdefiniowanej wyżej macierzy przejścia."
   ]
  },
  {
   "cell_type": "code",
   "execution_count": null,
   "metadata": {},
   "outputs": [],
   "source": [
    "traj = markov_chain_traj(1, 20)\n",
    "scatter(1:length(traj), traj, label=nothing, title=\"Trajektoria łańcucha Markowa\", xticks=1:length(traj), yticks=1:3)"
   ]
  },
  {
   "cell_type": "code",
   "execution_count": null,
   "metadata": {},
   "outputs": [],
   "source": [
    "# Estymacja rozkładu stacjonarnego. Rozkład stanów łańcuhca w czasie `time`. \n",
    "function stationary_dist(time::Integer; num_of_runs::Integer=1000)\n",
    "        \n",
    "    final_states = zeros(num_of_runs, 3)\n",
    "    \n",
    "    for start_state in 1:3\n",
    "        for i in 1:num_of_runs\n",
    "            trajectory = markov_chain_traj(start_state, time)\n",
    "            final_states[i, start_state] = trajectory[end]\n",
    "        end\n",
    "    end\n",
    "    \n",
    "    histogram(\n",
    "        final_states,\n",
    "        normalize=:probability,\n",
    "        label=nothing,\n",
    "        title=[\"Stan początkowy: $i\" for j in 1:1, i in 1:3],\n",
    "        xticks=1:3,\n",
    "        layout=@layout grid(3, 1)\n",
    "    )\n",
    "end"
   ]
  },
  {
   "cell_type": "markdown",
   "metadata": {},
   "source": [
    "Stan stacjonarny łańcucha"
   ]
  },
  {
   "cell_type": "code",
   "execution_count": null,
   "metadata": {},
   "outputs": [],
   "source": [
    "stationary_dist(1000)"
   ]
  },
  {
   "cell_type": "markdown",
   "metadata": {},
   "source": [
    "**Rozkładem stacjonarnym** łańcucha Markowa o macierzy przejścia $\\mathbf{P}$ nazywamy taki wektor $\\mathbf{\\pi}$, że \n",
    "$$ \\mathbf{\\pi}\\,\\mathbf{P} = \\mathbf{\\pi}$$\n",
    "oraz $\\sum \\mathbf{\\pi} = 1$"
   ]
  },
  {
   "cell_type": "markdown",
   "metadata": {},
   "source": [
    "Rozkład stacjonarny możemy znaleźć korzystając z wektrów własnych macierzy przejścia."
   ]
  },
  {
   "cell_type": "code",
   "execution_count": null,
   "metadata": {},
   "outputs": [],
   "source": [
    "eigen(transition_matrix)"
   ]
  },
  {
   "cell_type": "code",
   "execution_count": null,
   "metadata": {},
   "outputs": [],
   "source": [
    "eigvec = real.(eigvecs(transition_matrix)[:, 3])\n",
    "println(\"Rozkład stacjonarny: \")\n",
    "eigvec ./ sum(eigvec)"
   ]
  },
  {
   "cell_type": "markdown",
   "metadata": {},
   "source": [
    "Jak widać wyznaczony powyżej rozkład stacjonarny odpowiada temu otrzymanemu numerycznie."
   ]
  },
  {
   "cell_type": "markdown",
   "metadata": {},
   "source": [
    "## Zadanie 6"
   ]
  },
  {
   "cell_type": "markdown",
   "metadata": {},
   "source": [
    "**Czas wyjścia**"
   ]
  },
  {
   "cell_type": "markdown",
   "metadata": {},
   "source": [
    "Dwuwymiarowy ruch Browna definiujemy jako \n",
    "$$\\mathbf{W} = \\left(\\mathbf{W_1}, \\mathbf{W_2}\\right)$$\n",
    "gdzie $\\mathbf{W_1}$ i $\\mathbf{W_2}$ są niezależnymi od siebie, jednowymiarowymi procesami Wienera."
   ]
  },
  {
   "cell_type": "markdown",
   "metadata": {},
   "source": [
    "Do wygenerowania procesu Wienera wykorzystamy fakt, że \n",
    "* $W_0 = 0$\n",
    "* Proces Wienera ma przyrosty niezależne.\n",
    "* $W_t - W_s \\sim N(0, t - s)$\n",
    "* Proces Wienera ma ciągłą trajektorię."
   ]
  },
  {
   "cell_type": "code",
   "execution_count": null,
   "metadata": {},
   "outputs": [],
   "source": [
    "# Dwuwymiarowy ruch Browna\n",
    "function brown(times::AbstractVector)\n",
    "\n",
    "    Δts = diff(times)\n",
    "    pushfirst!(Δts, times[1])\n",
    "\n",
    "    incs = randn(length(times), 2) .* sqrt.(Δts) # Przyrosty z rozkładu N(0, Δt)\n",
    "\n",
    "    return cumsum(incs, dims=1)\n",
    "\n",
    "end"
   ]
  },
  {
   "cell_type": "code",
   "execution_count": null,
   "metadata": {},
   "outputs": [],
   "source": [
    "# Wykres trajektorii dwuwymiarowego ruchu Browna\n",
    "function plot_brown(times::AbstractVector; kwargs...)\n",
    "        \n",
    "    traj = brown(times)\n",
    "    plot(traj[:,1], traj[:,2]; kwargs..., aspect_ratio=1)\n",
    "    scatter!([0], [0], markersize=3, color=:red, label=\"Punkt początkowy\")\n",
    "    \n",
    "end"
   ]
  },
  {
   "cell_type": "code",
   "execution_count": null,
   "metadata": {},
   "outputs": [],
   "source": [
    "plot_brown(0:0.01:10, label=\"Trajektoria ruchu Browna\", title=\"Dwuwymiarowy ruch Browna\")"
   ]
  },
  {
   "cell_type": "code",
   "execution_count": null,
   "metadata": {},
   "outputs": [],
   "source": [
    "# Moment wyjścia ruchu Browna z koła jednostkowego\n",
    "function first_passage_time(times::AbstractVector)\n",
    "    \n",
    "    Δts = diff(times)\n",
    "    pushfirst!(Δts, 0)\n",
    "    x = y = 0\n",
    "    \n",
    "    for (t, Δt) in zip(times, Δts)\n",
    "        if x^2 + y^2 > 1\n",
    "            return t\n",
    "        end\n",
    "        x += randn() * sqrt(Δt)\n",
    "        y += randn() * sqrt(Δt)\n",
    "    end\n",
    "    \n",
    "    error(\"Proces nie opuścił koła jednostkowego w zadanym przedziale czasowym\")\n",
    "    \n",
    "end"
   ]
  },
  {
   "cell_type": "code",
   "execution_count": null,
   "metadata": {},
   "outputs": [],
   "source": [
    "# Rozkład momentów wyjścia ruchu Browna.\n",
    "function first_passage_time_dist(times::AbstractVector; num_of_runs::Integer=1000)\n",
    "    fp_times = zeros(num_of_runs)\n",
    "    for i in 1:num_of_runs\n",
    "        fp_times[i] = first_passage_time(times)\n",
    "    end\n",
    "    histogram(fp_times, normalize=:pdf, label=\"Rozkład czasu wyjścia z koła jednostkowego\", xlabel=\"Czas wyjścia\")\n",
    "end"
   ]
  },
  {
   "cell_type": "code",
   "execution_count": null,
   "metadata": {},
   "outputs": [],
   "source": [
    "first_passage_time_dist(0:0.001:10; num_of_runs=10_000)"
   ]
  },
  {
   "cell_type": "markdown",
   "metadata": {},
   "source": [
    "Rozkład czasu wyjścia dla jednowymiarowego ruchu Browna jest rozkładem $\\frac{1}{2}$-stabilnym, czyli rozkładem Levy'ego. W przypadku dwuwymiarowym rozkład ten nie posiada znanej analitycznej postaci. Możemy jednak przeprowadzić analizę tego rozkładu na podstawie wyniku symulacji. "
   ]
  },
  {
   "cell_type": "code",
   "execution_count": null,
   "metadata": {},
   "outputs": [],
   "source": [
    "fp_times = zeros(10_000)\n",
    "for i in 1:10_000\n",
    "    fp_times[i] = first_passage_time(0:0.001:10)\n",
    "end\n",
    "\n",
    "println(\"Najwcześniejszy czas wyjścia:          $(minimum(fp_times))\")\n",
    "println(\"Najpóźniejszy czas wyjścia:            $(maximum(fp_times))\")\n",
    "println(\"Średni czas wyjścia:                   $(round(mean(fp_times), digits=3))\")\n",
    "println(\"Odchylenie standardowe czasu wyjścia:  $(round(std(fp_times), digits=3))\")\n",
    "println(\"Pierwszy kwartyl czasu wyjścia:        $(quantile(fp_times, 0.25))\")\n",
    "println(\"Drugi kwartyl (mediana) czasu wyjścia: $(quantile(fp_times, 0.5))\")\n",
    "println(\"Trzeci kwartyl czasu wyjścia:          $(quantile(fp_times, 0.75))\")\n",
    "\n",
    "boxplot(fp_times, title=\"Wykres pudełkowy rozkładu czasu wyjścia\", label=nothing, orientation=:h)"
   ]
  }
 ],
 "metadata": {
  "kernelspec": {
   "display_name": "Julia 1.9.1",
   "language": "julia",
   "name": "julia-1.9"
  },
  "language_info": {
   "file_extension": ".jl",
   "mimetype": "application/julia",
   "name": "julia",
   "version": "1.9.1"
  }
 },
 "nbformat": 4,
 "nbformat_minor": 4
}
